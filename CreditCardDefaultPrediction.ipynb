{
  "cells": [
    {
      "cell_type": "markdown",
      "metadata": {
        "id": "vncDsAP0Gaoa"
      },
      "source": [
        "# **Project Name**    - CreditCard Default Prediction\n",
        "\n"
      ]
    },
    {
      "cell_type": "markdown",
      "metadata": {
        "id": "beRrZCGUAJYm"
      },
      "source": [
        "##### **Project Type**    - Classification\n",
        "##### **Contribution**    - Individual\n",
        "##### **Team Member 1 -** Md Ismail Quraishi"
      ]
    },
    {
      "cell_type": "markdown",
      "metadata": {
        "id": "FJNUwmbgGyua"
      },
      "source": [
        "# **Project Summary -**"
      ]
    },
    {
      "cell_type": "markdown",
      "metadata": {
        "id": "F6v_1wHtG2nS"
      },
      "source": [
        "Customer default predicton is  extremly important for banking sectors as it identifies the customers who are likely to not pay the installments or principal.\n",
        "In banking industry customers are not able to pay the installments but still they ask for loan, later if they do not able to repay the loan money then it will be a big lose to the banking business and economy. In this problem we will analysis the customer's data and build a machine learning model which can automatically predict who all the customers are default and in future will not able to repay the loan amount."
      ]
    },
    {
      "cell_type": "markdown",
      "metadata": {
        "id": "w6K7xa23Elo4"
      },
      "source": [
        "# **GitHub Link -**"
      ]
    },
    {
      "cell_type": "markdown",
      "metadata": {
        "id": "h1o69JH3Eqqn"
      },
      "source": [
        "https://github.com/mdismailquraishicse/capstone_project_3_claffication_creditcard_default"
      ]
    },
    {
      "cell_type": "markdown",
      "metadata": {
        "id": "yQaldy8SH6Dl"
      },
      "source": [
        "# **Problem Statement**\n"
      ]
    },
    {
      "cell_type": "markdown",
      "metadata": {
        "id": "DpeJGUA3kjGy"
      },
      "source": [
        "**Avoid giving loans to those customers who are not able to repay the installments in future**"
      ]
    },
    {
      "cell_type": "markdown",
      "metadata": {
        "id": "mDgbUHAGgjLW"
      },
      "source": [
        "# **General Guidelines** : -  "
      ]
    },
    {
      "cell_type": "markdown",
      "metadata": {
        "id": "ZrxVaUj-hHfC"
      },
      "source": [
        "1.   Well-structured, formatted, and commented code is required. \n",
        "2.   Exception Handling, Production Grade Code & Deployment Ready Code will be a plus. Those students will be awarded some additional credits. \n",
        "     \n",
        "     The additional credits will have advantages over other students during Star Student selection.\n",
        "       \n",
        "             [ Note: - Deployment Ready Code is defined as, the whole .ipynb notebook should be executable in one go\n",
        "                       without a single error logged. ]\n",
        "\n",
        "3.   Each and every logic should have proper comments.\n",
        "4. You may add as many number of charts you want. Make Sure for each and every chart the following format should be answered.\n",
        "        \n",
        "\n",
        "```\n",
        "# Chart visualization code\n",
        "```\n",
        "            \n",
        "\n",
        "*   Why did you pick the specific chart?\n",
        "*   What is/are the insight(s) found from the chart?\n",
        "* Will the gained insights help creating a positive business impact? \n",
        "Are there any insights that lead to negative growth? Justify with specific reason.\n",
        "\n",
        "5. You have to create at least 15 logical & meaningful charts having important insights.\n",
        "\n",
        "\n",
        "[ Hints : - Do the Vizualization in  a structured way while following \"UBM\" Rule. \n",
        "\n",
        "U - Univariate Analysis,\n",
        "\n",
        "B - Bivariate Analysis (Numerical - Categorical, Numerical - Numerical, Categorical - Categorical)\n",
        "\n",
        "M - Multivariate Analysis\n",
        " ]\n",
        "\n",
        "\n",
        "\n",
        "\n",
        "\n",
        "6. You may add more ml algorithms for model creation. Make sure for each and every algorithm, the following format should be answered.\n",
        "\n",
        "\n",
        "*   Explain the ML Model used and it's performance using Evaluation metric Score Chart.\n",
        "\n",
        "\n",
        "*   Cross- Validation & Hyperparameter Tuning\n",
        "\n",
        "*   Have you seen any improvement? Note down the improvement with updates Evaluation metric Score Chart.\n",
        "\n",
        "*   Explain each evaluation metric's indication towards business and the business impact pf the ML model used.\n",
        "\n",
        "\n",
        "\n",
        "\n",
        "\n",
        "\n",
        "\n",
        "\n",
        "\n",
        "\n",
        "\n",
        "\n",
        "\n",
        "\n",
        "\n",
        "\n",
        "\n",
        "\n"
      ]
    },
    {
      "cell_type": "markdown",
      "metadata": {
        "id": "O_i_v8NEhb9l"
      },
      "source": [
        "# ***Let's Begin !***"
      ]
    },
    {
      "cell_type": "markdown",
      "metadata": {
        "id": "HhfV-JJviCcP"
      },
      "source": [
        "## ***1. Know Your Data***"
      ]
    },
    {
      "cell_type": "markdown",
      "metadata": {
        "id": "Y3lxredqlCYt"
      },
      "source": [
        "### Import Libraries"
      ]
    },
    {
      "cell_type": "code",
      "execution_count": 1,
      "metadata": {
        "id": "M8Vqi-pPk-HR"
      },
      "outputs": [],
      "source": [
        "# Import Libraries\n",
        "import numpy as np\n",
        "import pandas as pd\n",
        "import seaborn as sns\n",
        "import warnings\n",
        "import matplotlib.pyplot as plt\n",
        "from sklearn.preprocessing import MinMaxScaler,StandardScaler\n",
        "from sklearn.model_selection import GridSearchCV,train_test_split\n",
        "from sklearn.linear_model import LogisticRegression\n",
        "from sklearn.metrics import confusion_matrix,precision_score,recall_score,roc_auc_score,f1_score\n",
        "from sklearn.tree import DecisionTreeClassifier\n",
        "from imblearn.over_sampling import SMOTE\n",
        "from xgboost import XGBClassifier\n",
        "from sklearn.ensemble import IsolationForest\n",
        "from statsmodels.stats.outliers_influence import variance_inflation_factor\n",
        "from sklearn.naive_bayes import GaussianNB\n",
        "from sklearn.decomposition import PCA\n",
        "from sklearn.metrics import accuracy_score\n",
        "from sklearn import metrics\n",
        "import warnings\n",
        "from sklearn.ensemble import IsolationForest\n",
        "\n",
        "warnings.filterwarnings('ignore')"
      ]
    },
    {
      "cell_type": "markdown",
      "metadata": {
        "id": "3RnN4peoiCZX"
      },
      "source": [
        "### Dataset Loading"
      ]
    },
    {
      "cell_type": "code",
      "execution_count": 2,
      "metadata": {
        "colab": {
          "base_uri": "https://localhost:8080/"
        },
        "id": "WscQXMUF86FT",
        "outputId": "183a0ef9-fbb8-47ba-d768-9ee521ab5314"
      },
      "outputs": [
        {
          "output_type": "stream",
          "name": "stdout",
          "text": [
            "Mounted at /content/drive\n"
          ]
        }
      ],
      "source": [
        "# Mounting drive\n",
        "from google.colab import drive\n",
        "drive.mount('/content/drive')"
      ]
    },
    {
      "cell_type": "code",
      "execution_count": 3,
      "metadata": {
        "id": "4CkvbW_SlZ_R"
      },
      "outputs": [],
      "source": [
        "# Load Dataset\n",
        "path = '/content/drive/MyDrive/Almabetter/Cohort Nilgiri/Capstone Project/Classification/creditcard default predictons/default of credit card clients.xls'\n",
        "default_df = pd.read_excel(path)"
      ]
    },
    {
      "cell_type": "markdown",
      "metadata": {
        "id": "x71ZqKXriCWQ"
      },
      "source": [
        "### Dataset First View"
      ]
    },
    {
      "cell_type": "code",
      "execution_count": 4,
      "metadata": {
        "colab": {
          "base_uri": "https://localhost:8080/",
          "height": 369
        },
        "id": "LWNFOSvLl09H",
        "outputId": "235d17b8-76e1-4213-c428-1793ac940f1f"
      },
      "outputs": [
        {
          "output_type": "execute_result",
          "data": {
            "text/plain": [
              "  Unnamed: 0         X1   X2         X3        X4   X5     X6     X7     X8  \\\n",
              "0         ID  LIMIT_BAL  SEX  EDUCATION  MARRIAGE  AGE  PAY_0  PAY_2  PAY_3   \n",
              "1          1      20000    2          2         1   24      2      2     -1   \n",
              "2          2     120000    2          2         2   26     -1      2      0   \n",
              "3          3      90000    2          2         2   34      0      0      0   \n",
              "4          4      50000    2          2         1   37      0      0      0   \n",
              "\n",
              "      X9  ...        X15        X16        X17       X18       X19       X20  \\\n",
              "0  PAY_4  ...  BILL_AMT4  BILL_AMT5  BILL_AMT6  PAY_AMT1  PAY_AMT2  PAY_AMT3   \n",
              "1     -1  ...          0          0          0         0       689         0   \n",
              "2      0  ...       3272       3455       3261         0      1000      1000   \n",
              "3      0  ...      14331      14948      15549      1518      1500      1000   \n",
              "4      0  ...      28314      28959      29547      2000      2019      1200   \n",
              "\n",
              "        X21       X22       X23                           Y  \n",
              "0  PAY_AMT4  PAY_AMT5  PAY_AMT6  default payment next month  \n",
              "1         0         0         0                           1  \n",
              "2      1000         0      2000                           1  \n",
              "3      1000      1000      5000                           0  \n",
              "4      1100      1069      1000                           0  \n",
              "\n",
              "[5 rows x 25 columns]"
            ],
            "text/html": [
              "\n",
              "  <div id=\"df-10010f92-259b-4279-88d4-135c5e995723\">\n",
              "    <div class=\"colab-df-container\">\n",
              "      <div>\n",
              "<style scoped>\n",
              "    .dataframe tbody tr th:only-of-type {\n",
              "        vertical-align: middle;\n",
              "    }\n",
              "\n",
              "    .dataframe tbody tr th {\n",
              "        vertical-align: top;\n",
              "    }\n",
              "\n",
              "    .dataframe thead th {\n",
              "        text-align: right;\n",
              "    }\n",
              "</style>\n",
              "<table border=\"1\" class=\"dataframe\">\n",
              "  <thead>\n",
              "    <tr style=\"text-align: right;\">\n",
              "      <th></th>\n",
              "      <th>Unnamed: 0</th>\n",
              "      <th>X1</th>\n",
              "      <th>X2</th>\n",
              "      <th>X3</th>\n",
              "      <th>X4</th>\n",
              "      <th>X5</th>\n",
              "      <th>X6</th>\n",
              "      <th>X7</th>\n",
              "      <th>X8</th>\n",
              "      <th>X9</th>\n",
              "      <th>...</th>\n",
              "      <th>X15</th>\n",
              "      <th>X16</th>\n",
              "      <th>X17</th>\n",
              "      <th>X18</th>\n",
              "      <th>X19</th>\n",
              "      <th>X20</th>\n",
              "      <th>X21</th>\n",
              "      <th>X22</th>\n",
              "      <th>X23</th>\n",
              "      <th>Y</th>\n",
              "    </tr>\n",
              "  </thead>\n",
              "  <tbody>\n",
              "    <tr>\n",
              "      <th>0</th>\n",
              "      <td>ID</td>\n",
              "      <td>LIMIT_BAL</td>\n",
              "      <td>SEX</td>\n",
              "      <td>EDUCATION</td>\n",
              "      <td>MARRIAGE</td>\n",
              "      <td>AGE</td>\n",
              "      <td>PAY_0</td>\n",
              "      <td>PAY_2</td>\n",
              "      <td>PAY_3</td>\n",
              "      <td>PAY_4</td>\n",
              "      <td>...</td>\n",
              "      <td>BILL_AMT4</td>\n",
              "      <td>BILL_AMT5</td>\n",
              "      <td>BILL_AMT6</td>\n",
              "      <td>PAY_AMT1</td>\n",
              "      <td>PAY_AMT2</td>\n",
              "      <td>PAY_AMT3</td>\n",
              "      <td>PAY_AMT4</td>\n",
              "      <td>PAY_AMT5</td>\n",
              "      <td>PAY_AMT6</td>\n",
              "      <td>default payment next month</td>\n",
              "    </tr>\n",
              "    <tr>\n",
              "      <th>1</th>\n",
              "      <td>1</td>\n",
              "      <td>20000</td>\n",
              "      <td>2</td>\n",
              "      <td>2</td>\n",
              "      <td>1</td>\n",
              "      <td>24</td>\n",
              "      <td>2</td>\n",
              "      <td>2</td>\n",
              "      <td>-1</td>\n",
              "      <td>-1</td>\n",
              "      <td>...</td>\n",
              "      <td>0</td>\n",
              "      <td>0</td>\n",
              "      <td>0</td>\n",
              "      <td>0</td>\n",
              "      <td>689</td>\n",
              "      <td>0</td>\n",
              "      <td>0</td>\n",
              "      <td>0</td>\n",
              "      <td>0</td>\n",
              "      <td>1</td>\n",
              "    </tr>\n",
              "    <tr>\n",
              "      <th>2</th>\n",
              "      <td>2</td>\n",
              "      <td>120000</td>\n",
              "      <td>2</td>\n",
              "      <td>2</td>\n",
              "      <td>2</td>\n",
              "      <td>26</td>\n",
              "      <td>-1</td>\n",
              "      <td>2</td>\n",
              "      <td>0</td>\n",
              "      <td>0</td>\n",
              "      <td>...</td>\n",
              "      <td>3272</td>\n",
              "      <td>3455</td>\n",
              "      <td>3261</td>\n",
              "      <td>0</td>\n",
              "      <td>1000</td>\n",
              "      <td>1000</td>\n",
              "      <td>1000</td>\n",
              "      <td>0</td>\n",
              "      <td>2000</td>\n",
              "      <td>1</td>\n",
              "    </tr>\n",
              "    <tr>\n",
              "      <th>3</th>\n",
              "      <td>3</td>\n",
              "      <td>90000</td>\n",
              "      <td>2</td>\n",
              "      <td>2</td>\n",
              "      <td>2</td>\n",
              "      <td>34</td>\n",
              "      <td>0</td>\n",
              "      <td>0</td>\n",
              "      <td>0</td>\n",
              "      <td>0</td>\n",
              "      <td>...</td>\n",
              "      <td>14331</td>\n",
              "      <td>14948</td>\n",
              "      <td>15549</td>\n",
              "      <td>1518</td>\n",
              "      <td>1500</td>\n",
              "      <td>1000</td>\n",
              "      <td>1000</td>\n",
              "      <td>1000</td>\n",
              "      <td>5000</td>\n",
              "      <td>0</td>\n",
              "    </tr>\n",
              "    <tr>\n",
              "      <th>4</th>\n",
              "      <td>4</td>\n",
              "      <td>50000</td>\n",
              "      <td>2</td>\n",
              "      <td>2</td>\n",
              "      <td>1</td>\n",
              "      <td>37</td>\n",
              "      <td>0</td>\n",
              "      <td>0</td>\n",
              "      <td>0</td>\n",
              "      <td>0</td>\n",
              "      <td>...</td>\n",
              "      <td>28314</td>\n",
              "      <td>28959</td>\n",
              "      <td>29547</td>\n",
              "      <td>2000</td>\n",
              "      <td>2019</td>\n",
              "      <td>1200</td>\n",
              "      <td>1100</td>\n",
              "      <td>1069</td>\n",
              "      <td>1000</td>\n",
              "      <td>0</td>\n",
              "    </tr>\n",
              "  </tbody>\n",
              "</table>\n",
              "<p>5 rows × 25 columns</p>\n",
              "</div>\n",
              "      <button class=\"colab-df-convert\" onclick=\"convertToInteractive('df-10010f92-259b-4279-88d4-135c5e995723')\"\n",
              "              title=\"Convert this dataframe to an interactive table.\"\n",
              "              style=\"display:none;\">\n",
              "        \n",
              "  <svg xmlns=\"http://www.w3.org/2000/svg\" height=\"24px\"viewBox=\"0 0 24 24\"\n",
              "       width=\"24px\">\n",
              "    <path d=\"M0 0h24v24H0V0z\" fill=\"none\"/>\n",
              "    <path d=\"M18.56 5.44l.94 2.06.94-2.06 2.06-.94-2.06-.94-.94-2.06-.94 2.06-2.06.94zm-11 1L8.5 8.5l.94-2.06 2.06-.94-2.06-.94L8.5 2.5l-.94 2.06-2.06.94zm10 10l.94 2.06.94-2.06 2.06-.94-2.06-.94-.94-2.06-.94 2.06-2.06.94z\"/><path d=\"M17.41 7.96l-1.37-1.37c-.4-.4-.92-.59-1.43-.59-.52 0-1.04.2-1.43.59L10.3 9.45l-7.72 7.72c-.78.78-.78 2.05 0 2.83L4 21.41c.39.39.9.59 1.41.59.51 0 1.02-.2 1.41-.59l7.78-7.78 2.81-2.81c.8-.78.8-2.07 0-2.86zM5.41 20L4 18.59l7.72-7.72 1.47 1.35L5.41 20z\"/>\n",
              "  </svg>\n",
              "      </button>\n",
              "      \n",
              "  <style>\n",
              "    .colab-df-container {\n",
              "      display:flex;\n",
              "      flex-wrap:wrap;\n",
              "      gap: 12px;\n",
              "    }\n",
              "\n",
              "    .colab-df-convert {\n",
              "      background-color: #E8F0FE;\n",
              "      border: none;\n",
              "      border-radius: 50%;\n",
              "      cursor: pointer;\n",
              "      display: none;\n",
              "      fill: #1967D2;\n",
              "      height: 32px;\n",
              "      padding: 0 0 0 0;\n",
              "      width: 32px;\n",
              "    }\n",
              "\n",
              "    .colab-df-convert:hover {\n",
              "      background-color: #E2EBFA;\n",
              "      box-shadow: 0px 1px 2px rgba(60, 64, 67, 0.3), 0px 1px 3px 1px rgba(60, 64, 67, 0.15);\n",
              "      fill: #174EA6;\n",
              "    }\n",
              "\n",
              "    [theme=dark] .colab-df-convert {\n",
              "      background-color: #3B4455;\n",
              "      fill: #D2E3FC;\n",
              "    }\n",
              "\n",
              "    [theme=dark] .colab-df-convert:hover {\n",
              "      background-color: #434B5C;\n",
              "      box-shadow: 0px 1px 3px 1px rgba(0, 0, 0, 0.15);\n",
              "      filter: drop-shadow(0px 1px 2px rgba(0, 0, 0, 0.3));\n",
              "      fill: #FFFFFF;\n",
              "    }\n",
              "  </style>\n",
              "\n",
              "      <script>\n",
              "        const buttonEl =\n",
              "          document.querySelector('#df-10010f92-259b-4279-88d4-135c5e995723 button.colab-df-convert');\n",
              "        buttonEl.style.display =\n",
              "          google.colab.kernel.accessAllowed ? 'block' : 'none';\n",
              "\n",
              "        async function convertToInteractive(key) {\n",
              "          const element = document.querySelector('#df-10010f92-259b-4279-88d4-135c5e995723');\n",
              "          const dataTable =\n",
              "            await google.colab.kernel.invokeFunction('convertToInteractive',\n",
              "                                                     [key], {});\n",
              "          if (!dataTable) return;\n",
              "\n",
              "          const docLinkHtml = 'Like what you see? Visit the ' +\n",
              "            '<a target=\"_blank\" href=https://colab.research.google.com/notebooks/data_table.ipynb>data table notebook</a>'\n",
              "            + ' to learn more about interactive tables.';\n",
              "          element.innerHTML = '';\n",
              "          dataTable['output_type'] = 'display_data';\n",
              "          await google.colab.output.renderOutput(dataTable, element);\n",
              "          const docLink = document.createElement('div');\n",
              "          docLink.innerHTML = docLinkHtml;\n",
              "          element.appendChild(docLink);\n",
              "        }\n",
              "      </script>\n",
              "    </div>\n",
              "  </div>\n",
              "  "
            ]
          },
          "metadata": {},
          "execution_count": 4
        }
      ],
      "source": [
        "# Dataset First Look\n",
        "default_df.head()"
      ]
    },
    {
      "cell_type": "markdown",
      "metadata": {
        "id": "7hBIi_osiCS2"
      },
      "source": [
        "### Dataset Rows & Columns count"
      ]
    },
    {
      "cell_type": "code",
      "execution_count": 5,
      "metadata": {
        "colab": {
          "base_uri": "https://localhost:8080/"
        },
        "id": "Kllu7SJgmLij",
        "outputId": "05b56645-b867-4012-ed17-c10424d0dd4c"
      },
      "outputs": [
        {
          "output_type": "execute_result",
          "data": {
            "text/plain": [
              "(30001, 25)"
            ]
          },
          "metadata": {},
          "execution_count": 5
        }
      ],
      "source": [
        "# Dataset Rows & Columns count\n",
        "default_df.shape"
      ]
    },
    {
      "cell_type": "markdown",
      "metadata": {
        "id": "JlHwYmJAmNHm"
      },
      "source": [
        "### Dataset Information"
      ]
    },
    {
      "cell_type": "code",
      "execution_count": 6,
      "metadata": {
        "colab": {
          "base_uri": "https://localhost:8080/"
        },
        "id": "e9hRXRi6meOf",
        "outputId": "e4a34a9e-b7f5-4ad9-ae9f-075c0d3e8fed"
      },
      "outputs": [
        {
          "output_type": "stream",
          "name": "stdout",
          "text": [
            "<class 'pandas.core.frame.DataFrame'>\n",
            "RangeIndex: 30001 entries, 0 to 30000\n",
            "Data columns (total 25 columns):\n",
            " #   Column      Non-Null Count  Dtype \n",
            "---  ------      --------------  ----- \n",
            " 0   Unnamed: 0  30001 non-null  object\n",
            " 1   X1          30001 non-null  object\n",
            " 2   X2          30001 non-null  object\n",
            " 3   X3          30001 non-null  object\n",
            " 4   X4          30001 non-null  object\n",
            " 5   X5          30001 non-null  object\n",
            " 6   X6          30001 non-null  object\n",
            " 7   X7          30001 non-null  object\n",
            " 8   X8          30001 non-null  object\n",
            " 9   X9          30001 non-null  object\n",
            " 10  X10         30001 non-null  object\n",
            " 11  X11         30001 non-null  object\n",
            " 12  X12         30001 non-null  object\n",
            " 13  X13         30001 non-null  object\n",
            " 14  X14         30001 non-null  object\n",
            " 15  X15         30001 non-null  object\n",
            " 16  X16         30001 non-null  object\n",
            " 17  X17         30001 non-null  object\n",
            " 18  X18         30001 non-null  object\n",
            " 19  X19         30001 non-null  object\n",
            " 20  X20         30001 non-null  object\n",
            " 21  X21         30001 non-null  object\n",
            " 22  X22         30001 non-null  object\n",
            " 23  X23         30001 non-null  object\n",
            " 24  Y           30001 non-null  object\n",
            "dtypes: object(25)\n",
            "memory usage: 5.7+ MB\n"
          ]
        }
      ],
      "source": [
        "# Dataset Info\n",
        "default_df.info()"
      ]
    },
    {
      "cell_type": "markdown",
      "metadata": {
        "id": "35m5QtbWiB9F"
      },
      "source": [
        "#### Duplicate Values"
      ]
    },
    {
      "cell_type": "code",
      "execution_count": 7,
      "metadata": {
        "colab": {
          "base_uri": "https://localhost:8080/"
        },
        "id": "1sLdpKYkmox0",
        "outputId": "f7288280-cf3e-44f0-d1fa-6ca86f36c185"
      },
      "outputs": [
        {
          "output_type": "execute_result",
          "data": {
            "text/plain": [
              "False    30001\n",
              "dtype: int64"
            ]
          },
          "metadata": {},
          "execution_count": 7
        }
      ],
      "source": [
        "# Dataset Duplicate Value Count\n",
        "default_df.duplicated().value_counts()"
      ]
    },
    {
      "cell_type": "markdown",
      "metadata": {
        "id": "PoPl-ycgm1ru"
      },
      "source": [
        "#### Missing Values/Null Values"
      ]
    },
    {
      "cell_type": "code",
      "execution_count": 8,
      "metadata": {
        "colab": {
          "base_uri": "https://localhost:8080/"
        },
        "id": "GgHWkxvamxVg",
        "outputId": "cd5b12d2-8491-4f56-8043-adf33251fdb3"
      },
      "outputs": [
        {
          "output_type": "execute_result",
          "data": {
            "text/plain": [
              "{'Unnamed: 0': 0,\n",
              " 'X1': 0,\n",
              " 'X2': 0,\n",
              " 'X3': 0,\n",
              " 'X4': 0,\n",
              " 'X5': 0,\n",
              " 'X6': 0,\n",
              " 'X7': 0,\n",
              " 'X8': 0,\n",
              " 'X9': 0,\n",
              " 'X10': 0,\n",
              " 'X11': 0,\n",
              " 'X12': 0,\n",
              " 'X13': 0,\n",
              " 'X14': 0,\n",
              " 'X15': 0,\n",
              " 'X16': 0,\n",
              " 'X17': 0,\n",
              " 'X18': 0,\n",
              " 'X19': 0,\n",
              " 'X20': 0,\n",
              " 'X21': 0,\n",
              " 'X22': 0,\n",
              " 'X23': 0,\n",
              " 'Y': 0}"
            ]
          },
          "metadata": {},
          "execution_count": 8
        }
      ],
      "source": [
        "# Missing Values/Null Values Count\n",
        "# function to calculate the number of null values\n",
        "def null_calculator(df):\n",
        "  try:\n",
        "    result = {}\n",
        "    for col in df.columns:\n",
        "      result[col] = len(df[df[col].isna() == True])\n",
        "    return result\n",
        "  except:\n",
        "    print('Invalid input')\n",
        "\n",
        "\n",
        "null_calculator(default_df)"
      ]
    },
    {
      "cell_type": "code",
      "execution_count": 9,
      "metadata": {
        "colab": {
          "base_uri": "https://localhost:8080/",
          "height": 376
        },
        "id": "3q5wnI3om9sJ",
        "outputId": "b433878e-daaf-4082-c1a8-5b685909c54b"
      },
      "outputs": [
        {
          "output_type": "display_data",
          "data": {
            "text/plain": [
              "<Figure size 1080x360 with 2 Axes>"
            ],
            "image/png": "[encoded data removed]"
          },
          "metadata": {
            "needs_background": "light"
          }
        }
      ],
      "source": [
        "# Visualizing the missing values\n",
        "# pd.Series(null_calculator(default_df)).plot.pie(autopct='%0.01f%%')\n",
        "plt.rcParams['figure.figsize'] = (15,5)\n",
        "sns.heatmap(default_df.isna(),cmap='coolwarm')\n",
        "plt.show()"
      ]
    },
    {
      "cell_type": "markdown",
      "metadata": {
        "id": "H0kj-8xxnORC"
      },
      "source": [
        "### What did you know about your dataset?"
      ]
    },
    {
      "cell_type": "markdown",
      "metadata": {
        "id": "gfoNAAC-nUe_"
      },
      "source": [
        "The dataset has 30001 rows and 25 columns where first row contains actual name of the columns. The dataset does not have any missing or duplicate value."
      ]
    },
    {
      "cell_type": "markdown",
      "metadata": {
        "id": "nA9Y7ga8ng1Z"
      },
      "source": [
        "## ***2. Understanding Your Variables***"
      ]
    },
    {
      "cell_type": "code",
      "execution_count": 10,
      "metadata": {
        "colab": {
          "base_uri": "https://localhost:8080/"
        },
        "id": "j7xfkqrt5Ag5",
        "outputId": "81dfbc48-696d-450e-a010-f1fb930d319c"
      },
      "outputs": [
        {
          "output_type": "execute_result",
          "data": {
            "text/plain": [
              "Index(['Unnamed: 0', 'X1', 'X2', 'X3', 'X4', 'X5', 'X6', 'X7', 'X8', 'X9',\n",
              "       'X10', 'X11', 'X12', 'X13', 'X14', 'X15', 'X16', 'X17', 'X18', 'X19',\n",
              "       'X20', 'X21', 'X22', 'X23', 'Y'],\n",
              "      dtype='object')"
            ]
          },
          "metadata": {},
          "execution_count": 10
        }
      ],
      "source": [
        "# Dataset Columns\n",
        "default_df.columns"
      ]
    },
    {
      "cell_type": "code",
      "execution_count": 11,
      "metadata": {
        "colab": {
          "base_uri": "https://localhost:8080/",
          "height": 256
        },
        "id": "DnOaZdaE5Q5t",
        "outputId": "32e1b218-ba21-4646-825c-182c2a9be447"
      },
      "outputs": [
        {
          "output_type": "execute_result",
          "data": {
            "text/plain": [
              "       Unnamed: 0     X1     X2     X3     X4     X5     X6     X7     X8  \\\n",
              "count       30001  30001  30001  30001  30001  30001  30001  30001  30001   \n",
              "unique      30001     82      3      8      5     57     12     12     12   \n",
              "top            ID  50000      2      2      2     29      0      0      0   \n",
              "freq            1   3365  18112  14030  15964   1605  14737  15730  15764   \n",
              "\n",
              "           X9    X10    X11    X12    X13    X14    X15    X16    X17    X18  \\\n",
              "count   30001  30001  30001  30001  30001  30001  30001  30001  30001  30001   \n",
              "unique     12     11     11  22724  22347  22027  21549  21011  20605   7944   \n",
              "top         0      0      0      0      0      0      0      0      0      0   \n",
              "freq    16455  16947  16286   2008   2506   2870   3195   3506   4020   5249   \n",
              "\n",
              "          X19    X20    X21    X22    X23      Y  \n",
              "count   30001  30001  30001  30001  30001  30001  \n",
              "unique   7900   7519   6938   6898   6940      3  \n",
              "top         0      0      0      0      0      0  \n",
              "freq     5396   5968   6408   6703   7173  23364  "
            ],
            "text/html": [
              "\n",
              "  <div id=\"df-f0e920e9-b669-4703-81c6-9f575c07ef61\">\n",
              "    <div class=\"colab-df-container\">\n",
              "      <div>\n",
              "<style scoped>\n",
              "    .dataframe tbody tr th:only-of-type {\n",
              "        vertical-align: middle;\n",
              "    }\n",
              "\n",
              "    .dataframe tbody tr th {\n",
              "        vertical-align: top;\n",
              "    }\n",
              "\n",
              "    .dataframe thead th {\n",
              "        text-align: right;\n",
              "    }\n",
              "</style>\n",
              "<table border=\"1\" class=\"dataframe\">\n",
              "  <thead>\n",
              "    <tr style=\"text-align: right;\">\n",
              "      <th></th>\n",
              "      <th>Unnamed: 0</th>\n",
              "      <th>X1</th>\n",
              "      <th>X2</th>\n",
              "      <th>X3</th>\n",
              "      <th>X4</th>\n",
              "      <th>X5</th>\n",
              "      <th>X6</th>\n",
              "      <th>X7</th>\n",
              "      <th>X8</th>\n",
              "      <th>X9</th>\n",
              "      <th>X10</th>\n",
              "      <th>X11</th>\n",
              "      <th>X12</th>\n",
              "      <th>X13</th>\n",
              "      <th>X14</th>\n",
              "      <th>X15</th>\n",
              "      <th>X16</th>\n",
              "      <th>X17</th>\n",
              "      <th>X18</th>\n",
              "      <th>X19</th>\n",
              "      <th>X20</th>\n",
              "      <th>X21</th>\n",
              "      <th>X22</th>\n",
              "      <th>X23</th>\n",
              "      <th>Y</th>\n",
              "    </tr>\n",
              "  </thead>\n",
              "  <tbody>\n",
              "    <tr>\n",
              "      <th>count</th>\n",
              "      <td>30001</td>\n",
              "      <td>30001</td>\n",
              "      <td>30001</td>\n",
              "      <td>30001</td>\n",
              "      <td>30001</td>\n",
              "      <td>30001</td>\n",
              "      <td>30001</td>\n",
              "      <td>30001</td>\n",
              "      <td>30001</td>\n",
              "      <td>30001</td>\n",
              "      <td>30001</td>\n",
              "      <td>30001</td>\n",
              "      <td>30001</td>\n",
              "      <td>30001</td>\n",
              "      <td>30001</td>\n",
              "      <td>30001</td>\n",
              "      <td>30001</td>\n",
              "      <td>30001</td>\n",
              "      <td>30001</td>\n",
              "      <td>30001</td>\n",
              "      <td>30001</td>\n",
              "      <td>30001</td>\n",
              "      <td>30001</td>\n",
              "      <td>30001</td>\n",
              "      <td>30001</td>\n",
              "    </tr>\n",
              "    <tr>\n",
              "      <th>unique</th>\n",
              "      <td>30001</td>\n",
              "      <td>82</td>\n",
              "      <td>3</td>\n",
              "      <td>8</td>\n",
              "      <td>5</td>\n",
              "      <td>57</td>\n",
              "      <td>12</td>\n",
              "      <td>12</td>\n",
              "      <td>12</td>\n",
              "      <td>12</td>\n",
              "      <td>11</td>\n",
              "      <td>11</td>\n",
              "      <td>22724</td>\n",
              "      <td>22347</td>\n",
              "      <td>22027</td>\n",
              "      <td>21549</td>\n",
              "      <td>21011</td>\n",
              "      <td>20605</td>\n",
              "      <td>7944</td>\n",
              "      <td>7900</td>\n",
              "      <td>7519</td>\n",
              "      <td>6938</td>\n",
              "      <td>6898</td>\n",
              "      <td>6940</td>\n",
              "      <td>3</td>\n",
              "    </tr>\n",
              "    <tr>\n",
              "      <th>top</th>\n",
              "      <td>ID</td>\n",
              "      <td>50000</td>\n",
              "      <td>2</td>\n",
              "      <td>2</td>\n",
              "      <td>2</td>\n",
              "      <td>29</td>\n",
              "      <td>0</td>\n",
              "      <td>0</td>\n",
              "      <td>0</td>\n",
              "      <td>0</td>\n",
              "      <td>0</td>\n",
              "      <td>0</td>\n",
              "      <td>0</td>\n",
              "      <td>0</td>\n",
              "      <td>0</td>\n",
              "      <td>0</td>\n",
              "      <td>0</td>\n",
              "      <td>0</td>\n",
              "      <td>0</td>\n",
              "      <td>0</td>\n",
              "      <td>0</td>\n",
              "      <td>0</td>\n",
              "      <td>0</td>\n",
              "      <td>0</td>\n",
              "      <td>0</td>\n",
              "    </tr>\n",
              "    <tr>\n",
              "      <th>freq</th>\n",
              "      <td>1</td>\n",
              "      <td>3365</td>\n",
              "      <td>18112</td>\n",
              "      <td>14030</td>\n",
              "      <td>15964</td>\n",
              "      <td>1605</td>\n",
              "      <td>14737</td>\n",
              "      <td>15730</td>\n",
              "      <td>15764</td>\n",
              "      <td>16455</td>\n",
              "      <td>16947</td>\n",
              "      <td>16286</td>\n",
              "      <td>2008</td>\n",
              "      <td>2506</td>\n",
              "      <td>2870</td>\n",
              "      <td>3195</td>\n",
              "      <td>3506</td>\n",
              "      <td>4020</td>\n",
              "      <td>5249</td>\n",
              "      <td>5396</td>\n",
              "      <td>5968</td>\n",
              "      <td>6408</td>\n",
              "      <td>6703</td>\n",
              "      <td>7173</td>\n",
              "      <td>23364</td>\n",
              "    </tr>\n",
              "  </tbody>\n",
              "</table>\n",
              "</div>\n",
              "      <button class=\"colab-df-convert\" onclick=\"convertToInteractive('df-f0e920e9-b669-4703-81c6-9f575c07ef61')\"\n",
              "              title=\"Convert this dataframe to an interactive table.\"\n",
              "              style=\"display:none;\">\n",
              "        \n",
              "  <svg xmlns=\"http://www.w3.org/2000/svg\" height=\"24px\"viewBox=\"0 0 24 24\"\n",
              "       width=\"24px\">\n",
              "    <path d=\"M0 0h24v24H0V0z\" fill=\"none\"/>\n",
              "    <path d=\"M18.56 5.44l.94 2.06.94-2.06 2.06-.94-2.06-.94-.94-2.06-.94 2.06-2.06.94zm-11 1L8.5 8.5l.94-2.06 2.06-.94-2.06-.94L8.5 2.5l-.94 2.06-2.06.94zm10 10l.94 2.06.94-2.06 2.06-.94-2.06-.94-.94-2.06-.94 2.06-2.06.94z\"/><path d=\"M17.41 7.96l-1.37-1.37c-.4-.4-.92-.59-1.43-.59-.52 0-1.04.2-1.43.59L10.3 9.45l-7.72 7.72c-.78.78-.78 2.05 0 2.83L4 21.41c.39.39.9.59 1.41.59.51 0 1.02-.2 1.41-.59l7.78-7.78 2.81-2.81c.8-.78.8-2.07 0-2.86zM5.41 20L4 18.59l7.72-7.72 1.47 1.35L5.41 20z\"/>\n",
              "  </svg>\n",
              "      </button>\n",
              "      \n",
              "  <style>\n",
              "    .colab-df-container {\n",
              "      display:flex;\n",
              "      flex-wrap:wrap;\n",
              "      gap: 12px;\n",
              "    }\n",
              "\n",
              "    .colab-df-convert {\n",
              "      background-color: #E8F0FE;\n",
              "      border: none;\n",
              "      border-radius: 50%;\n",
              "      cursor: pointer;\n",
              "      display: none;\n",
              "      fill: #1967D2;\n",
              "      height: 32px;\n",
              "      padding: 0 0 0 0;\n",
              "      width: 32px;\n",
              "    }\n",
              "\n",
              "    .colab-df-convert:hover {\n",
              "      background-color: #E2EBFA;\n",
              "      box-shadow: 0px 1px 2px rgba(60, 64, 67, 0.3), 0px 1px 3px 1px rgba(60, 64, 67, 0.15);\n",
              "      fill: #174EA6;\n",
              "    }\n",
              "\n",
              "    [theme=dark] .colab-df-convert {\n",
              "      background-color: #3B4455;\n",
              "      fill: #D2E3FC;\n",
              "    }\n",
              "\n",
              "    [theme=dark] .colab-df-convert:hover {\n",
              "      background-color: #434B5C;\n",
              "      box-shadow: 0px 1px 3px 1px rgba(0, 0, 0, 0.15);\n",
              "      filter: drop-shadow(0px 1px 2px rgba(0, 0, 0, 0.3));\n",
              "      fill: #FFFFFF;\n",
              "    }\n",
              "  </style>\n",
              "\n",
              "      <script>\n",
              "        const buttonEl =\n",
              "          document.querySelector('#df-f0e920e9-b669-4703-81c6-9f575c07ef61 button.colab-df-convert');\n",
              "        buttonEl.style.display =\n",
              "          google.colab.kernel.accessAllowed ? 'block' : 'none';\n",
              "\n",
              "        async function convertToInteractive(key) {\n",
              "          const element = document.querySelector('#df-f0e920e9-b669-4703-81c6-9f575c07ef61');\n",
              "          const dataTable =\n",
              "            await google.colab.kernel.invokeFunction('convertToInteractive',\n",
              "                                                     [key], {});\n",
              "          if (!dataTable) return;\n",
              "\n",
              "          const docLinkHtml = 'Like what you see? Visit the ' +\n",
              "            '<a target=\"_blank\" href=https://colab.research.google.com/notebooks/data_table.ipynb>data table notebook</a>'\n",
              "            + ' to learn more about interactive tables.';\n",
              "          element.innerHTML = '';\n",
              "          dataTable['output_type'] = 'display_data';\n",
              "          await google.colab.output.renderOutput(dataTable, element);\n",
              "          const docLink = document.createElement('div');\n",
              "          docLink.innerHTML = docLinkHtml;\n",
              "          element.appendChild(docLink);\n",
              "        }\n",
              "      </script>\n",
              "    </div>\n",
              "  </div>\n",
              "  "
            ]
          },
          "metadata": {},
          "execution_count": 11
        }
      ],
      "source": [
        "# Dataset Describe\n",
        "pd.set_option('display.max_columns', None)\n",
        "default_df.describe()"
      ]
    },
    {
      "cell_type": "markdown",
      "metadata": {
        "id": "PBTbrJXOngz2"
      },
      "source": [
        "### Variables Description "
      ]
    },
    {
      "cell_type": "markdown",
      "metadata": {
        "id": "aJV4KIxSnxay"
      },
      "source": [
        "* 0 - ID of customers\n",
        "* X1 - Limit of the balance\n",
        "* X2 - Gender of the customers\n",
        "* X3 - Qualification of the customers\n",
        "* X4 - Marital Status\n",
        "* X5 - Age\n",
        "* X6,X7,X8,X9,X10,X11 - PAY0,PAY2,PAY3,PAY4,PAY5,PAY6\n",
        "* X12,X13,X14,X15,X16,X17 - BILL_AMT1 to BILL_AMT6\n",
        "* X18,X19,X20,X21,X22,X23 - PAY_AMT1 to PAT_AMT6\n",
        "* Y - Target variable that is next month default predicted customers."
      ]
    },
    {
      "cell_type": "markdown",
      "metadata": {
        "id": "u3PMJOP6ngxN"
      },
      "source": [
        "### Check Unique Values for each variable."
      ]
    },
    {
      "cell_type": "code",
      "execution_count": 12,
      "metadata": {
        "colab": {
          "base_uri": "https://localhost:8080/"
        },
        "id": "zms12Yq5n-jE",
        "outputId": "b975d579-47b4-4c53-8686-0c7128086282"
      },
      "outputs": [
        {
          "output_type": "stream",
          "name": "stdout",
          "text": [
            "Number of unique values for each variable is :\n"
          ]
        },
        {
          "output_type": "execute_result",
          "data": {
            "text/plain": [
              "Unnamed: 0    30001\n",
              "X1               82\n",
              "X2                3\n",
              "X3                8\n",
              "X4                5\n",
              "X5               57\n",
              "X6               12\n",
              "X7               12\n",
              "X8               12\n",
              "X9               12\n",
              "X10              11\n",
              "X11              11\n",
              "X12           22724\n",
              "X13           22347\n",
              "X14           22027\n",
              "X15           21549\n",
              "X16           21011\n",
              "X17           20605\n",
              "X18            7944\n",
              "X19            7900\n",
              "X20            7519\n",
              "X21            6938\n",
              "X22            6898\n",
              "X23            6940\n",
              "Y                 3\n",
              "dtype: int64"
            ]
          },
          "metadata": {},
          "execution_count": 12
        }
      ],
      "source": [
        "# Check Unique Values for each variable.\n",
        "print('Number of unique values for each variable is :')\n",
        "default_df.nunique()"
      ]
    },
    {
      "cell_type": "code",
      "execution_count": 13,
      "metadata": {
        "colab": {
          "base_uri": "https://localhost:8080/"
        },
        "id": "j3b3_27LFUW2",
        "outputId": "4ab5e3f3-582d-4338-cad5-306a07c7815d"
      },
      "outputs": [
        {
          "output_type": "stream",
          "name": "stdout",
          "text": [
            "Unnamed: 0  :  ['ID' 1 2 ... 29998 29999 30000]\n",
            "X1  :  ['LIMIT_BAL' 20000 120000 90000 50000 500000 100000 140000 200000 260000\n",
            " 630000 70000 250000 320000 360000 180000 130000 450000 60000 230000\n",
            " 160000 280000 10000 40000 210000 150000 380000 310000 400000 80000 290000\n",
            " 340000 300000 30000 240000 470000 480000 350000 330000 110000 420000\n",
            " 170000 370000 270000 220000 190000 510000 460000 440000 410000 490000\n",
            " 390000 580000 600000 620000 610000 700000 670000 680000 430000 550000\n",
            " 540000 1000000 530000 710000 560000 520000 750000 640000 16000 570000\n",
            " 590000 660000 720000 327680 740000 800000 760000 690000 650000 780000\n",
            " 730000]\n",
            "X2  :  ['SEX' 2 1]\n",
            "X3  :  ['EDUCATION' 2 1 3 5 4 6 0]\n",
            "X4  :  ['MARRIAGE' 1 2 3 0]\n",
            "X5  :  ['AGE' 24 26 34 37 57 29 23 28 35 51 41 30 49 39 40 27 47 33 32 54 58 22\n",
            " 25 31 46 42 43 45 56 44 53 38 63 36 52 48 55 60 50 75 61 73 59 21 67 66\n",
            " 62 70 72 64 65 71 69 68 79 74]\n",
            "X6  :  ['PAY_0' 2 -1 0 -2 1 3 4 8 7 5 6]\n",
            "X7  :  ['PAY_2' 2 0 -1 -2 3 5 7 4 1 6 8]\n",
            "X8  :  ['PAY_3' -1 0 2 -2 3 4 6 7 1 5 8]\n",
            "X9  :  ['PAY_4' -1 0 -2 2 3 4 5 7 6 1 8]\n",
            "X10  :  ['PAY_5' -2 0 -1 2 3 5 4 7 8 6]\n",
            "X11  :  ['PAY_6' -2 2 0 -1 3 6 4 7 8 5]\n",
            "X12  :  ['BILL_AMT1' 3913 2682 ... 1683 -1645 47929]\n",
            "X13  :  ['BILL_AMT2' 3102 1725 ... 3356 78379 48905]\n",
            "X14  :  ['BILL_AMT3' 689 2682 ... 2758 76304 49764]\n",
            "X15  :  ['BILL_AMT4' 0 3272 ... 20878 52774 36535]\n",
            "X16  :  ['BILL_AMT5' 0 3455 ... 31237 5190 32428]\n",
            "X17  :  ['BILL_AMT6' 0 3261 ... 19357 48944 15313]\n",
            "X18  :  ['PAY_AMT1' 0 1518 ... 10029 9054 85900]\n",
            "X19  :  ['PAY_AMT2' 689 1000 ... 2977 111784 3526]\n",
            "X20  :  ['PAY_AMT3' 0 1000 ... 349395 8907 25128]\n",
            "X21  :  ['PAY_AMT4' 0 1000 ... 2556 10115 8049]\n",
            "X22  :  ['PAY_AMT5' 0 1000 ... 8040 3319 52964]\n",
            "X23  :  ['PAY_AMT6' 0 2000 ... 70052 220076 16080]\n",
            "Y  :  ['default payment next month' 1 0]\n"
          ]
        }
      ],
      "source": [
        "# Unique values\n",
        "for col in default_df.columns:\n",
        "  print(col,' : ',default_df[col].unique())"
      ]
    },
    {
      "cell_type": "markdown",
      "metadata": {
        "id": "dauF4eBmngu3"
      },
      "source": [
        "## 3. ***Data Wrangling***"
      ]
    },
    {
      "cell_type": "markdown",
      "metadata": {
        "id": "bKJF3rekwFvQ"
      },
      "source": [
        "### Data Wrangling Code"
      ]
    },
    {
      "cell_type": "code",
      "source": [
        "# Write your code to make your dataset analysis ready.\n",
        "\n",
        "# Making a class for data wrangling\n",
        "class DefaultWrangling:\n",
        "  # columns to rename\n",
        "  renameCols = {\"Unnamed: 0\" : 'ID', 'X1':'LIMIT_BAL','X2':'SEX','X3':'EDUCATION','X4':'MARRIAGE','X5':'AGE',\n",
        "            'X6':'PAY_0','X7':'PAY_2','X8':'PAY_3','X9':'PAY_4','X10':'PAY_5','X11':'PAY_6',\n",
        "          'X12':'BILL_AMT1','X13':'BILL_AMT2','X14':'BILL_AMT3','X15':'BILL_AMT4','X16':'BILL_AMT5','X17':'BILL_AMT6',\n",
        "          'X18':'PAY_AMT1','X19':'PAY_AMT2','X20':'PAY_AMT3','X21':'PAY_AMT4','X22':'PAY_AMT5','X23':'PAY_AMT6','Y':'default'}\n",
        "\n",
        "  # Init method\n",
        "  def __init__(self,df):\n",
        "    self.df = df.copy()\n",
        "    self.df.rename(columns=self.renameCols,inplace = True)\n",
        "    self.df = self.df[ self.df['ID'] != 'ID']\n",
        "    print('New columns :')\n",
        "    print(list(self.df.columns))\n",
        "    for col in self.df.columns:\n",
        "      self.df[col] = self.df[col].apply(self.objectToInt)\n",
        "    self.df1 = self.makeTotalBillAndPaidAmt()\n",
        "  # Method to convert columns into int type\n",
        "  def objectToInt(self,col):\n",
        "    return int(col)\n",
        "  # Method to make columns total_bill_amt and total_paid_amt\n",
        "  def makeTotalBillAndPaidAmt(self):\n",
        "    df1 = self.df.copy()\n",
        "    df1['total_bill_amt'] = df1['BILL_AMT1'] + df1['BILL_AMT2']+ df1['BILL_AMT3']+ df1['BILL_AMT4']+ df1['BILL_AMT5']+ df1['BILL_AMT6']\n",
        "    df1['total_paid_amt'] = df1['PAY_AMT1'] + df1['PAY_AMT2'] + df1['PAY_AMT3'] + df1['PAY_AMT4'] + df1['PAY_AMT5'] + df1['PAY_AMT6']\n",
        "    for i in range(1,7):\n",
        "      df1.drop(columns=['BILL_AMT'+str(i)],inplace=True)\n",
        "      df1.drop(columns=['PAY_AMT'+str(i)],inplace=True)\n",
        "    return df1\n",
        "\n",
        "  # Method to get counts of default and non default\n",
        "  def getDefaultAndNonDefaultCounts(self):\n",
        "    return self.df1['default'].value_counts()\n",
        "  # Method to get default data frame\n",
        "  def getDefaultDF(self):\n",
        "    return self.df1[self.df1['default']==1]\n",
        "  # Method to get count of customers and default for a given column\n",
        "  def getDefaultCountsByCol(self,col):\n",
        "    df  = self.df1.copy()\n",
        "    df2 = df.groupby(col)['default'].sum().reset_index()\n",
        "    df2['customers'] = df.groupby(col)['default'].count().reset_index()['default']\n",
        "    df2['%_defalut'] = round(df2['default']/df2['customers'],4)*100\n",
        "    return df2\n",
        "\n",
        "\n",
        "\n",
        "defaultWrangling = DefaultWrangling(default_df)"
      ],
      "metadata": {
        "colab": {
          "base_uri": "https://localhost:8080/"
        },
        "id": "Ix7Hwm5CP95e",
        "outputId": "050e5c66-714e-4b1f-847f-d3ae8c30419d"
      },
      "execution_count": 108,
      "outputs": [
        {
          "output_type": "stream",
          "name": "stdout",
          "text": [
            "New columns :\n",
            "['ID', 'LIMIT_BAL', 'SEX', 'EDUCATION', 'MARRIAGE', 'AGE', 'PAY_0', 'PAY_2', 'PAY_3', 'PAY_4', 'PAY_5', 'PAY_6', 'BILL_AMT1', 'BILL_AMT2', 'BILL_AMT3', 'BILL_AMT4', 'BILL_AMT5', 'BILL_AMT6', 'PAY_AMT1', 'PAY_AMT2', 'PAY_AMT3', 'PAY_AMT4', 'PAY_AMT5', 'PAY_AMT6', 'default']\n"
          ]
        }
      ]
    },
    {
      "cell_type": "code",
      "execution_count": 110,
      "metadata": {
        "colab": {
          "base_uri": "https://localhost:8080/"
        },
        "id": "6qktPVoLJPys",
        "outputId": "78bae0d3-e2ca-4912-b606-40dec2712c3e"
      },
      "outputs": [
        {
          "output_type": "execute_result",
          "data": {
            "text/plain": [
              "0    23364\n",
              "1     6636\n",
              "Name: default, dtype: int64"
            ]
          },
          "metadata": {},
          "execution_count": 110
        }
      ],
      "source": [
        "# Count of default and non default\n",
        "defaultWrangling.getDefaultAndNonDefaultCounts()"
      ]
    },
    {
      "cell_type": "code",
      "execution_count": 98,
      "metadata": {
        "colab": {
          "base_uri": "https://localhost:8080/",
          "height": 112
        },
        "id": "SK1XrvqxKM1n",
        "outputId": "c2c3a43e-b3a3-4e66-d321-b9e6865a5fcb"
      },
      "outputs": [
        {
          "output_type": "execute_result",
          "data": {
            "text/plain": [
              "   SEX  default  customers  %_defalut\n",
              "0    1     2873      11888      24.17\n",
              "1    2     3763      18112      20.78"
            ],
            "text/html": [
              "\n",
              "  <div id=\"df-04e37087-90b2-4814-ad37-a925fe952998\">\n",
              "    <div class=\"colab-df-container\">\n",
              "      <div>\n",
              "<style scoped>\n",
              "    .dataframe tbody tr th:only-of-type {\n",
              "        vertical-align: middle;\n",
              "    }\n",
              "\n",
              "    .dataframe tbody tr th {\n",
              "        vertical-align: top;\n",
              "    }\n",
              "\n",
              "    .dataframe thead th {\n",
              "        text-align: right;\n",
              "    }\n",
              "</style>\n",
              "<table border=\"1\" class=\"dataframe\">\n",
              "  <thead>\n",
              "    <tr style=\"text-align: right;\">\n",
              "      <th></th>\n",
              "      <th>SEX</th>\n",
              "      <th>default</th>\n",
              "      <th>customers</th>\n",
              "      <th>%_defalut</th>\n",
              "    </tr>\n",
              "  </thead>\n",
              "  <tbody>\n",
              "    <tr>\n",
              "      <th>0</th>\n",
              "      <td>1</td>\n",
              "      <td>2873</td>\n",
              "      <td>11888</td>\n",
              "      <td>24.17</td>\n",
              "    </tr>\n",
              "    <tr>\n",
              "      <th>1</th>\n",
              "      <td>2</td>\n",
              "      <td>3763</td>\n",
              "      <td>18112</td>\n",
              "      <td>20.78</td>\n",
              "    </tr>\n",
              "  </tbody>\n",
              "</table>\n",
              "</div>\n",
              "      <button class=\"colab-df-convert\" onclick=\"convertToInteractive('df-04e37087-90b2-4814-ad37-a925fe952998')\"\n",
              "              title=\"Convert this dataframe to an interactive table.\"\n",
              "              style=\"display:none;\">\n",
              "        \n",
              "  <svg xmlns=\"http://www.w3.org/2000/svg\" height=\"24px\"viewBox=\"0 0 24 24\"\n",
              "       width=\"24px\">\n",
              "    <path d=\"M0 0h24v24H0V0z\" fill=\"none\"/>\n",
              "    <path d=\"M18.56 5.44l.94 2.06.94-2.06 2.06-.94-2.06-.94-.94-2.06-.94 2.06-2.06.94zm-11 1L8.5 8.5l.94-2.06 2.06-.94-2.06-.94L8.5 2.5l-.94 2.06-2.06.94zm10 10l.94 2.06.94-2.06 2.06-.94-2.06-.94-.94-2.06-.94 2.06-2.06.94z\"/><path d=\"M17.41 7.96l-1.37-1.37c-.4-.4-.92-.59-1.43-.59-.52 0-1.04.2-1.43.59L10.3 9.45l-7.72 7.72c-.78.78-.78 2.05 0 2.83L4 21.41c.39.39.9.59 1.41.59.51 0 1.02-.2 1.41-.59l7.78-7.78 2.81-2.81c.8-.78.8-2.07 0-2.86zM5.41 20L4 18.59l7.72-7.72 1.47 1.35L5.41 20z\"/>\n",
              "  </svg>\n",
              "      </button>\n",
              "      \n",
              "  <style>\n",
              "    .colab-df-container {\n",
              "      display:flex;\n",
              "      flex-wrap:wrap;\n",
              "      gap: 12px;\n",
              "    }\n",
              "\n",
              "    .colab-df-convert {\n",
              "      background-color: #E8F0FE;\n",
              "      border: none;\n",
              "      border-radius: 50%;\n",
              "      cursor: pointer;\n",
              "      display: none;\n",
              "      fill: #1967D2;\n",
              "      height: 32px;\n",
              "      padding: 0 0 0 0;\n",
              "      width: 32px;\n",
              "    }\n",
              "\n",
              "    .colab-df-convert:hover {\n",
              "      background-color: #E2EBFA;\n",
              "      box-shadow: 0px 1px 2px rgba(60, 64, 67, 0.3), 0px 1px 3px 1px rgba(60, 64, 67, 0.15);\n",
              "      fill: #174EA6;\n",
              "    }\n",
              "\n",
              "    [theme=dark] .colab-df-convert {\n",
              "      background-color: #3B4455;\n",
              "      fill: #D2E3FC;\n",
              "    }\n",
              "\n",
              "    [theme=dark] .colab-df-convert:hover {\n",
              "      background-color: #434B5C;\n",
              "      box-shadow: 0px 1px 3px 1px rgba(0, 0, 0, 0.15);\n",
              "      filter: drop-shadow(0px 1px 2px rgba(0, 0, 0, 0.3));\n",
              "      fill: #FFFFFF;\n",
              "    }\n",
              "  </style>\n",
              "\n",
              "      <script>\n",
              "        const buttonEl =\n",
              "          document.querySelector('#df-04e37087-90b2-4814-ad37-a925fe952998 button.colab-df-convert');\n",
              "        buttonEl.style.display =\n",
              "          google.colab.kernel.accessAllowed ? 'block' : 'none';\n",
              "\n",
              "        async function convertToInteractive(key) {\n",
              "          const element = document.querySelector('#df-04e37087-90b2-4814-ad37-a925fe952998');\n",
              "          const dataTable =\n",
              "            await google.colab.kernel.invokeFunction('convertToInteractive',\n",
              "                                                     [key], {});\n",
              "          if (!dataTable) return;\n",
              "\n",
              "          const docLinkHtml = 'Like what you see? Visit the ' +\n",
              "            '<a target=\"_blank\" href=https://colab.research.google.com/notebooks/data_table.ipynb>data table notebook</a>'\n",
              "            + ' to learn more about interactive tables.';\n",
              "          element.innerHTML = '';\n",
              "          dataTable['output_type'] = 'display_data';\n",
              "          await google.colab.output.renderOutput(dataTable, element);\n",
              "          const docLink = document.createElement('div');\n",
              "          docLink.innerHTML = docLinkHtml;\n",
              "          element.appendChild(docLink);\n",
              "        }\n",
              "      </script>\n",
              "    </div>\n",
              "  </div>\n",
              "  "
            ]
          },
          "metadata": {},
          "execution_count": 98
        }
      ],
      "source": [
        "# Number of defaults and customers for each catagories of sex\n",
        "defaultWrangling.getDefaultCountsByCol('SEX')"
      ]
    },
    {
      "cell_type": "code",
      "execution_count": 99,
      "metadata": {
        "colab": {
          "base_uri": "https://localhost:8080/",
          "height": 269
        },
        "id": "7JiaGwUHLv5d",
        "outputId": "a9257a42-ad23-481a-c82c-d8ef4a22e064"
      },
      "outputs": [
        {
          "output_type": "execute_result",
          "data": {
            "text/plain": [
              "   EDUCATION  default  customers  %_defalut\n",
              "0          0        0         14       0.00\n",
              "1          1     2036      10585      19.23\n",
              "2          2     3330      14030      23.73\n",
              "3          3     1237       4917      25.16\n",
              "4          4        7        123       5.69\n",
              "5          5       18        280       6.43\n",
              "6          6        8         51      15.69"
            ],
            "text/html": [
              "\n",
              "  <div id=\"df-b1b18041-8302-48c7-b711-bed6149e01c9\">\n",
              "    <div class=\"colab-df-container\">\n",
              "      <div>\n",
              "<style scoped>\n",
              "    .dataframe tbody tr th:only-of-type {\n",
              "        vertical-align: middle;\n",
              "    }\n",
              "\n",
              "    .dataframe tbody tr th {\n",
              "        vertical-align: top;\n",
              "    }\n",
              "\n",
              "    .dataframe thead th {\n",
              "        text-align: right;\n",
              "    }\n",
              "</style>\n",
              "<table border=\"1\" class=\"dataframe\">\n",
              "  <thead>\n",
              "    <tr style=\"text-align: right;\">\n",
              "      <th></th>\n",
              "      <th>EDUCATION</th>\n",
              "      <th>default</th>\n",
              "      <th>customers</th>\n",
              "      <th>%_defalut</th>\n",
              "    </tr>\n",
              "  </thead>\n",
              "  <tbody>\n",
              "    <tr>\n",
              "      <th>0</th>\n",
              "      <td>0</td>\n",
              "      <td>0</td>\n",
              "      <td>14</td>\n",
              "      <td>0.00</td>\n",
              "    </tr>\n",
              "    <tr>\n",
              "      <th>1</th>\n",
              "      <td>1</td>\n",
              "      <td>2036</td>\n",
              "      <td>10585</td>\n",
              "      <td>19.23</td>\n",
              "    </tr>\n",
              "    <tr>\n",
              "      <th>2</th>\n",
              "      <td>2</td>\n",
              "      <td>3330</td>\n",
              "      <td>14030</td>\n",
              "      <td>23.73</td>\n",
              "    </tr>\n",
              "    <tr>\n",
              "      <th>3</th>\n",
              "      <td>3</td>\n",
              "      <td>1237</td>\n",
              "      <td>4917</td>\n",
              "      <td>25.16</td>\n",
              "    </tr>\n",
              "    <tr>\n",
              "      <th>4</th>\n",
              "      <td>4</td>\n",
              "      <td>7</td>\n",
              "      <td>123</td>\n",
              "      <td>5.69</td>\n",
              "    </tr>\n",
              "    <tr>\n",
              "      <th>5</th>\n",
              "      <td>5</td>\n",
              "      <td>18</td>\n",
              "      <td>280</td>\n",
              "      <td>6.43</td>\n",
              "    </tr>\n",
              "    <tr>\n",
              "      <th>6</th>\n",
              "      <td>6</td>\n",
              "      <td>8</td>\n",
              "      <td>51</td>\n",
              "      <td>15.69</td>\n",
              "    </tr>\n",
              "  </tbody>\n",
              "</table>\n",
              "</div>\n",
              "      <button class=\"colab-df-convert\" onclick=\"convertToInteractive('df-b1b18041-8302-48c7-b711-bed6149e01c9')\"\n",
              "              title=\"Convert this dataframe to an interactive table.\"\n",
              "              style=\"display:none;\">\n",
              "        \n",
              "  <svg xmlns=\"http://www.w3.org/2000/svg\" height=\"24px\"viewBox=\"0 0 24 24\"\n",
              "       width=\"24px\">\n",
              "    <path d=\"M0 0h24v24H0V0z\" fill=\"none\"/>\n",
              "    <path d=\"M18.56 5.44l.94 2.06.94-2.06 2.06-.94-2.06-.94-.94-2.06-.94 2.06-2.06.94zm-11 1L8.5 8.5l.94-2.06 2.06-.94-2.06-.94L8.5 2.5l-.94 2.06-2.06.94zm10 10l.94 2.06.94-2.06 2.06-.94-2.06-.94-.94-2.06-.94 2.06-2.06.94z\"/><path d=\"M17.41 7.96l-1.37-1.37c-.4-.4-.92-.59-1.43-.59-.52 0-1.04.2-1.43.59L10.3 9.45l-7.72 7.72c-.78.78-.78 2.05 0 2.83L4 21.41c.39.39.9.59 1.41.59.51 0 1.02-.2 1.41-.59l7.78-7.78 2.81-2.81c.8-.78.8-2.07 0-2.86zM5.41 20L4 18.59l7.72-7.72 1.47 1.35L5.41 20z\"/>\n",
              "  </svg>\n",
              "      </button>\n",
              "      \n",
              "  <style>\n",
              "    .colab-df-container {\n",
              "      display:flex;\n",
              "      flex-wrap:wrap;\n",
              "      gap: 12px;\n",
              "    }\n",
              "\n",
              "    .colab-df-convert {\n",
              "      background-color: #E8F0FE;\n",
              "      border: none;\n",
              "      border-radius: 50%;\n",
              "      cursor: pointer;\n",
              "      display: none;\n",
              "      fill: #1967D2;\n",
              "      height: 32px;\n",
              "      padding: 0 0 0 0;\n",
              "      width: 32px;\n",
              "    }\n",
              "\n",
              "    .colab-df-convert:hover {\n",
              "      background-color: #E2EBFA;\n",
              "      box-shadow: 0px 1px 2px rgba(60, 64, 67, 0.3), 0px 1px 3px 1px rgba(60, 64, 67, 0.15);\n",
              "      fill: #174EA6;\n",
              "    }\n",
              "\n",
              "    [theme=dark] .colab-df-convert {\n",
              "      background-color: #3B4455;\n",
              "      fill: #D2E3FC;\n",
              "    }\n",
              "\n",
              "    [theme=dark] .colab-df-convert:hover {\n",
              "      background-color: #434B5C;\n",
              "      box-shadow: 0px 1px 3px 1px rgba(0, 0, 0, 0.15);\n",
              "      filter: drop-shadow(0px 1px 2px rgba(0, 0, 0, 0.3));\n",
              "      fill: #FFFFFF;\n",
              "    }\n",
              "  </style>\n",
              "\n",
              "      <script>\n",
              "        const buttonEl =\n",
              "          document.querySelector('#df-b1b18041-8302-48c7-b711-bed6149e01c9 button.colab-df-convert');\n",
              "        buttonEl.style.display =\n",
              "          google.colab.kernel.accessAllowed ? 'block' : 'none';\n",
              "\n",
              "        async function convertToInteractive(key) {\n",
              "          const element = document.querySelector('#df-b1b18041-8302-48c7-b711-bed6149e01c9');\n",
              "          const dataTable =\n",
              "            await google.colab.kernel.invokeFunction('convertToInteractive',\n",
              "                                                     [key], {});\n",
              "          if (!dataTable) return;\n",
              "\n",
              "          const docLinkHtml = 'Like what you see? Visit the ' +\n",
              "            '<a target=\"_blank\" href=https://colab.research.google.com/notebooks/data_table.ipynb>data table notebook</a>'\n",
              "            + ' to learn more about interactive tables.';\n",
              "          element.innerHTML = '';\n",
              "          dataTable['output_type'] = 'display_data';\n",
              "          await google.colab.output.renderOutput(dataTable, element);\n",
              "          const docLink = document.createElement('div');\n",
              "          docLink.innerHTML = docLinkHtml;\n",
              "          element.appendChild(docLink);\n",
              "        }\n",
              "      </script>\n",
              "    </div>\n",
              "  </div>\n",
              "  "
            ]
          },
          "metadata": {},
          "execution_count": 99
        }
      ],
      "source": [
        "# Number of defaults and customers for each catagories of Education\n",
        "defaultWrangling.getDefaultCountsByCol('EDUCATION')"
      ]
    },
    {
      "cell_type": "code",
      "execution_count": 100,
      "metadata": {
        "colab": {
          "base_uri": "https://localhost:8080/",
          "height": 175
        },
        "id": "tQMSHVdaKMz_",
        "outputId": "aff60586-7554-4414-b908-2610c0703c00"
      },
      "outputs": [
        {
          "output_type": "execute_result",
          "data": {
            "text/plain": [
              "   MARRIAGE  default  customers  %_defalut\n",
              "0         0        5         54       9.26\n",
              "1         1     3206      13659      23.47\n",
              "2         2     3341      15964      20.93\n",
              "3         3       84        323      26.01"
            ],
            "text/html": [
              "\n",
              "  <div id=\"df-c730701e-d9ca-4747-a899-81405f6d23e0\">\n",
              "    <div class=\"colab-df-container\">\n",
              "      <div>\n",
              "<style scoped>\n",
              "    .dataframe tbody tr th:only-of-type {\n",
              "        vertical-align: middle;\n",
              "    }\n",
              "\n",
              "    .dataframe tbody tr th {\n",
              "        vertical-align: top;\n",
              "    }\n",
              "\n",
              "    .dataframe thead th {\n",
              "        text-align: right;\n",
              "    }\n",
              "</style>\n",
              "<table border=\"1\" class=\"dataframe\">\n",
              "  <thead>\n",
              "    <tr style=\"text-align: right;\">\n",
              "      <th></th>\n",
              "      <th>MARRIAGE</th>\n",
              "      <th>default</th>\n",
              "      <th>customers</th>\n",
              "      <th>%_defalut</th>\n",
              "    </tr>\n",
              "  </thead>\n",
              "  <tbody>\n",
              "    <tr>\n",
              "      <th>0</th>\n",
              "      <td>0</td>\n",
              "      <td>5</td>\n",
              "      <td>54</td>\n",
              "      <td>9.26</td>\n",
              "    </tr>\n",
              "    <tr>\n",
              "      <th>1</th>\n",
              "      <td>1</td>\n",
              "      <td>3206</td>\n",
              "      <td>13659</td>\n",
              "      <td>23.47</td>\n",
              "    </tr>\n",
              "    <tr>\n",
              "      <th>2</th>\n",
              "      <td>2</td>\n",
              "      <td>3341</td>\n",
              "      <td>15964</td>\n",
              "      <td>20.93</td>\n",
              "    </tr>\n",
              "    <tr>\n",
              "      <th>3</th>\n",
              "      <td>3</td>\n",
              "      <td>84</td>\n",
              "      <td>323</td>\n",
              "      <td>26.01</td>\n",
              "    </tr>\n",
              "  </tbody>\n",
              "</table>\n",
              "</div>\n",
              "      <button class=\"colab-df-convert\" onclick=\"convertToInteractive('df-c730701e-d9ca-4747-a899-81405f6d23e0')\"\n",
              "              title=\"Convert this dataframe to an interactive table.\"\n",
              "              style=\"display:none;\">\n",
              "        \n",
              "  <svg xmlns=\"http://www.w3.org/2000/svg\" height=\"24px\"viewBox=\"0 0 24 24\"\n",
              "       width=\"24px\">\n",
              "    <path d=\"M0 0h24v24H0V0z\" fill=\"none\"/>\n",
              "    <path d=\"M18.56 5.44l.94 2.06.94-2.06 2.06-.94-2.06-.94-.94-2.06-.94 2.06-2.06.94zm-11 1L8.5 8.5l.94-2.06 2.06-.94-2.06-.94L8.5 2.5l-.94 2.06-2.06.94zm10 10l.94 2.06.94-2.06 2.06-.94-2.06-.94-.94-2.06-.94 2.06-2.06.94z\"/><path d=\"M17.41 7.96l-1.37-1.37c-.4-.4-.92-.59-1.43-.59-.52 0-1.04.2-1.43.59L10.3 9.45l-7.72 7.72c-.78.78-.78 2.05 0 2.83L4 21.41c.39.39.9.59 1.41.59.51 0 1.02-.2 1.41-.59l7.78-7.78 2.81-2.81c.8-.78.8-2.07 0-2.86zM5.41 20L4 18.59l7.72-7.72 1.47 1.35L5.41 20z\"/>\n",
              "  </svg>\n",
              "      </button>\n",
              "      \n",
              "  <style>\n",
              "    .colab-df-container {\n",
              "      display:flex;\n",
              "      flex-wrap:wrap;\n",
              "      gap: 12px;\n",
              "    }\n",
              "\n",
              "    .colab-df-convert {\n",
              "      background-color: #E8F0FE;\n",
              "      border: none;\n",
              "      border-radius: 50%;\n",
              "      cursor: pointer;\n",
              "      display: none;\n",
              "      fill: #1967D2;\n",
              "      height: 32px;\n",
              "      padding: 0 0 0 0;\n",
              "      width: 32px;\n",
              "    }\n",
              "\n",
              "    .colab-df-convert:hover {\n",
              "      background-color: #E2EBFA;\n",
              "      box-shadow: 0px 1px 2px rgba(60, 64, 67, 0.3), 0px 1px 3px 1px rgba(60, 64, 67, 0.15);\n",
              "      fill: #174EA6;\n",
              "    }\n",
              "\n",
              "    [theme=dark] .colab-df-convert {\n",
              "      background-color: #3B4455;\n",
              "      fill: #D2E3FC;\n",
              "    }\n",
              "\n",
              "    [theme=dark] .colab-df-convert:hover {\n",
              "      background-color: #434B5C;\n",
              "      box-shadow: 0px 1px 3px 1px rgba(0, 0, 0, 0.15);\n",
              "      filter: drop-shadow(0px 1px 2px rgba(0, 0, 0, 0.3));\n",
              "      fill: #FFFFFF;\n",
              "    }\n",
              "  </style>\n",
              "\n",
              "      <script>\n",
              "        const buttonEl =\n",
              "          document.querySelector('#df-c730701e-d9ca-4747-a899-81405f6d23e0 button.colab-df-convert');\n",
              "        buttonEl.style.display =\n",
              "          google.colab.kernel.accessAllowed ? 'block' : 'none';\n",
              "\n",
              "        async function convertToInteractive(key) {\n",
              "          const element = document.querySelector('#df-c730701e-d9ca-4747-a899-81405f6d23e0');\n",
              "          const dataTable =\n",
              "            await google.colab.kernel.invokeFunction('convertToInteractive',\n",
              "                                                     [key], {});\n",
              "          if (!dataTable) return;\n",
              "\n",
              "          const docLinkHtml = 'Like what you see? Visit the ' +\n",
              "            '<a target=\"_blank\" href=https://colab.research.google.com/notebooks/data_table.ipynb>data table notebook</a>'\n",
              "            + ' to learn more about interactive tables.';\n",
              "          element.innerHTML = '';\n",
              "          dataTable['output_type'] = 'display_data';\n",
              "          await google.colab.output.renderOutput(dataTable, element);\n",
              "          const docLink = document.createElement('div');\n",
              "          docLink.innerHTML = docLinkHtml;\n",
              "          element.appendChild(docLink);\n",
              "        }\n",
              "      </script>\n",
              "    </div>\n",
              "  </div>\n",
              "  "
            ]
          },
          "metadata": {},
          "execution_count": 100
        }
      ],
      "source": [
        "# Number of defaults and customers for each catagories of Marriage\n",
        "defaultWrangling.getDefaultCountsByCol('MARRIAGE')"
      ]
    },
    {
      "cell_type": "code",
      "execution_count": 101,
      "metadata": {
        "colab": {
          "base_uri": "https://localhost:8080/",
          "height": 363
        },
        "id": "o1vQbhPxKMwt",
        "outputId": "d5ac3ebd-4dff-4beb-cb8e-265e764f6e2a"
      },
      "outputs": [
        {
          "output_type": "execute_result",
          "data": {
            "text/plain": [
              "    AGE  default  customers  %_defalut\n",
              "6    27      313       1477      21.19\n",
              "8    29      313       1605      19.50\n",
              "4    25      302       1186      25.46\n",
              "3    24      300       1127      26.62\n",
              "7    28      286       1409      20.30\n",
              "9    30      274       1395      19.64\n",
              "15   36      254       1108      22.92\n",
              "5    26      253       1256      20.14\n",
              "2    23      247        931      26.53\n",
              "13   34      231       1162      19.88"
            ],
            "text/html": [
              "\n",
              "  <div id=\"df-5d27677f-1684-4058-a88d-e8b32fcb8e25\">\n",
              "    <div class=\"colab-df-container\">\n",
              "      <div>\n",
              "<style scoped>\n",
              "    .dataframe tbody tr th:only-of-type {\n",
              "        vertical-align: middle;\n",
              "    }\n",
              "\n",
              "    .dataframe tbody tr th {\n",
              "        vertical-align: top;\n",
              "    }\n",
              "\n",
              "    .dataframe thead th {\n",
              "        text-align: right;\n",
              "    }\n",
              "</style>\n",
              "<table border=\"1\" class=\"dataframe\">\n",
              "  <thead>\n",
              "    <tr style=\"text-align: right;\">\n",
              "      <th></th>\n",
              "      <th>AGE</th>\n",
              "      <th>default</th>\n",
              "      <th>customers</th>\n",
              "      <th>%_defalut</th>\n",
              "    </tr>\n",
              "  </thead>\n",
              "  <tbody>\n",
              "    <tr>\n",
              "      <th>6</th>\n",
              "      <td>27</td>\n",
              "      <td>313</td>\n",
              "      <td>1477</td>\n",
              "      <td>21.19</td>\n",
              "    </tr>\n",
              "    <tr>\n",
              "      <th>8</th>\n",
              "      <td>29</td>\n",
              "      <td>313</td>\n",
              "      <td>1605</td>\n",
              "      <td>19.50</td>\n",
              "    </tr>\n",
              "    <tr>\n",
              "      <th>4</th>\n",
              "      <td>25</td>\n",
              "      <td>302</td>\n",
              "      <td>1186</td>\n",
              "      <td>25.46</td>\n",
              "    </tr>\n",
              "    <tr>\n",
              "      <th>3</th>\n",
              "      <td>24</td>\n",
              "      <td>300</td>\n",
              "      <td>1127</td>\n",
              "      <td>26.62</td>\n",
              "    </tr>\n",
              "    <tr>\n",
              "      <th>7</th>\n",
              "      <td>28</td>\n",
              "      <td>286</td>\n",
              "      <td>1409</td>\n",
              "      <td>20.30</td>\n",
              "    </tr>\n",
              "    <tr>\n",
              "      <th>9</th>\n",
              "      <td>30</td>\n",
              "      <td>274</td>\n",
              "      <td>1395</td>\n",
              "      <td>19.64</td>\n",
              "    </tr>\n",
              "    <tr>\n",
              "      <th>15</th>\n",
              "      <td>36</td>\n",
              "      <td>254</td>\n",
              "      <td>1108</td>\n",
              "      <td>22.92</td>\n",
              "    </tr>\n",
              "    <tr>\n",
              "      <th>5</th>\n",
              "      <td>26</td>\n",
              "      <td>253</td>\n",
              "      <td>1256</td>\n",
              "      <td>20.14</td>\n",
              "    </tr>\n",
              "    <tr>\n",
              "      <th>2</th>\n",
              "      <td>23</td>\n",
              "      <td>247</td>\n",
              "      <td>931</td>\n",
              "      <td>26.53</td>\n",
              "    </tr>\n",
              "    <tr>\n",
              "      <th>13</th>\n",
              "      <td>34</td>\n",
              "      <td>231</td>\n",
              "      <td>1162</td>\n",
              "      <td>19.88</td>\n",
              "    </tr>\n",
              "  </tbody>\n",
              "</table>\n",
              "</div>\n",
              "      <button class=\"colab-df-convert\" onclick=\"convertToInteractive('df-5d27677f-1684-4058-a88d-e8b32fcb8e25')\"\n",
              "              title=\"Convert this dataframe to an interactive table.\"\n",
              "              style=\"display:none;\">\n",
              "        \n",
              "  <svg xmlns=\"http://www.w3.org/2000/svg\" height=\"24px\"viewBox=\"0 0 24 24\"\n",
              "       width=\"24px\">\n",
              "    <path d=\"M0 0h24v24H0V0z\" fill=\"none\"/>\n",
              "    <path d=\"M18.56 5.44l.94 2.06.94-2.06 2.06-.94-2.06-.94-.94-2.06-.94 2.06-2.06.94zm-11 1L8.5 8.5l.94-2.06 2.06-.94-2.06-.94L8.5 2.5l-.94 2.06-2.06.94zm10 10l.94 2.06.94-2.06 2.06-.94-2.06-.94-.94-2.06-.94 2.06-2.06.94z\"/><path d=\"M17.41 7.96l-1.37-1.37c-.4-.4-.92-.59-1.43-.59-.52 0-1.04.2-1.43.59L10.3 9.45l-7.72 7.72c-.78.78-.78 2.05 0 2.83L4 21.41c.39.39.9.59 1.41.59.51 0 1.02-.2 1.41-.59l7.78-7.78 2.81-2.81c.8-.78.8-2.07 0-2.86zM5.41 20L4 18.59l7.72-7.72 1.47 1.35L5.41 20z\"/>\n",
              "  </svg>\n",
              "      </button>\n",
              "      \n",
              "  <style>\n",
              "    .colab-df-container {\n",
              "      display:flex;\n",
              "      flex-wrap:wrap;\n",
              "      gap: 12px;\n",
              "    }\n",
              "\n",
              "    .colab-df-convert {\n",
              "      background-color: #E8F0FE;\n",
              "      border: none;\n",
              "      border-radius: 50%;\n",
              "      cursor: pointer;\n",
              "      display: none;\n",
              "      fill: #1967D2;\n",
              "      height: 32px;\n",
              "      padding: 0 0 0 0;\n",
              "      width: 32px;\n",
              "    }\n",
              "\n",
              "    .colab-df-convert:hover {\n",
              "      background-color: #E2EBFA;\n",
              "      box-shadow: 0px 1px 2px rgba(60, 64, 67, 0.3), 0px 1px 3px 1px rgba(60, 64, 67, 0.15);\n",
              "      fill: #174EA6;\n",
              "    }\n",
              "\n",
              "    [theme=dark] .colab-df-convert {\n",
              "      background-color: #3B4455;\n",
              "      fill: #D2E3FC;\n",
              "    }\n",
              "\n",
              "    [theme=dark] .colab-df-convert:hover {\n",
              "      background-color: #434B5C;\n",
              "      box-shadow: 0px 1px 3px 1px rgba(0, 0, 0, 0.15);\n",
              "      filter: drop-shadow(0px 1px 2px rgba(0, 0, 0, 0.3));\n",
              "      fill: #FFFFFF;\n",
              "    }\n",
              "  </style>\n",
              "\n",
              "      <script>\n",
              "        const buttonEl =\n",
              "          document.querySelector('#df-5d27677f-1684-4058-a88d-e8b32fcb8e25 button.colab-df-convert');\n",
              "        buttonEl.style.display =\n",
              "          google.colab.kernel.accessAllowed ? 'block' : 'none';\n",
              "\n",
              "        async function convertToInteractive(key) {\n",
              "          const element = document.querySelector('#df-5d27677f-1684-4058-a88d-e8b32fcb8e25');\n",
              "          const dataTable =\n",
              "            await google.colab.kernel.invokeFunction('convertToInteractive',\n",
              "                                                     [key], {});\n",
              "          if (!dataTable) return;\n",
              "\n",
              "          const docLinkHtml = 'Like what you see? Visit the ' +\n",
              "            '<a target=\"_blank\" href=https://colab.research.google.com/notebooks/data_table.ipynb>data table notebook</a>'\n",
              "            + ' to learn more about interactive tables.';\n",
              "          element.innerHTML = '';\n",
              "          dataTable['output_type'] = 'display_data';\n",
              "          await google.colab.output.renderOutput(dataTable, element);\n",
              "          const docLink = document.createElement('div');\n",
              "          docLink.innerHTML = docLinkHtml;\n",
              "          element.appendChild(docLink);\n",
              "        }\n",
              "      </script>\n",
              "    </div>\n",
              "  </div>\n",
              "  "
            ]
          },
          "metadata": {},
          "execution_count": 101
        }
      ],
      "source": [
        "# Number of defaults for each catagories of AGE\n",
        "defaultWrangling.getDefaultCountsByCol('AGE').sort_values(by='default',ascending=False).head(10)"
      ]
    },
    {
      "cell_type": "code",
      "execution_count": 102,
      "metadata": {
        "colab": {
          "base_uri": "https://localhost:8080/",
          "height": 394
        },
        "id": "gby7KObLKMvK",
        "outputId": "9b784c67-a0f8-4c99-e669-f5c212d152cb"
      },
      "outputs": [
        {
          "output_type": "execute_result",
          "data": {
            "text/plain": [
              "    PAY_0  default  customers  %_defalut\n",
              "2       0     1888      14737      12.81\n",
              "4       2     1844       2667      69.14\n",
              "3       1     1252       3688      33.95\n",
              "1      -1      954       5686      16.78\n",
              "0      -2      365       2759      13.23\n",
              "5       3      244        322      75.78\n",
              "6       4       52         76      68.42\n",
              "7       5       13         26      50.00\n",
              "10      8       11         19      57.89\n",
              "9       7        7          9      77.78\n",
              "8       6        6         11      54.55"
            ],
            "text/html": [
              "\n",
              "  <div id=\"df-ebee5940-1241-4324-b6da-d1e951e6b221\">\n",
              "    <div class=\"colab-df-container\">\n",
              "      <div>\n",
              "<style scoped>\n",
              "    .dataframe tbody tr th:only-of-type {\n",
              "        vertical-align: middle;\n",
              "    }\n",
              "\n",
              "    .dataframe tbody tr th {\n",
              "        vertical-align: top;\n",
              "    }\n",
              "\n",
              "    .dataframe thead th {\n",
              "        text-align: right;\n",
              "    }\n",
              "</style>\n",
              "<table border=\"1\" class=\"dataframe\">\n",
              "  <thead>\n",
              "    <tr style=\"text-align: right;\">\n",
              "      <th></th>\n",
              "      <th>PAY_0</th>\n",
              "      <th>default</th>\n",
              "      <th>customers</th>\n",
              "      <th>%_defalut</th>\n",
              "    </tr>\n",
              "  </thead>\n",
              "  <tbody>\n",
              "    <tr>\n",
              "      <th>2</th>\n",
              "      <td>0</td>\n",
              "      <td>1888</td>\n",
              "      <td>14737</td>\n",
              "      <td>12.81</td>\n",
              "    </tr>\n",
              "    <tr>\n",
              "      <th>4</th>\n",
              "      <td>2</td>\n",
              "      <td>1844</td>\n",
              "      <td>2667</td>\n",
              "      <td>69.14</td>\n",
              "    </tr>\n",
              "    <tr>\n",
              "      <th>3</th>\n",
              "      <td>1</td>\n",
              "      <td>1252</td>\n",
              "      <td>3688</td>\n",
              "      <td>33.95</td>\n",
              "    </tr>\n",
              "    <tr>\n",
              "      <th>1</th>\n",
              "      <td>-1</td>\n",
              "      <td>954</td>\n",
              "      <td>5686</td>\n",
              "      <td>16.78</td>\n",
              "    </tr>\n",
              "    <tr>\n",
              "      <th>0</th>\n",
              "      <td>-2</td>\n",
              "      <td>365</td>\n",
              "      <td>2759</td>\n",
              "      <td>13.23</td>\n",
              "    </tr>\n",
              "    <tr>\n",
              "      <th>5</th>\n",
              "      <td>3</td>\n",
              "      <td>244</td>\n",
              "      <td>322</td>\n",
              "      <td>75.78</td>\n",
              "    </tr>\n",
              "    <tr>\n",
              "      <th>6</th>\n",
              "      <td>4</td>\n",
              "      <td>52</td>\n",
              "      <td>76</td>\n",
              "      <td>68.42</td>\n",
              "    </tr>\n",
              "    <tr>\n",
              "      <th>7</th>\n",
              "      <td>5</td>\n",
              "      <td>13</td>\n",
              "      <td>26</td>\n",
              "      <td>50.00</td>\n",
              "    </tr>\n",
              "    <tr>\n",
              "      <th>10</th>\n",
              "      <td>8</td>\n",
              "      <td>11</td>\n",
              "      <td>19</td>\n",
              "      <td>57.89</td>\n",
              "    </tr>\n",
              "    <tr>\n",
              "      <th>9</th>\n",
              "      <td>7</td>\n",
              "      <td>7</td>\n",
              "      <td>9</td>\n",
              "      <td>77.78</td>\n",
              "    </tr>\n",
              "    <tr>\n",
              "      <th>8</th>\n",
              "      <td>6</td>\n",
              "      <td>6</td>\n",
              "      <td>11</td>\n",
              "      <td>54.55</td>\n",
              "    </tr>\n",
              "  </tbody>\n",
              "</table>\n",
              "</div>\n",
              "      <button class=\"colab-df-convert\" onclick=\"convertToInteractive('df-ebee5940-1241-4324-b6da-d1e951e6b221')\"\n",
              "              title=\"Convert this dataframe to an interactive table.\"\n",
              "              style=\"display:none;\">\n",
              "        \n",
              "  <svg xmlns=\"http://www.w3.org/2000/svg\" height=\"24px\"viewBox=\"0 0 24 24\"\n",
              "       width=\"24px\">\n",
              "    <path d=\"M0 0h24v24H0V0z\" fill=\"none\"/>\n",
              "    <path d=\"M18.56 5.44l.94 2.06.94-2.06 2.06-.94-2.06-.94-.94-2.06-.94 2.06-2.06.94zm-11 1L8.5 8.5l.94-2.06 2.06-.94-2.06-.94L8.5 2.5l-.94 2.06-2.06.94zm10 10l.94 2.06.94-2.06 2.06-.94-2.06-.94-.94-2.06-.94 2.06-2.06.94z\"/><path d=\"M17.41 7.96l-1.37-1.37c-.4-.4-.92-.59-1.43-.59-.52 0-1.04.2-1.43.59L10.3 9.45l-7.72 7.72c-.78.78-.78 2.05 0 2.83L4 21.41c.39.39.9.59 1.41.59.51 0 1.02-.2 1.41-.59l7.78-7.78 2.81-2.81c.8-.78.8-2.07 0-2.86zM5.41 20L4 18.59l7.72-7.72 1.47 1.35L5.41 20z\"/>\n",
              "  </svg>\n",
              "      </button>\n",
              "      \n",
              "  <style>\n",
              "    .colab-df-container {\n",
              "      display:flex;\n",
              "      flex-wrap:wrap;\n",
              "      gap: 12px;\n",
              "    }\n",
              "\n",
              "    .colab-df-convert {\n",
              "      background-color: #E8F0FE;\n",
              "      border: none;\n",
              "      border-radius: 50%;\n",
              "      cursor: pointer;\n",
              "      display: none;\n",
              "      fill: #1967D2;\n",
              "      height: 32px;\n",
              "      padding: 0 0 0 0;\n",
              "      width: 32px;\n",
              "    }\n",
              "\n",
              "    .colab-df-convert:hover {\n",
              "      background-color: #E2EBFA;\n",
              "      box-shadow: 0px 1px 2px rgba(60, 64, 67, 0.3), 0px 1px 3px 1px rgba(60, 64, 67, 0.15);\n",
              "      fill: #174EA6;\n",
              "    }\n",
              "\n",
              "    [theme=dark] .colab-df-convert {\n",
              "      background-color: #3B4455;\n",
              "      fill: #D2E3FC;\n",
              "    }\n",
              "\n",
              "    [theme=dark] .colab-df-convert:hover {\n",
              "      background-color: #434B5C;\n",
              "      box-shadow: 0px 1px 3px 1px rgba(0, 0, 0, 0.15);\n",
              "      filter: drop-shadow(0px 1px 2px rgba(0, 0, 0, 0.3));\n",
              "      fill: #FFFFFF;\n",
              "    }\n",
              "  </style>\n",
              "\n",
              "      <script>\n",
              "        const buttonEl =\n",
              "          document.querySelector('#df-ebee5940-1241-4324-b6da-d1e951e6b221 button.colab-df-convert');\n",
              "        buttonEl.style.display =\n",
              "          google.colab.kernel.accessAllowed ? 'block' : 'none';\n",
              "\n",
              "        async function convertToInteractive(key) {\n",
              "          const element = document.querySelector('#df-ebee5940-1241-4324-b6da-d1e951e6b221');\n",
              "          const dataTable =\n",
              "            await google.colab.kernel.invokeFunction('convertToInteractive',\n",
              "                                                     [key], {});\n",
              "          if (!dataTable) return;\n",
              "\n",
              "          const docLinkHtml = 'Like what you see? Visit the ' +\n",
              "            '<a target=\"_blank\" href=https://colab.research.google.com/notebooks/data_table.ipynb>data table notebook</a>'\n",
              "            + ' to learn more about interactive tables.';\n",
              "          element.innerHTML = '';\n",
              "          dataTable['output_type'] = 'display_data';\n",
              "          await google.colab.output.renderOutput(dataTable, element);\n",
              "          const docLink = document.createElement('div');\n",
              "          docLink.innerHTML = docLinkHtml;\n",
              "          element.appendChild(docLink);\n",
              "        }\n",
              "      </script>\n",
              "    </div>\n",
              "  </div>\n",
              "  "
            ]
          },
          "metadata": {},
          "execution_count": 102
        }
      ],
      "source": [
        "# Number of defaults for each catagories of PAY_0\n",
        "defaultWrangling.getDefaultCountsByCol('PAY_0').sort_values(by='default',ascending=False)"
      ]
    },
    {
      "cell_type": "code",
      "execution_count": 103,
      "metadata": {
        "colab": {
          "base_uri": "https://localhost:8080/",
          "height": 394
        },
        "id": "PqmCgUZEQIt2",
        "outputId": "2e5bb0a3-a34d-4b3e-f3b0-81c42d04eddf"
      },
      "outputs": [
        {
          "output_type": "execute_result",
          "data": {
            "text/plain": [
              "    PAY_2  default  customers  %_defalut\n",
              "2       0     2503      15730      15.91\n",
              "4       2     2184       3927      55.61\n",
              "1      -1      966       6050      15.97\n",
              "0      -2      691       3782      18.27\n",
              "5       3      201        326      61.66\n",
              "6       4       50         99      50.51\n",
              "7       5       15         25      60.00\n",
              "9       7       12         20      60.00\n",
              "8       6        9         12      75.00\n",
              "3       1        5         28      17.86\n",
              "10      8        0          1       0.00"
            ],
            "text/html": [
              "\n",
              "  <div id=\"df-df056183-f1b8-4de1-9b37-f53326683880\">\n",
              "    <div class=\"colab-df-container\">\n",
              "      <div>\n",
              "<style scoped>\n",
              "    .dataframe tbody tr th:only-of-type {\n",
              "        vertical-align: middle;\n",
              "    }\n",
              "\n",
              "    .dataframe tbody tr th {\n",
              "        vertical-align: top;\n",
              "    }\n",
              "\n",
              "    .dataframe thead th {\n",
              "        text-align: right;\n",
              "    }\n",
              "</style>\n",
              "<table border=\"1\" class=\"dataframe\">\n",
              "  <thead>\n",
              "    <tr style=\"text-align: right;\">\n",
              "      <th></th>\n",
              "      <th>PAY_2</th>\n",
              "      <th>default</th>\n",
              "      <th>customers</th>\n",
              "      <th>%_defalut</th>\n",
              "    </tr>\n",
              "  </thead>\n",
              "  <tbody>\n",
              "    <tr>\n",
              "      <th>2</th>\n",
              "      <td>0</td>\n",
              "      <td>2503</td>\n",
              "      <td>15730</td>\n",
              "      <td>15.91</td>\n",
              "    </tr>\n",
              "    <tr>\n",
              "      <th>4</th>\n",
              "      <td>2</td>\n",
              "      <td>2184</td>\n",
              "      <td>3927</td>\n",
              "      <td>55.61</td>\n",
              "    </tr>\n",
              "    <tr>\n",
              "      <th>1</th>\n",
              "      <td>-1</td>\n",
              "      <td>966</td>\n",
              "      <td>6050</td>\n",
              "      <td>15.97</td>\n",
              "    </tr>\n",
              "    <tr>\n",
              "      <th>0</th>\n",
              "      <td>-2</td>\n",
              "      <td>691</td>\n",
              "      <td>3782</td>\n",
              "      <td>18.27</td>\n",
              "    </tr>\n",
              "    <tr>\n",
              "      <th>5</th>\n",
              "      <td>3</td>\n",
              "      <td>201</td>\n",
              "      <td>326</td>\n",
              "      <td>61.66</td>\n",
              "    </tr>\n",
              "    <tr>\n",
              "      <th>6</th>\n",
              "      <td>4</td>\n",
              "      <td>50</td>\n",
              "      <td>99</td>\n",
              "      <td>50.51</td>\n",
              "    </tr>\n",
              "    <tr>\n",
              "      <th>7</th>\n",
              "      <td>5</td>\n",
              "      <td>15</td>\n",
              "      <td>25</td>\n",
              "      <td>60.00</td>\n",
              "    </tr>\n",
              "    <tr>\n",
              "      <th>9</th>\n",
              "      <td>7</td>\n",
              "      <td>12</td>\n",
              "      <td>20</td>\n",
              "      <td>60.00</td>\n",
              "    </tr>\n",
              "    <tr>\n",
              "      <th>8</th>\n",
              "      <td>6</td>\n",
              "      <td>9</td>\n",
              "      <td>12</td>\n",
              "      <td>75.00</td>\n",
              "    </tr>\n",
              "    <tr>\n",
              "      <th>3</th>\n",
              "      <td>1</td>\n",
              "      <td>5</td>\n",
              "      <td>28</td>\n",
              "      <td>17.86</td>\n",
              "    </tr>\n",
              "    <tr>\n",
              "      <th>10</th>\n",
              "      <td>8</td>\n",
              "      <td>0</td>\n",
              "      <td>1</td>\n",
              "      <td>0.00</td>\n",
              "    </tr>\n",
              "  </tbody>\n",
              "</table>\n",
              "</div>\n",
              "      <button class=\"colab-df-convert\" onclick=\"convertToInteractive('df-df056183-f1b8-4de1-9b37-f53326683880')\"\n",
              "              title=\"Convert this dataframe to an interactive table.\"\n",
              "              style=\"display:none;\">\n",
              "        \n",
              "  <svg xmlns=\"http://www.w3.org/2000/svg\" height=\"24px\"viewBox=\"0 0 24 24\"\n",
              "       width=\"24px\">\n",
              "    <path d=\"M0 0h24v24H0V0z\" fill=\"none\"/>\n",
              "    <path d=\"M18.56 5.44l.94 2.06.94-2.06 2.06-.94-2.06-.94-.94-2.06-.94 2.06-2.06.94zm-11 1L8.5 8.5l.94-2.06 2.06-.94-2.06-.94L8.5 2.5l-.94 2.06-2.06.94zm10 10l.94 2.06.94-2.06 2.06-.94-2.06-.94-.94-2.06-.94 2.06-2.06.94z\"/><path d=\"M17.41 7.96l-1.37-1.37c-.4-.4-.92-.59-1.43-.59-.52 0-1.04.2-1.43.59L10.3 9.45l-7.72 7.72c-.78.78-.78 2.05 0 2.83L4 21.41c.39.39.9.59 1.41.59.51 0 1.02-.2 1.41-.59l7.78-7.78 2.81-2.81c.8-.78.8-2.07 0-2.86zM5.41 20L4 18.59l7.72-7.72 1.47 1.35L5.41 20z\"/>\n",
              "  </svg>\n",
              "      </button>\n",
              "      \n",
              "  <style>\n",
              "    .colab-df-container {\n",
              "      display:flex;\n",
              "      flex-wrap:wrap;\n",
              "      gap: 12px;\n",
              "    }\n",
              "\n",
              "    .colab-df-convert {\n",
              "      background-color: #E8F0FE;\n",
              "      border: none;\n",
              "      border-radius: 50%;\n",
              "      cursor: pointer;\n",
              "      display: none;\n",
              "      fill: #1967D2;\n",
              "      height: 32px;\n",
              "      padding: 0 0 0 0;\n",
              "      width: 32px;\n",
              "    }\n",
              "\n",
              "    .colab-df-convert:hover {\n",
              "      background-color: #E2EBFA;\n",
              "      box-shadow: 0px 1px 2px rgba(60, 64, 67, 0.3), 0px 1px 3px 1px rgba(60, 64, 67, 0.15);\n",
              "      fill: #174EA6;\n",
              "    }\n",
              "\n",
              "    [theme=dark] .colab-df-convert {\n",
              "      background-color: #3B4455;\n",
              "      fill: #D2E3FC;\n",
              "    }\n",
              "\n",
              "    [theme=dark] .colab-df-convert:hover {\n",
              "      background-color: #434B5C;\n",
              "      box-shadow: 0px 1px 3px 1px rgba(0, 0, 0, 0.15);\n",
              "      filter: drop-shadow(0px 1px 2px rgba(0, 0, 0, 0.3));\n",
              "      fill: #FFFFFF;\n",
              "    }\n",
              "  </style>\n",
              "\n",
              "      <script>\n",
              "        const buttonEl =\n",
              "          document.querySelector('#df-df056183-f1b8-4de1-9b37-f53326683880 button.colab-df-convert');\n",
              "        buttonEl.style.display =\n",
              "          google.colab.kernel.accessAllowed ? 'block' : 'none';\n",
              "\n",
              "        async function convertToInteractive(key) {\n",
              "          const element = document.querySelector('#df-df056183-f1b8-4de1-9b37-f53326683880');\n",
              "          const dataTable =\n",
              "            await google.colab.kernel.invokeFunction('convertToInteractive',\n",
              "                                                     [key], {});\n",
              "          if (!dataTable) return;\n",
              "\n",
              "          const docLinkHtml = 'Like what you see? Visit the ' +\n",
              "            '<a target=\"_blank\" href=https://colab.research.google.com/notebooks/data_table.ipynb>data table notebook</a>'\n",
              "            + ' to learn more about interactive tables.';\n",
              "          element.innerHTML = '';\n",
              "          dataTable['output_type'] = 'display_data';\n",
              "          await google.colab.output.renderOutput(dataTable, element);\n",
              "          const docLink = document.createElement('div');\n",
              "          docLink.innerHTML = docLinkHtml;\n",
              "          element.appendChild(docLink);\n",
              "        }\n",
              "      </script>\n",
              "    </div>\n",
              "  </div>\n",
              "  "
            ]
          },
          "metadata": {},
          "execution_count": 103
        }
      ],
      "source": [
        "# Number of defaults for each catagories of PAY_2\n",
        "defaultWrangling.getDefaultCountsByCol('PAY_2').sort_values(by='default',ascending=False)"
      ]
    },
    {
      "cell_type": "code",
      "execution_count": 104,
      "metadata": {
        "colab": {
          "base_uri": "https://localhost:8080/",
          "height": 394
        },
        "id": "iEPGvTHAQIsL",
        "outputId": "fdbac3a2-3e68-4efb-8cf6-8425062a2507"
      },
      "outputs": [
        {
          "output_type": "execute_result",
          "data": {
            "text/plain": [
              "    PAY_3  default  customers  %_defalut\n",
              "2       0     2751      15764      17.45\n",
              "4       2     1969       3819      51.56\n",
              "1      -1      926       5938      15.59\n",
              "0      -2      757       4085      18.53\n",
              "5       3      138        240      57.50\n",
              "6       4       44         76      57.89\n",
              "9       7       22         27      81.48\n",
              "8       6       14         23      60.87\n",
              "7       5       12         21      57.14\n",
              "10      8        2          3      66.67\n",
              "3       1        1          4      25.00"
            ],
            "text/html": [
              "\n",
              "  <div id=\"df-b012dd00-b896-4731-9890-01dee8f1f49f\">\n",
              "    <div class=\"colab-df-container\">\n",
              "      <div>\n",
              "<style scoped>\n",
              "    .dataframe tbody tr th:only-of-type {\n",
              "        vertical-align: middle;\n",
              "    }\n",
              "\n",
              "    .dataframe tbody tr th {\n",
              "        vertical-align: top;\n",
              "    }\n",
              "\n",
              "    .dataframe thead th {\n",
              "        text-align: right;\n",
              "    }\n",
              "</style>\n",
              "<table border=\"1\" class=\"dataframe\">\n",
              "  <thead>\n",
              "    <tr style=\"text-align: right;\">\n",
              "      <th></th>\n",
              "      <th>PAY_3</th>\n",
              "      <th>default</th>\n",
              "      <th>customers</th>\n",
              "      <th>%_defalut</th>\n",
              "    </tr>\n",
              "  </thead>\n",
              "  <tbody>\n",
              "    <tr>\n",
              "      <th>2</th>\n",
              "      <td>0</td>\n",
              "      <td>2751</td>\n",
              "      <td>15764</td>\n",
              "      <td>17.45</td>\n",
              "    </tr>\n",
              "    <tr>\n",
              "      <th>4</th>\n",
              "      <td>2</td>\n",
              "      <td>1969</td>\n",
              "      <td>3819</td>\n",
              "      <td>51.56</td>\n",
              "    </tr>\n",
              "    <tr>\n",
              "      <th>1</th>\n",
              "      <td>-1</td>\n",
              "      <td>926</td>\n",
              "      <td>5938</td>\n",
              "      <td>15.59</td>\n",
              "    </tr>\n",
              "    <tr>\n",
              "      <th>0</th>\n",
              "      <td>-2</td>\n",
              "      <td>757</td>\n",
              "      <td>4085</td>\n",
              "      <td>18.53</td>\n",
              "    </tr>\n",
              "    <tr>\n",
              "      <th>5</th>\n",
              "      <td>3</td>\n",
              "      <td>138</td>\n",
              "      <td>240</td>\n",
              "      <td>57.50</td>\n",
              "    </tr>\n",
              "    <tr>\n",
              "      <th>6</th>\n",
              "      <td>4</td>\n",
              "      <td>44</td>\n",
              "      <td>76</td>\n",
              "      <td>57.89</td>\n",
              "    </tr>\n",
              "    <tr>\n",
              "      <th>9</th>\n",
              "      <td>7</td>\n",
              "      <td>22</td>\n",
              "      <td>27</td>\n",
              "      <td>81.48</td>\n",
              "    </tr>\n",
              "    <tr>\n",
              "      <th>8</th>\n",
              "      <td>6</td>\n",
              "      <td>14</td>\n",
              "      <td>23</td>\n",
              "      <td>60.87</td>\n",
              "    </tr>\n",
              "    <tr>\n",
              "      <th>7</th>\n",
              "      <td>5</td>\n",
              "      <td>12</td>\n",
              "      <td>21</td>\n",
              "      <td>57.14</td>\n",
              "    </tr>\n",
              "    <tr>\n",
              "      <th>10</th>\n",
              "      <td>8</td>\n",
              "      <td>2</td>\n",
              "      <td>3</td>\n",
              "      <td>66.67</td>\n",
              "    </tr>\n",
              "    <tr>\n",
              "      <th>3</th>\n",
              "      <td>1</td>\n",
              "      <td>1</td>\n",
              "      <td>4</td>\n",
              "      <td>25.00</td>\n",
              "    </tr>\n",
              "  </tbody>\n",
              "</table>\n",
              "</div>\n",
              "      <button class=\"colab-df-convert\" onclick=\"convertToInteractive('df-b012dd00-b896-4731-9890-01dee8f1f49f')\"\n",
              "              title=\"Convert this dataframe to an interactive table.\"\n",
              "              style=\"display:none;\">\n",
              "        \n",
              "  <svg xmlns=\"http://www.w3.org/2000/svg\" height=\"24px\"viewBox=\"0 0 24 24\"\n",
              "       width=\"24px\">\n",
              "    <path d=\"M0 0h24v24H0V0z\" fill=\"none\"/>\n",
              "    <path d=\"M18.56 5.44l.94 2.06.94-2.06 2.06-.94-2.06-.94-.94-2.06-.94 2.06-2.06.94zm-11 1L8.5 8.5l.94-2.06 2.06-.94-2.06-.94L8.5 2.5l-.94 2.06-2.06.94zm10 10l.94 2.06.94-2.06 2.06-.94-2.06-.94-.94-2.06-.94 2.06-2.06.94z\"/><path d=\"M17.41 7.96l-1.37-1.37c-.4-.4-.92-.59-1.43-.59-.52 0-1.04.2-1.43.59L10.3 9.45l-7.72 7.72c-.78.78-.78 2.05 0 2.83L4 21.41c.39.39.9.59 1.41.59.51 0 1.02-.2 1.41-.59l7.78-7.78 2.81-2.81c.8-.78.8-2.07 0-2.86zM5.41 20L4 18.59l7.72-7.72 1.47 1.35L5.41 20z\"/>\n",
              "  </svg>\n",
              "      </button>\n",
              "      \n",
              "  <style>\n",
              "    .colab-df-container {\n",
              "      display:flex;\n",
              "      flex-wrap:wrap;\n",
              "      gap: 12px;\n",
              "    }\n",
              "\n",
              "    .colab-df-convert {\n",
              "      background-color: #E8F0FE;\n",
              "      border: none;\n",
              "      border-radius: 50%;\n",
              "      cursor: pointer;\n",
              "      display: none;\n",
              "      fill: #1967D2;\n",
              "      height: 32px;\n",
              "      padding: 0 0 0 0;\n",
              "      width: 32px;\n",
              "    }\n",
              "\n",
              "    .colab-df-convert:hover {\n",
              "      background-color: #E2EBFA;\n",
              "      box-shadow: 0px 1px 2px rgba(60, 64, 67, 0.3), 0px 1px 3px 1px rgba(60, 64, 67, 0.15);\n",
              "      fill: #174EA6;\n",
              "    }\n",
              "\n",
              "    [theme=dark] .colab-df-convert {\n",
              "      background-color: #3B4455;\n",
              "      fill: #D2E3FC;\n",
              "    }\n",
              "\n",
              "    [theme=dark] .colab-df-convert:hover {\n",
              "      background-color: #434B5C;\n",
              "      box-shadow: 0px 1px 3px 1px rgba(0, 0, 0, 0.15);\n",
              "      filter: drop-shadow(0px 1px 2px rgba(0, 0, 0, 0.3));\n",
              "      fill: #FFFFFF;\n",
              "    }\n",
              "  </style>\n",
              "\n",
              "      <script>\n",
              "        const buttonEl =\n",
              "          document.querySelector('#df-b012dd00-b896-4731-9890-01dee8f1f49f button.colab-df-convert');\n",
              "        buttonEl.style.display =\n",
              "          google.colab.kernel.accessAllowed ? 'block' : 'none';\n",
              "\n",
              "        async function convertToInteractive(key) {\n",
              "          const element = document.querySelector('#df-b012dd00-b896-4731-9890-01dee8f1f49f');\n",
              "          const dataTable =\n",
              "            await google.colab.kernel.invokeFunction('convertToInteractive',\n",
              "                                                     [key], {});\n",
              "          if (!dataTable) return;\n",
              "\n",
              "          const docLinkHtml = 'Like what you see? Visit the ' +\n",
              "            '<a target=\"_blank\" href=https://colab.research.google.com/notebooks/data_table.ipynb>data table notebook</a>'\n",
              "            + ' to learn more about interactive tables.';\n",
              "          element.innerHTML = '';\n",
              "          dataTable['output_type'] = 'display_data';\n",
              "          await google.colab.output.renderOutput(dataTable, element);\n",
              "          const docLink = document.createElement('div');\n",
              "          docLink.innerHTML = docLinkHtml;\n",
              "          element.appendChild(docLink);\n",
              "        }\n",
              "      </script>\n",
              "    </div>\n",
              "  </div>\n",
              "  "
            ]
          },
          "metadata": {},
          "execution_count": 104
        }
      ],
      "source": [
        "# Number of defaults for each catagories of PAY_3\n",
        "defaultWrangling.getDefaultCountsByCol('PAY_3').sort_values(by='default',ascending=False)"
      ]
    },
    {
      "cell_type": "code",
      "execution_count": 105,
      "metadata": {
        "colab": {
          "base_uri": "https://localhost:8080/",
          "height": 394
        },
        "id": "KAzkmx49QIpg",
        "outputId": "8feaf669-39d8-436e-b47b-f76d9ea7874b"
      },
      "outputs": [
        {
          "output_type": "execute_result",
          "data": {
            "text/plain": [
              "    PAY_4  default  customers  %_defalut\n",
              "2       0     3016      16455      18.33\n",
              "4       2     1653       3159      52.33\n",
              "1      -1      904       5687      15.90\n",
              "0      -2      837       4348      19.25\n",
              "5       3      110        180      61.11\n",
              "9       7       48         58      82.76\n",
              "6       4       46         69      66.67\n",
              "7       5       18         35      51.43\n",
              "8       6        2          5      40.00\n",
              "3       1        1          2      50.00\n",
              "10      8        1          2      50.00"
            ],
            "text/html": [
              "\n",
              "  <div id=\"df-03948aaf-8239-4478-8e1b-fd86fbae8feb\">\n",
              "    <div class=\"colab-df-container\">\n",
              "      <div>\n",
              "<style scoped>\n",
              "    .dataframe tbody tr th:only-of-type {\n",
              "        vertical-align: middle;\n",
              "    }\n",
              "\n",
              "    .dataframe tbody tr th {\n",
              "        vertical-align: top;\n",
              "    }\n",
              "\n",
              "    .dataframe thead th {\n",
              "        text-align: right;\n",
              "    }\n",
              "</style>\n",
              "<table border=\"1\" class=\"dataframe\">\n",
              "  <thead>\n",
              "    <tr style=\"text-align: right;\">\n",
              "      <th></th>\n",
              "      <th>PAY_4</th>\n",
              "      <th>default</th>\n",
              "      <th>customers</th>\n",
              "      <th>%_defalut</th>\n",
              "    </tr>\n",
              "  </thead>\n",
              "  <tbody>\n",
              "    <tr>\n",
              "      <th>2</th>\n",
              "      <td>0</td>\n",
              "      <td>3016</td>\n",
              "      <td>16455</td>\n",
              "      <td>18.33</td>\n",
              "    </tr>\n",
              "    <tr>\n",
              "      <th>4</th>\n",
              "      <td>2</td>\n",
              "      <td>1653</td>\n",
              "      <td>3159</td>\n",
              "      <td>52.33</td>\n",
              "    </tr>\n",
              "    <tr>\n",
              "      <th>1</th>\n",
              "      <td>-1</td>\n",
              "      <td>904</td>\n",
              "      <td>5687</td>\n",
              "      <td>15.90</td>\n",
              "    </tr>\n",
              "    <tr>\n",
              "      <th>0</th>\n",
              "      <td>-2</td>\n",
              "      <td>837</td>\n",
              "      <td>4348</td>\n",
              "      <td>19.25</td>\n",
              "    </tr>\n",
              "    <tr>\n",
              "      <th>5</th>\n",
              "      <td>3</td>\n",
              "      <td>110</td>\n",
              "      <td>180</td>\n",
              "      <td>61.11</td>\n",
              "    </tr>\n",
              "    <tr>\n",
              "      <th>9</th>\n",
              "      <td>7</td>\n",
              "      <td>48</td>\n",
              "      <td>58</td>\n",
              "      <td>82.76</td>\n",
              "    </tr>\n",
              "    <tr>\n",
              "      <th>6</th>\n",
              "      <td>4</td>\n",
              "      <td>46</td>\n",
              "      <td>69</td>\n",
              "      <td>66.67</td>\n",
              "    </tr>\n",
              "    <tr>\n",
              "      <th>7</th>\n",
              "      <td>5</td>\n",
              "      <td>18</td>\n",
              "      <td>35</td>\n",
              "      <td>51.43</td>\n",
              "    </tr>\n",
              "    <tr>\n",
              "      <th>8</th>\n",
              "      <td>6</td>\n",
              "      <td>2</td>\n",
              "      <td>5</td>\n",
              "      <td>40.00</td>\n",
              "    </tr>\n",
              "    <tr>\n",
              "      <th>3</th>\n",
              "      <td>1</td>\n",
              "      <td>1</td>\n",
              "      <td>2</td>\n",
              "      <td>50.00</td>\n",
              "    </tr>\n",
              "    <tr>\n",
              "      <th>10</th>\n",
              "      <td>8</td>\n",
              "      <td>1</td>\n",
              "      <td>2</td>\n",
              "      <td>50.00</td>\n",
              "    </tr>\n",
              "  </tbody>\n",
              "</table>\n",
              "</div>\n",
              "      <button class=\"colab-df-convert\" onclick=\"convertToInteractive('df-03948aaf-8239-4478-8e1b-fd86fbae8feb')\"\n",
              "              title=\"Convert this dataframe to an interactive table.\"\n",
              "              style=\"display:none;\">\n",
              "        \n",
              "  <svg xmlns=\"http://www.w3.org/2000/svg\" height=\"24px\"viewBox=\"0 0 24 24\"\n",
              "       width=\"24px\">\n",
              "    <path d=\"M0 0h24v24H0V0z\" fill=\"none\"/>\n",
              "    <path d=\"M18.56 5.44l.94 2.06.94-2.06 2.06-.94-2.06-.94-.94-2.06-.94 2.06-2.06.94zm-11 1L8.5 8.5l.94-2.06 2.06-.94-2.06-.94L8.5 2.5l-.94 2.06-2.06.94zm10 10l.94 2.06.94-2.06 2.06-.94-2.06-.94-.94-2.06-.94 2.06-2.06.94z\"/><path d=\"M17.41 7.96l-1.37-1.37c-.4-.4-.92-.59-1.43-.59-.52 0-1.04.2-1.43.59L10.3 9.45l-7.72 7.72c-.78.78-.78 2.05 0 2.83L4 21.41c.39.39.9.59 1.41.59.51 0 1.02-.2 1.41-.59l7.78-7.78 2.81-2.81c.8-.78.8-2.07 0-2.86zM5.41 20L4 18.59l7.72-7.72 1.47 1.35L5.41 20z\"/>\n",
              "  </svg>\n",
              "      </button>\n",
              "      \n",
              "  <style>\n",
              "    .colab-df-container {\n",
              "      display:flex;\n",
              "      flex-wrap:wrap;\n",
              "      gap: 12px;\n",
              "    }\n",
              "\n",
              "    .colab-df-convert {\n",
              "      background-color: #E8F0FE;\n",
              "      border: none;\n",
              "      border-radius: 50%;\n",
              "      cursor: pointer;\n",
              "      display: none;\n",
              "      fill: #1967D2;\n",
              "      height: 32px;\n",
              "      padding: 0 0 0 0;\n",
              "      width: 32px;\n",
              "    }\n",
              "\n",
              "    .colab-df-convert:hover {\n",
              "      background-color: #E2EBFA;\n",
              "      box-shadow: 0px 1px 2px rgba(60, 64, 67, 0.3), 0px 1px 3px 1px rgba(60, 64, 67, 0.15);\n",
              "      fill: #174EA6;\n",
              "    }\n",
              "\n",
              "    [theme=dark] .colab-df-convert {\n",
              "      background-color: #3B4455;\n",
              "      fill: #D2E3FC;\n",
              "    }\n",
              "\n",
              "    [theme=dark] .colab-df-convert:hover {\n",
              "      background-color: #434B5C;\n",
              "      box-shadow: 0px 1px 3px 1px rgba(0, 0, 0, 0.15);\n",
              "      filter: drop-shadow(0px 1px 2px rgba(0, 0, 0, 0.3));\n",
              "      fill: #FFFFFF;\n",
              "    }\n",
              "  </style>\n",
              "\n",
              "      <script>\n",
              "        const buttonEl =\n",
              "          document.querySelector('#df-03948aaf-8239-4478-8e1b-fd86fbae8feb button.colab-df-convert');\n",
              "        buttonEl.style.display =\n",
              "          google.colab.kernel.accessAllowed ? 'block' : 'none';\n",
              "\n",
              "        async function convertToInteractive(key) {\n",
              "          const element = document.querySelector('#df-03948aaf-8239-4478-8e1b-fd86fbae8feb');\n",
              "          const dataTable =\n",
              "            await google.colab.kernel.invokeFunction('convertToInteractive',\n",
              "                                                     [key], {});\n",
              "          if (!dataTable) return;\n",
              "\n",
              "          const docLinkHtml = 'Like what you see? Visit the ' +\n",
              "            '<a target=\"_blank\" href=https://colab.research.google.com/notebooks/data_table.ipynb>data table notebook</a>'\n",
              "            + ' to learn more about interactive tables.';\n",
              "          element.innerHTML = '';\n",
              "          dataTable['output_type'] = 'display_data';\n",
              "          await google.colab.output.renderOutput(dataTable, element);\n",
              "          const docLink = document.createElement('div');\n",
              "          docLink.innerHTML = docLinkHtml;\n",
              "          element.appendChild(docLink);\n",
              "        }\n",
              "      </script>\n",
              "    </div>\n",
              "  </div>\n",
              "  "
            ]
          },
          "metadata": {},
          "execution_count": 105
        }
      ],
      "source": [
        "# Number of defaults for each catagories of PAY_4\n",
        "defaultWrangling.getDefaultCountsByCol('PAY_4').sort_values(by='default',ascending=False)"
      ]
    },
    {
      "cell_type": "code",
      "execution_count": 106,
      "metadata": {
        "colab": {
          "base_uri": "https://localhost:8080/",
          "height": 363
        },
        "id": "Kd5Kh-qnQInt",
        "outputId": "20ffb063-5a56-4f91-e6e7-b8b3f13e01ed"
      },
      "outputs": [
        {
          "output_type": "execute_result",
          "data": {
            "text/plain": [
              "   PAY_5  default  customers  %_defalut\n",
              "2      0     3195      16947      18.85\n",
              "3      2     1423       2626      54.19\n",
              "1     -1      897       5539      16.19\n",
              "0     -2      895       4546      19.69\n",
              "4      3      113        178      63.48\n",
              "5      4       51         84      60.71\n",
              "8      7       48         58      82.76\n",
              "6      5       10         17      58.82\n",
              "7      6        3          4      75.00\n",
              "9      8        1          1     100.00"
            ],
            "text/html": [
              "\n",
              "  <div id=\"df-64c449b1-68db-4c94-8630-fd67c721e05a\">\n",
              "    <div class=\"colab-df-container\">\n",
              "      <div>\n",
              "<style scoped>\n",
              "    .dataframe tbody tr th:only-of-type {\n",
              "        vertical-align: middle;\n",
              "    }\n",
              "\n",
              "    .dataframe tbody tr th {\n",
              "        vertical-align: top;\n",
              "    }\n",
              "\n",
              "    .dataframe thead th {\n",
              "        text-align: right;\n",
              "    }\n",
              "</style>\n",
              "<table border=\"1\" class=\"dataframe\">\n",
              "  <thead>\n",
              "    <tr style=\"text-align: right;\">\n",
              "      <th></th>\n",
              "      <th>PAY_5</th>\n",
              "      <th>default</th>\n",
              "      <th>customers</th>\n",
              "      <th>%_defalut</th>\n",
              "    </tr>\n",
              "  </thead>\n",
              "  <tbody>\n",
              "    <tr>\n",
              "      <th>2</th>\n",
              "      <td>0</td>\n",
              "      <td>3195</td>\n",
              "      <td>16947</td>\n",
              "      <td>18.85</td>\n",
              "    </tr>\n",
              "    <tr>\n",
              "      <th>3</th>\n",
              "      <td>2</td>\n",
              "      <td>1423</td>\n",
              "      <td>2626</td>\n",
              "      <td>54.19</td>\n",
              "    </tr>\n",
              "    <tr>\n",
              "      <th>1</th>\n",
              "      <td>-1</td>\n",
              "      <td>897</td>\n",
              "      <td>5539</td>\n",
              "      <td>16.19</td>\n",
              "    </tr>\n",
              "    <tr>\n",
              "      <th>0</th>\n",
              "      <td>-2</td>\n",
              "      <td>895</td>\n",
              "      <td>4546</td>\n",
              "      <td>19.69</td>\n",
              "    </tr>\n",
              "    <tr>\n",
              "      <th>4</th>\n",
              "      <td>3</td>\n",
              "      <td>113</td>\n",
              "      <td>178</td>\n",
              "      <td>63.48</td>\n",
              "    </tr>\n",
              "    <tr>\n",
              "      <th>5</th>\n",
              "      <td>4</td>\n",
              "      <td>51</td>\n",
              "      <td>84</td>\n",
              "      <td>60.71</td>\n",
              "    </tr>\n",
              "    <tr>\n",
              "      <th>8</th>\n",
              "      <td>7</td>\n",
              "      <td>48</td>\n",
              "      <td>58</td>\n",
              "      <td>82.76</td>\n",
              "    </tr>\n",
              "    <tr>\n",
              "      <th>6</th>\n",
              "      <td>5</td>\n",
              "      <td>10</td>\n",
              "      <td>17</td>\n",
              "      <td>58.82</td>\n",
              "    </tr>\n",
              "    <tr>\n",
              "      <th>7</th>\n",
              "      <td>6</td>\n",
              "      <td>3</td>\n",
              "      <td>4</td>\n",
              "      <td>75.00</td>\n",
              "    </tr>\n",
              "    <tr>\n",
              "      <th>9</th>\n",
              "      <td>8</td>\n",
              "      <td>1</td>\n",
              "      <td>1</td>\n",
              "      <td>100.00</td>\n",
              "    </tr>\n",
              "  </tbody>\n",
              "</table>\n",
              "</div>\n",
              "      <button class=\"colab-df-convert\" onclick=\"convertToInteractive('df-64c449b1-68db-4c94-8630-fd67c721e05a')\"\n",
              "              title=\"Convert this dataframe to an interactive table.\"\n",
              "              style=\"display:none;\">\n",
              "        \n",
              "  <svg xmlns=\"http://www.w3.org/2000/svg\" height=\"24px\"viewBox=\"0 0 24 24\"\n",
              "       width=\"24px\">\n",
              "    <path d=\"M0 0h24v24H0V0z\" fill=\"none\"/>\n",
              "    <path d=\"M18.56 5.44l.94 2.06.94-2.06 2.06-.94-2.06-.94-.94-2.06-.94 2.06-2.06.94zm-11 1L8.5 8.5l.94-2.06 2.06-.94-2.06-.94L8.5 2.5l-.94 2.06-2.06.94zm10 10l.94 2.06.94-2.06 2.06-.94-2.06-.94-.94-2.06-.94 2.06-2.06.94z\"/><path d=\"M17.41 7.96l-1.37-1.37c-.4-.4-.92-.59-1.43-.59-.52 0-1.04.2-1.43.59L10.3 9.45l-7.72 7.72c-.78.78-.78 2.05 0 2.83L4 21.41c.39.39.9.59 1.41.59.51 0 1.02-.2 1.41-.59l7.78-7.78 2.81-2.81c.8-.78.8-2.07 0-2.86zM5.41 20L4 18.59l7.72-7.72 1.47 1.35L5.41 20z\"/>\n",
              "  </svg>\n",
              "      </button>\n",
              "      \n",
              "  <style>\n",
              "    .colab-df-container {\n",
              "      display:flex;\n",
              "      flex-wrap:wrap;\n",
              "      gap: 12px;\n",
              "    }\n",
              "\n",
              "    .colab-df-convert {\n",
              "      background-color: #E8F0FE;\n",
              "      border: none;\n",
              "      border-radius: 50%;\n",
              "      cursor: pointer;\n",
              "      display: none;\n",
              "      fill: #1967D2;\n",
              "      height: 32px;\n",
              "      padding: 0 0 0 0;\n",
              "      width: 32px;\n",
              "    }\n",
              "\n",
              "    .colab-df-convert:hover {\n",
              "      background-color: #E2EBFA;\n",
              "      box-shadow: 0px 1px 2px rgba(60, 64, 67, 0.3), 0px 1px 3px 1px rgba(60, 64, 67, 0.15);\n",
              "      fill: #174EA6;\n",
              "    }\n",
              "\n",
              "    [theme=dark] .colab-df-convert {\n",
              "      background-color: #3B4455;\n",
              "      fill: #D2E3FC;\n",
              "    }\n",
              "\n",
              "    [theme=dark] .colab-df-convert:hover {\n",
              "      background-color: #434B5C;\n",
              "      box-shadow: 0px 1px 3px 1px rgba(0, 0, 0, 0.15);\n",
              "      filter: drop-shadow(0px 1px 2px rgba(0, 0, 0, 0.3));\n",
              "      fill: #FFFFFF;\n",
              "    }\n",
              "  </style>\n",
              "\n",
              "      <script>\n",
              "        const buttonEl =\n",
              "          document.querySelector('#df-64c449b1-68db-4c94-8630-fd67c721e05a button.colab-df-convert');\n",
              "        buttonEl.style.display =\n",
              "          google.colab.kernel.accessAllowed ? 'block' : 'none';\n",
              "\n",
              "        async function convertToInteractive(key) {\n",
              "          const element = document.querySelector('#df-64c449b1-68db-4c94-8630-fd67c721e05a');\n",
              "          const dataTable =\n",
              "            await google.colab.kernel.invokeFunction('convertToInteractive',\n",
              "                                                     [key], {});\n",
              "          if (!dataTable) return;\n",
              "\n",
              "          const docLinkHtml = 'Like what you see? Visit the ' +\n",
              "            '<a target=\"_blank\" href=https://colab.research.google.com/notebooks/data_table.ipynb>data table notebook</a>'\n",
              "            + ' to learn more about interactive tables.';\n",
              "          element.innerHTML = '';\n",
              "          dataTable['output_type'] = 'display_data';\n",
              "          await google.colab.output.renderOutput(dataTable, element);\n",
              "          const docLink = document.createElement('div');\n",
              "          docLink.innerHTML = docLinkHtml;\n",
              "          element.appendChild(docLink);\n",
              "        }\n",
              "      </script>\n",
              "    </div>\n",
              "  </div>\n",
              "  "
            ]
          },
          "metadata": {},
          "execution_count": 106
        }
      ],
      "source": [
        "# Number of defaults for each catagories of PAY_5\n",
        "defaultWrangling.getDefaultCountsByCol('PAY_5').sort_values(by='default',ascending=False)"
      ]
    },
    {
      "cell_type": "code",
      "execution_count": 107,
      "metadata": {
        "colab": {
          "base_uri": "https://localhost:8080/",
          "height": 363
        },
        "id": "FyH6vJeqQIkw",
        "outputId": "0e50b56f-d948-482e-c196-33a3c3efdda3"
      },
      "outputs": [
        {
          "output_type": "execute_result",
          "data": {
            "text/plain": [
              "   PAY_6  default  customers  %_defalut\n",
              "2      0     3069      16286      18.84\n",
              "3      2     1401       2766      50.65\n",
              "0     -2      981       4895      20.04\n",
              "1     -1      975       5740      16.99\n",
              "4      3      118        184      64.13\n",
              "8      7       38         46      82.61\n",
              "5      4       31         49      63.27\n",
              "7      6       14         19      73.68\n",
              "6      5        7         13      53.85\n",
              "9      8        2          2     100.00"
            ],
            "text/html": [
              "\n",
              "  <div id=\"df-13669a29-6b07-4cf1-9f54-7549aa7dad55\">\n",
              "    <div class=\"colab-df-container\">\n",
              "      <div>\n",
              "<style scoped>\n",
              "    .dataframe tbody tr th:only-of-type {\n",
              "        vertical-align: middle;\n",
              "    }\n",
              "\n",
              "    .dataframe tbody tr th {\n",
              "        vertical-align: top;\n",
              "    }\n",
              "\n",
              "    .dataframe thead th {\n",
              "        text-align: right;\n",
              "    }\n",
              "</style>\n",
              "<table border=\"1\" class=\"dataframe\">\n",
              "  <thead>\n",
              "    <tr style=\"text-align: right;\">\n",
              "      <th></th>\n",
              "      <th>PAY_6</th>\n",
              "      <th>default</th>\n",
              "      <th>customers</th>\n",
              "      <th>%_defalut</th>\n",
              "    </tr>\n",
              "  </thead>\n",
              "  <tbody>\n",
              "    <tr>\n",
              "      <th>2</th>\n",
              "      <td>0</td>\n",
              "      <td>3069</td>\n",
              "      <td>16286</td>\n",
              "      <td>18.84</td>\n",
              "    </tr>\n",
              "    <tr>\n",
              "      <th>3</th>\n",
              "      <td>2</td>\n",
              "      <td>1401</td>\n",
              "      <td>2766</td>\n",
              "      <td>50.65</td>\n",
              "    </tr>\n",
              "    <tr>\n",
              "      <th>0</th>\n",
              "      <td>-2</td>\n",
              "      <td>981</td>\n",
              "      <td>4895</td>\n",
              "      <td>20.04</td>\n",
              "    </tr>\n",
              "    <tr>\n",
              "      <th>1</th>\n",
              "      <td>-1</td>\n",
              "      <td>975</td>\n",
              "      <td>5740</td>\n",
              "      <td>16.99</td>\n",
              "    </tr>\n",
              "    <tr>\n",
              "      <th>4</th>\n",
              "      <td>3</td>\n",
              "      <td>118</td>\n",
              "      <td>184</td>\n",
              "      <td>64.13</td>\n",
              "    </tr>\n",
              "    <tr>\n",
              "      <th>8</th>\n",
              "      <td>7</td>\n",
              "      <td>38</td>\n",
              "      <td>46</td>\n",
              "      <td>82.61</td>\n",
              "    </tr>\n",
              "    <tr>\n",
              "      <th>5</th>\n",
              "      <td>4</td>\n",
              "      <td>31</td>\n",
              "      <td>49</td>\n",
              "      <td>63.27</td>\n",
              "    </tr>\n",
              "    <tr>\n",
              "      <th>7</th>\n",
              "      <td>6</td>\n",
              "      <td>14</td>\n",
              "      <td>19</td>\n",
              "      <td>73.68</td>\n",
              "    </tr>\n",
              "    <tr>\n",
              "      <th>6</th>\n",
              "      <td>5</td>\n",
              "      <td>7</td>\n",
              "      <td>13</td>\n",
              "      <td>53.85</td>\n",
              "    </tr>\n",
              "    <tr>\n",
              "      <th>9</th>\n",
              "      <td>8</td>\n",
              "      <td>2</td>\n",
              "      <td>2</td>\n",
              "      <td>100.00</td>\n",
              "    </tr>\n",
              "  </tbody>\n",
              "</table>\n",
              "</div>\n",
              "      <button class=\"colab-df-convert\" onclick=\"convertToInteractive('df-13669a29-6b07-4cf1-9f54-7549aa7dad55')\"\n",
              "              title=\"Convert this dataframe to an interactive table.\"\n",
              "              style=\"display:none;\">\n",
              "        \n",
              "  <svg xmlns=\"http://www.w3.org/2000/svg\" height=\"24px\"viewBox=\"0 0 24 24\"\n",
              "       width=\"24px\">\n",
              "    <path d=\"M0 0h24v24H0V0z\" fill=\"none\"/>\n",
              "    <path d=\"M18.56 5.44l.94 2.06.94-2.06 2.06-.94-2.06-.94-.94-2.06-.94 2.06-2.06.94zm-11 1L8.5 8.5l.94-2.06 2.06-.94-2.06-.94L8.5 2.5l-.94 2.06-2.06.94zm10 10l.94 2.06.94-2.06 2.06-.94-2.06-.94-.94-2.06-.94 2.06-2.06.94z\"/><path d=\"M17.41 7.96l-1.37-1.37c-.4-.4-.92-.59-1.43-.59-.52 0-1.04.2-1.43.59L10.3 9.45l-7.72 7.72c-.78.78-.78 2.05 0 2.83L4 21.41c.39.39.9.59 1.41.59.51 0 1.02-.2 1.41-.59l7.78-7.78 2.81-2.81c.8-.78.8-2.07 0-2.86zM5.41 20L4 18.59l7.72-7.72 1.47 1.35L5.41 20z\"/>\n",
              "  </svg>\n",
              "      </button>\n",
              "      \n",
              "  <style>\n",
              "    .colab-df-container {\n",
              "      display:flex;\n",
              "      flex-wrap:wrap;\n",
              "      gap: 12px;\n",
              "    }\n",
              "\n",
              "    .colab-df-convert {\n",
              "      background-color: #E8F0FE;\n",
              "      border: none;\n",
              "      border-radius: 50%;\n",
              "      cursor: pointer;\n",
              "      display: none;\n",
              "      fill: #1967D2;\n",
              "      height: 32px;\n",
              "      padding: 0 0 0 0;\n",
              "      width: 32px;\n",
              "    }\n",
              "\n",
              "    .colab-df-convert:hover {\n",
              "      background-color: #E2EBFA;\n",
              "      box-shadow: 0px 1px 2px rgba(60, 64, 67, 0.3), 0px 1px 3px 1px rgba(60, 64, 67, 0.15);\n",
              "      fill: #174EA6;\n",
              "    }\n",
              "\n",
              "    [theme=dark] .colab-df-convert {\n",
              "      background-color: #3B4455;\n",
              "      fill: #D2E3FC;\n",
              "    }\n",
              "\n",
              "    [theme=dark] .colab-df-convert:hover {\n",
              "      background-color: #434B5C;\n",
              "      box-shadow: 0px 1px 3px 1px rgba(0, 0, 0, 0.15);\n",
              "      filter: drop-shadow(0px 1px 2px rgba(0, 0, 0, 0.3));\n",
              "      fill: #FFFFFF;\n",
              "    }\n",
              "  </style>\n",
              "\n",
              "      <script>\n",
              "        const buttonEl =\n",
              "          document.querySelector('#df-13669a29-6b07-4cf1-9f54-7549aa7dad55 button.colab-df-convert');\n",
              "        buttonEl.style.display =\n",
              "          google.colab.kernel.accessAllowed ? 'block' : 'none';\n",
              "\n",
              "        async function convertToInteractive(key) {\n",
              "          const element = document.querySelector('#df-13669a29-6b07-4cf1-9f54-7549aa7dad55');\n",
              "          const dataTable =\n",
              "            await google.colab.kernel.invokeFunction('convertToInteractive',\n",
              "                                                     [key], {});\n",
              "          if (!dataTable) return;\n",
              "\n",
              "          const docLinkHtml = 'Like what you see? Visit the ' +\n",
              "            '<a target=\"_blank\" href=https://colab.research.google.com/notebooks/data_table.ipynb>data table notebook</a>'\n",
              "            + ' to learn more about interactive tables.';\n",
              "          element.innerHTML = '';\n",
              "          dataTable['output_type'] = 'display_data';\n",
              "          await google.colab.output.renderOutput(dataTable, element);\n",
              "          const docLink = document.createElement('div');\n",
              "          docLink.innerHTML = docLinkHtml;\n",
              "          element.appendChild(docLink);\n",
              "        }\n",
              "      </script>\n",
              "    </div>\n",
              "  </div>\n",
              "  "
            ]
          },
          "metadata": {},
          "execution_count": 107
        }
      ],
      "source": [
        "# Number of defaults for each catagories of PAY_6\n",
        "defaultWrangling.getDefaultCountsByCol('PAY_6').sort_values(by='default',ascending=False)"
      ]
    },
    {
      "cell_type": "markdown",
      "metadata": {
        "id": "MSa1f5Uengrz"
      },
      "source": [
        "### What all manipulations have you done and insights you found?"
      ]
    },
    {
      "cell_type": "markdown",
      "metadata": {
        "id": "LbyXE7I1olp8"
      },
      "source": [
        "1. First of all I renamed the columns and dropped the first row.\n",
        "\n",
        "2. Then I assigned customer's data which are predicted as default to a variable.\n",
        "\n",
        "3. After that I checked number of default for each category of SEX,  EDUCATION, MARRIAGE,   AGE,  PAY_0, PAY_2  to PAY 6.\n",
        "4. Converted columns from obj to int type.\n",
        "5. 6636 customers are predicted as default.\n",
        "6. BILL_AMT 0 to 6 and PAY_AMT 0 to 6 are deleted and created new columns total_bill_amt and total_paid_amt."
      ]
    },
    {
      "cell_type": "markdown",
      "metadata": {
        "id": "kVwn8kUezYVS"
      },
      "source": [
        "![Screenshot (1731).png](data:image/png;base64,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)![Screenshot (1730).png](data:image/png;base64,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)![Screenshot (1729).png](data:image/png;base64,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)"
      ]
    },
    {
      "cell_type": "markdown",
      "metadata": {
        "id": "GF8Ens_Soomf"
      },
      "source": [
        "## ***4. Data Vizualization, Storytelling & Experimenting with charts : Understand the relationships between variables***"
      ]
    },
    {
      "cell_type": "markdown",
      "metadata": {
        "id": "YLt6EN2bZ6dh"
      },
      "source": [
        "#### Functions to display charts."
      ]
    },
    {
      "cell_type": "code",
      "execution_count": null,
      "metadata": {
        "id": "UahPVa3IFSQH"
      },
      "outputs": [],
      "source": [
        "# Function to show Uni-variate pie chart show\n",
        "def uni_pie(df,col):\n",
        "  '''\n",
        "  takes dataset and column and shows the counts of values\n",
        "  '''\n",
        "  df[col].value_counts().plot.pie(autopct='%0.01f%%', colors={'pink','cyan'},shadow= True, explode=[0.01,0.01])\n",
        "  plt.show()"
      ]
    },
    {
      "cell_type": "code",
      "execution_count": null,
      "metadata": {
        "id": "_42noWNRG5eq"
      },
      "outputs": [],
      "source": [
        "# Function to show Uni-variate bar chart show\n",
        "fig_size = (18,3)\n",
        "def uni_bar(df,col):\n",
        "  df[col].value_counts().plot.bar(color= ['cyan','violet','green'],figsize=fig_size)\n",
        "  plt.title('Number of Customers for Each Type of '+col)\n",
        "  plt.xlabel(col)\n",
        "  plt.ylabel('Number of customers')\n",
        "  plt.show()\n",
        "\n",
        "# Function to visualize bi-variate chart\n",
        "def bi_bar(df,col1,col2):\n",
        "  df.groupby(col1)[col2].count().plot.bar(color=['cyan','violet','green'],figsize=(22,6))\n",
        "  plt.title('Number of defaults for each type of '+col1)\n",
        "  plt.xlabel(col1)\n",
        "  plt.ylabel('Number of '+col2)\n",
        "  plt.show()"
      ]
    },
    {
      "cell_type": "markdown",
      "metadata": {
        "id": "0wOQAZs5pc--"
      },
      "source": [
        "#### Chart - 1 - Pie Chart of Target feature"
      ]
    },
    {
      "cell_type": "code",
      "execution_count": null,
      "metadata": {
        "id": "7v_ESjsspbW7"
      },
      "outputs": [],
      "source": [
        "# Chart - 1 visualization code\n",
        "plt.rcParams['figure.figsize'] = (7,7)\n",
        "uni_pie(df,'default')"
      ]
    },
    {
      "cell_type": "markdown",
      "metadata": {
        "id": "K5QZ13OEpz2H"
      },
      "source": [
        "##### 1. Why did you pick the specific chart?"
      ]
    },
    {
      "cell_type": "markdown",
      "metadata": {
        "id": "XESiWehPqBRc"
      },
      "source": [
        "A pie chart expresses the part to whole relationship with the data. I picked this chart to see percentage of default and non default data."
      ]
    },
    {
      "cell_type": "markdown",
      "metadata": {
        "id": "lQ7QKXXCp7Bj"
      },
      "source": [
        "##### 2. What is/are the insight(s) found from the chart?"
      ]
    },
    {
      "cell_type": "markdown",
      "metadata": {
        "id": "C_j1G7yiqdRP"
      },
      "source": [
        "I found that 77.9% of customers are not predicted as default and 22.1% are predicted as default."
      ]
    },
    {
      "cell_type": "markdown",
      "metadata": {
        "id": "448CDAPjqfQr"
      },
      "source": [
        "##### 3. Will the gained insights help creating a positive business impact? \n",
        "Are there any insights that lead to negative growth? Justify with specific reason."
      ]
    },
    {
      "cell_type": "markdown",
      "metadata": {
        "id": "3cspy4FjqxJW"
      },
      "source": [
        "Yes, dataset is not balanced which will not give good accuracy when ML algorithm is applied. Since 22% of the customers are predicted as default therefore it is very risky in business point of view."
      ]
    },
    {
      "cell_type": "markdown",
      "metadata": {
        "id": "KSlN3yHqYklG"
      },
      "source": [
        "#### Chart - 2 - Pie chart for sex column"
      ]
    },
    {
      "cell_type": "code",
      "execution_count": null,
      "metadata": {
        "id": "R4YgtaqtYklH"
      },
      "outputs": [],
      "source": [
        "# Chart - 2 visualization code\n",
        "uni_pie(df,'SEX')"
      ]
    },
    {
      "cell_type": "code",
      "execution_count": null,
      "metadata": {
        "id": "BXuZUMchynFY"
      },
      "outputs": [],
      "source": [
        "uni_pie(df_defaulted,'SEX')"
      ]
    },
    {
      "cell_type": "markdown",
      "metadata": {
        "id": "t6dVpIINYklI"
      },
      "source": [
        "##### 1. Why did you pick the specific chart?"
      ]
    },
    {
      "cell_type": "markdown",
      "metadata": {
        "id": "5aaW0BYyYklI"
      },
      "source": [
        "A pie chart expresses part to whole relationship with the data therefore I picked this chart to see percentage of customers for each SEX group."
      ]
    },
    {
      "cell_type": "markdown",
      "metadata": {
        "id": "ijmpgYnKYklI"
      },
      "source": [
        "##### 2. What is/are the insight(s) found from the chart?"
      ]
    },
    {
      "cell_type": "markdown",
      "metadata": {
        "id": "PSx9atu2YklI"
      },
      "source": [
        "I found that 60.4% of customers havs gender 2 and 39.6% of are in gender 1. And 43.3% are default customers from category 1 and 56.7% are default from catagory 2."
      ]
    },
    {
      "cell_type": "markdown",
      "metadata": {
        "id": "-JiQyfWJYklI"
      },
      "source": [
        "##### 3. Will the gained insights help creating a positive business impact? \n",
        "Are there any insights that lead to negative growth? Justify with specific reason."
      ]
    },
    {
      "cell_type": "markdown",
      "metadata": {
        "id": "BcBbebzrYklV"
      },
      "source": [
        "39.6% customers are from SEX =1 and 60.4% are from 2 where 43.3% are default customers from category 1 and 56.7% default customers are from category 2. We can see that catagory 2 has more number of customers and also more number of default customers. "
      ]
    },
    {
      "cell_type": "markdown",
      "metadata": {
        "id": "EM7whBJCYoAo"
      },
      "source": [
        "#### Chart - 3 - Bar chart for EDUCATION"
      ]
    },
    {
      "cell_type": "code",
      "execution_count": null,
      "metadata": {
        "id": "t6GMdE67YoAp"
      },
      "outputs": [],
      "source": [
        "# Chart - 3 visualization code\n",
        "uni_bar(df,'EDUCATION')"
      ]
    },
    {
      "cell_type": "code",
      "execution_count": null,
      "metadata": {
        "id": "xvZRgvaw1bmF"
      },
      "outputs": [],
      "source": [
        "plt.yticks(np.arange(0,3301,300))\n",
        "uni_bar(df_defaulted,'EDUCATION')"
      ]
    },
    {
      "cell_type": "markdown",
      "metadata": {
        "id": "fge-S5ZAYoAp"
      },
      "source": [
        "##### 1. Why did you pick the specific chart?"
      ]
    },
    {
      "cell_type": "markdown",
      "metadata": {
        "id": "5dBItgRVYoAp"
      },
      "source": [
        "A bar chart shows value counts for different variables and I picked this chart to see number of customers for each catagories of education."
      ]
    },
    {
      "cell_type": "markdown",
      "metadata": {
        "id": "85gYPyotYoAp"
      },
      "source": [
        "##### 2. What is/are the insight(s) found from the chart?"
      ]
    },
    {
      "cell_type": "markdown",
      "metadata": {
        "id": "4jstXR6OYoAp"
      },
      "source": [
        "I found that about 14000 customers of catagory 2, approximately 11000 of catagory 1, approximately 6000 for catagory 3 and 0 to 20 for catagories 0,5,6. And from 2nd chart we can see that 2 has more than 3300 customers predicted as default, 1 has more 2100, 3 has about 1500, 5/6/4 has less than 100 customers are predicted as defaulte."
      ]
    },
    {
      "cell_type": "markdown",
      "metadata": {
        "id": "RoGjAbkUYoAp"
      },
      "source": [
        "##### 3. Will the gained insights help creating a positive business impact? \n",
        "Are there any insights that lead to negative growth? Justify with specific reason."
      ]
    },
    {
      "cell_type": "markdown",
      "metadata": {
        "id": "zfJ8IqMcYoAp"
      },
      "source": [
        "Catagory 1,2 and 3 type of customers are high in numbers. We have to focus more on them so that our risk can be redeced."
      ]
    },
    {
      "cell_type": "markdown",
      "metadata": {
        "id": "4Of9eVA-YrdM"
      },
      "source": [
        "#### Chart - 4 - Bar chart for Marriage column."
      ]
    },
    {
      "cell_type": "code",
      "execution_count": null,
      "metadata": {
        "id": "irlUoxc8YrdO"
      },
      "outputs": [],
      "source": [
        "# Chart - 4 visualization code\n",
        "uni_bar(df,'MARRIAGE')"
      ]
    },
    {
      "cell_type": "code",
      "execution_count": null,
      "metadata": {
        "id": "OBdPC-Oe2P27"
      },
      "outputs": [],
      "source": [
        "uni_bar(df_defaulted,'MARRIAGE')"
      ]
    },
    {
      "cell_type": "markdown",
      "metadata": {
        "id": "iky9q4vBYrdO"
      },
      "source": [
        "##### 1. Why did you pick the specific chart?"
      ]
    },
    {
      "cell_type": "markdown",
      "metadata": {
        "id": "aJRCwT6DYrdO"
      },
      "source": [
        "A bar chart shows value counts and frequency of the data so I picked this chart to see number of customers for each marriage type."
      ]
    },
    {
      "cell_type": "markdown",
      "metadata": {
        "id": "F6T5p64dYrdO"
      },
      "source": [
        "##### 2. What is/are the insight(s) found from the chart?"
      ]
    },
    {
      "cell_type": "markdown",
      "metadata": {
        "id": "Xx8WAJvtYrdO"
      },
      "source": [
        "Catagory 1 and 2 have more than 14000 customers, catagory 0 and 3 have just between 0 to 500 customers. And From 2nd chart and and 2 has approximately 3400 default customers for each, 3 and 0 have less than 100 customers predicted as default."
      ]
    },
    {
      "cell_type": "markdown",
      "metadata": {
        "id": "y-Ehk30pYrdP"
      },
      "source": [
        "##### 3. Will the gained insights help creating a positive business impact? \n",
        "Are there any insights that lead to negative growth? Justify with specific reason."
      ]
    },
    {
      "cell_type": "markdown",
      "metadata": {
        "id": "jLNxxz7MYrdP"
      },
      "source": [
        "Yes, Since catagory 0 and 3 have very less number of customers so instead of giving more attention for them we should give more attentions for  catagory 1 and 2 if number of churn is higher for 1 and 2 it will give a very big lose in the business."
      ]
    },
    {
      "cell_type": "markdown",
      "metadata": {
        "id": "PIIx-8_IphqN"
      },
      "source": [
        "#### Chart - 5 - Bar chart groupby MARRIAGE with default(bi-variate)"
      ]
    },
    {
      "cell_type": "code",
      "execution_count": null,
      "metadata": {
        "id": "FuC6jW-L3FTC"
      },
      "outputs": [],
      "source": [
        "# Chart - 7 visualization code\n",
        "df['MARRIAGE'].value_counts().plot.pie(autopct='%0.01f%%', colors={'pink','cyan'},shadow= True, explode=[0.01,0.01,.01,.01])\n",
        "plt.show()"
      ]
    },
    {
      "cell_type": "code",
      "execution_count": null,
      "metadata": {
        "id": "P1hYGJdx4rxs"
      },
      "outputs": [],
      "source": [
        "df_defaulted['MARRIAGE'].value_counts().plot.pie(autopct='%0.01f%%', colors={'pink','cyan'},shadow= True, explode=[0.01,0.01,.01,.01])\n",
        "plt.show()"
      ]
    },
    {
      "cell_type": "markdown",
      "metadata": {
        "id": "t27r6nlMphqO"
      },
      "source": [
        "##### 1. Why did you pick the specific chart?"
      ]
    },
    {
      "cell_type": "markdown",
      "metadata": {
        "id": "iv6ro40sphqO"
      },
      "source": [
        "A pie chart expresses part to whole relationship with the data therefore I picked this chart to see percentage of customers for each categories of Marriage."
      ]
    },
    {
      "cell_type": "markdown",
      "metadata": {
        "id": "r2jJGEOYphqO"
      },
      "source": [
        "##### 2. What is/are the insight(s) found from the chart?"
      ]
    },
    {
      "cell_type": "markdown",
      "metadata": {
        "id": "Po6ZPi4hphqO"
      },
      "source": [
        "48.3% of the customers are from 1, 50.3% from 2 and less than 2% are from 0 and 3."
      ]
    },
    {
      "cell_type": "markdown",
      "metadata": {
        "id": "b0JNsNcRphqO"
      },
      "source": [
        "##### 3. Will the gained insights help creating a positive business impact? \n",
        "Are there any insights that lead to negative growth? Justify with specific reason."
      ]
    },
    {
      "cell_type": "markdown",
      "metadata": {
        "id": "xvSq8iUTphqO"
      },
      "source": [
        "Yes, 1 and 2 has large number of customers predicted as churn which is bad for business. 0 and 3 are only few people are predicted as default they are not much dangerous for the business."
      ]
    },
    {
      "cell_type": "markdown",
      "metadata": {
        "id": "BZR9WyysphqO"
      },
      "source": [
        "#### Chart - 6 - Bar chart groupby PAY_0 with default(bi-variate)"
      ]
    },
    {
      "cell_type": "code",
      "execution_count": null,
      "metadata": {
        "id": "9wT58IPa5mtQ"
      },
      "outputs": [],
      "source": [
        "# Chart - 8 visualization code\n",
        "plt.yticks(np.arange(0,15001,1000))\n",
        "bi_bar(df,'PAY_0','default')"
      ]
    },
    {
      "cell_type": "code",
      "execution_count": null,
      "metadata": {
        "id": "TdPTWpAVphqO"
      },
      "outputs": [],
      "source": [
        "plt.yticks(np.arange(0,2000,100))\n",
        "bi_bar(df_defaulted,'PAY_0','default')"
      ]
    },
    {
      "cell_type": "markdown",
      "metadata": {
        "id": "jj7wYXLtphqO"
      },
      "source": [
        "##### 1. Why did you pick the specific chart?"
      ]
    },
    {
      "cell_type": "markdown",
      "metadata": {
        "id": "Ob8u6rCTphqO"
      },
      "source": [
        "A bar chart represents value counts of numbers for catagorical data so I picked this chart to see number of customers who predicted as default for each pay type."
      ]
    },
    {
      "cell_type": "markdown",
      "metadata": {
        "id": "eZrbJ2SmphqO"
      },
      "source": [
        "##### 2. What is/are the insight(s) found from the chart?"
      ]
    },
    {
      "cell_type": "markdown",
      "metadata": {
        "id": "mZtgC_hjphqO"
      },
      "source": [
        "-2 has more than 300, -1 has more than 800, 0 has more than 1800, 1 has more than 1200, 2 has more than 1750, 3 has almost 250, 4,5,6,7 and 8 have less than 100 customers who are predicted as default."
      ]
    },
    {
      "cell_type": "markdown",
      "metadata": {
        "id": "rFu4xreNphqO"
      },
      "source": [
        "##### 3. Will the gained insights help creating a positive business impact? \n",
        "Are there any insights that lead to negative growth? Justify with specific reason."
      ]
    },
    {
      "cell_type": "markdown",
      "metadata": {
        "id": "ey_0qi68phqO"
      },
      "source": [
        "Yes, -1,0,1 and 2 have very large number of customers are predicted as default which may lead business towards negative growth."
      ]
    },
    {
      "cell_type": "markdown",
      "metadata": {
        "id": "YJ55k-q6phqO"
      },
      "source": [
        "#### Chart - 7 - Bar chart groupby PAY_2 with default(bi-variate)"
      ]
    },
    {
      "cell_type": "code",
      "execution_count": null,
      "metadata": {
        "id": "B2aS4O1ophqO"
      },
      "outputs": [],
      "source": [
        "# Chart - 9 visualization code\n",
        "plt.yticks(np.arange(0,17000,1000))\n",
        "bi_bar(df,'PAY_2','default')"
      ]
    },
    {
      "cell_type": "code",
      "execution_count": null,
      "metadata": {
        "id": "q771jYfv6FwR"
      },
      "outputs": [],
      "source": [
        "plt.yticks(np.arange(0,2800,200))\n",
        "bi_bar(df_defaulted,'PAY_2','default')"
      ]
    },
    {
      "cell_type": "markdown",
      "metadata": {
        "id": "gCFgpxoyphqP"
      },
      "source": [
        "##### 1. Why did you pick the specific chart?"
      ]
    },
    {
      "cell_type": "markdown",
      "metadata": {
        "id": "TVxDimi2phqP"
      },
      "source": [
        "A bar chart represents value counts of numbers for catagorical data so I picked this chart to see number of customers who predicted as default for each pay type."
      ]
    },
    {
      "cell_type": "markdown",
      "metadata": {
        "id": "OVtJsKN_phqQ"
      },
      "source": [
        "##### 2. What is/are the insight(s) found from the chart?"
      ]
    },
    {
      "cell_type": "markdown",
      "metadata": {
        "id": "ngGi97qjphqQ"
      },
      "source": [
        "-2 has more than 650, -1 has more than 1000, 0 has more than 2500, 1 has less than 10, 2 has more than 2000, 3 has almost 250, 4,5,6,7 and 8 have less than 100 customers who are predicted as default."
      ]
    },
    {
      "cell_type": "markdown",
      "metadata": {
        "id": "lssrdh5qphqQ"
      },
      "source": [
        "##### 3. Will the gained insights help creating a positive business impact? \n",
        "Are there any insights that lead to negative growth? Justify with specific reason."
      ]
    },
    {
      "cell_type": "markdown",
      "metadata": {
        "id": "tBpY5ekJphqQ"
      },
      "source": [
        "Yes, -2,-1,0 and 2 have very large number of customers are predicted as default which may lead business towards negative growth."
      ]
    },
    {
      "cell_type": "markdown",
      "metadata": {
        "id": "U2RJ9gkRphqQ"
      },
      "source": [
        "#### Chart - 8 - Bar plot groupby default and LIMIT_BAL."
      ]
    },
    {
      "cell_type": "code",
      "execution_count": null,
      "metadata": {
        "id": "GM7a4YP4phqQ"
      },
      "outputs": [],
      "source": [
        "# Chart - 10 visualization code\n",
        "df.groupby(['default'])['LIMIT_BAL'].mean().plot.bar(figsize=(20,4),color=['cyan','violet'])\n",
        "plt.show()"
      ]
    },
    {
      "cell_type": "markdown",
      "metadata": {
        "id": "1M8mcRywphqQ"
      },
      "source": [
        "##### 1. Why did you pick the specific chart?"
      ]
    },
    {
      "cell_type": "markdown",
      "metadata": {
        "id": "8agQvks0phqQ"
      },
      "source": [
        "A bar chart shows frequency or value counts of the data and I used this chart to see mean of limit balance for defaulter and non defaulter."
      ]
    },
    {
      "cell_type": "markdown",
      "metadata": {
        "id": "tgIPom80phqQ"
      },
      "source": [
        "##### 2. What is/are the insight(s) found from the chart?"
      ]
    },
    {
      "cell_type": "markdown",
      "metadata": {
        "id": "Qp13pnNzphqQ"
      },
      "source": [
        "I found that mean limit balance for non defaulter is more than 175000 and mean limit balance for defaulter is less than 150000."
      ]
    },
    {
      "cell_type": "markdown",
      "metadata": {
        "id": "JMzcOPDDphqR"
      },
      "source": [
        "##### 3. Will the gained insights help creating a positive business impact? \n",
        "Are there any insights that lead to negative growth? Justify with specific reason."
      ]
    },
    {
      "cell_type": "markdown",
      "metadata": {
        "id": "R4Ka1PC2phqR"
      },
      "source": [
        "Customers who are predicted as default have less limit balance which is good for risk prespective."
      ]
    },
    {
      "cell_type": "markdown",
      "metadata": {
        "id": "x-EpHcCOp1ci"
      },
      "source": [
        "#### Chart - 9 - Pie chart groupby default and AGE."
      ]
    },
    {
      "cell_type": "code",
      "execution_count": null,
      "metadata": {
        "id": "mAQTIvtqp1cj"
      },
      "outputs": [],
      "source": [
        "# Chart - 11 visualization code\n",
        "df.groupby(['default'])['AGE'].mean().plot.pie(autopct='%0.01f%%', colors={'pink','cyan'},shadow= True, explode=[0.01,0.01])\n",
        "plt.show()"
      ]
    },
    {
      "cell_type": "markdown",
      "metadata": {
        "id": "X_VqEhTip1ck"
      },
      "source": [
        "##### 1. Why did you pick the specific chart?"
      ]
    },
    {
      "cell_type": "markdown",
      "metadata": {
        "id": "-vsMzt_np1ck"
      },
      "source": [
        "A pie chart expresses part-to-whole relationship with data and I picked this chart to see percentage of mean age for defaulter and non defaulter customers."
      ]
    },
    {
      "cell_type": "markdown",
      "metadata": {
        "id": "8zGJKyg5p1ck"
      },
      "source": [
        "##### 2. What is/are the insight(s) found from the chart?"
      ]
    },
    {
      "cell_type": "markdown",
      "metadata": {
        "id": "ZYdMsrqVp1ck"
      },
      "source": [
        "I found that mean age for both the case are approximately equal."
      ]
    },
    {
      "cell_type": "markdown",
      "metadata": {
        "id": "PVzmfK_Ep1ck"
      },
      "source": [
        "##### 3. Will the gained insights help creating a positive business impact? \n",
        "Are there any insights that lead to negative growth? Justify with specific reason."
      ]
    },
    {
      "cell_type": "markdown",
      "metadata": {
        "id": "druuKYZpp1ck"
      },
      "source": [
        "No."
      ]
    },
    {
      "cell_type": "markdown",
      "metadata": {
        "id": "n3dbpmDWp1ck"
      },
      "source": [
        "#### Chart - 10 - Pie chart groupby default and Total bill amount."
      ]
    },
    {
      "cell_type": "code",
      "execution_count": null,
      "metadata": {
        "id": "bwevp1tKp1ck"
      },
      "outputs": [],
      "source": [
        "# Chart - 12 visualization code\n",
        "df1.groupby(['default'])['total_bill_amt'].mean().plot.pie(autopct='%0.01f%%', colors={'pink','cyan'},shadow= True, explode=[0.01,0.01])\n",
        "plt.show()"
      ]
    },
    {
      "cell_type": "markdown",
      "metadata": {
        "id": "ylSl6qgtp1ck"
      },
      "source": [
        "##### 1. Why did you pick the specific chart?"
      ]
    },
    {
      "cell_type": "markdown",
      "metadata": {
        "id": "m2xqNkiQp1ck"
      },
      "source": [
        "A pie chart expresses part-to-whole relationship with data and I picked this chart to see percentage of mean of total bill amount for defaulter and non defaulter customers."
      ]
    },
    {
      "cell_type": "markdown",
      "metadata": {
        "id": "ZWILFDl5p1ck"
      },
      "source": [
        "##### 2. What is/are the insight(s) found from the chart?"
      ]
    },
    {
      "cell_type": "markdown",
      "metadata": {
        "id": "x-lUsV2mp1ck"
      },
      "source": [
        "Mean balance percentage for the customers who are defaulter is 48.9% and for non defaulter is 51.1%."
      ]
    },
    {
      "cell_type": "markdown",
      "metadata": {
        "id": "M7G43BXep1ck"
      },
      "source": [
        "##### 3. Will the gained insights help creating a positive business impact? \n",
        "Are there any insights that lead to negative growth? Justify with specific reason."
      ]
    },
    {
      "cell_type": "markdown",
      "metadata": {
        "id": "5wwDJXsLp1cl"
      },
      "source": [
        "No."
      ]
    },
    {
      "cell_type": "markdown",
      "metadata": {
        "id": "NC_X3p0fY2L0"
      },
      "source": [
        "#### Chart - 11 - Correlation Heatmap"
      ]
    },
    {
      "cell_type": "code",
      "execution_count": null,
      "metadata": {
        "id": "xyC9zolEZNRQ"
      },
      "outputs": [],
      "source": [
        "# Correlation Heatmap visualization code\n",
        "corr = df.corr()\n",
        "plt.rcParams['figure.figsize'] = (24,8)\n",
        "sns.heatmap(corr,annot=True,cmap='coolwarm')\n",
        "plt.show()"
      ]
    },
    {
      "cell_type": "markdown",
      "metadata": {
        "id": "UV0SzAkaZNRQ"
      },
      "source": [
        "##### 1. Why did you pick the specific chart?"
      ]
    },
    {
      "cell_type": "markdown",
      "metadata": {
        "id": "DVPuT8LYZNRQ"
      },
      "source": [
        "Correlation map shows relationship between variables therefore I picked this chart to see correlations."
      ]
    },
    {
      "cell_type": "markdown",
      "metadata": {
        "id": "YPEH6qLeZNRQ"
      },
      "source": [
        "##### 2. What is/are the insight(s) found from the chart?"
      ]
    },
    {
      "cell_type": "markdown",
      "metadata": {
        "id": "bfSqtnDqZNRR"
      },
      "source": [
        "I found that PAY_0,PAY_2,PAY3,PAY_4,PAY_5 and  PAY_6 are highly correlated with each other and also found that BILL_AMT_1,BILL_AMT2,BILL_AMT_3,BILL_AMT_4,BILL_AMT5 and BILL_AMT6 are also highly correlated with each other. Since they are highly correlated with independed variables therefore it is not ideal for Logistic regression."
      ]
    },
    {
      "cell_type": "markdown",
      "metadata": {
        "id": "q29F0dvdveiT"
      },
      "source": [
        "#### Chart - 12 - Pair Plot "
      ]
    },
    {
      "cell_type": "code",
      "execution_count": null,
      "metadata": {
        "id": "o58-TEIhveiU"
      },
      "outputs": [],
      "source": [
        "# Pair Plot visualization code\n",
        "# pair_cols = ['LIMIT_BAL','AGE','PAY_0','PAY_2','PAY_3','PAY_4','PAY_5','PAY_6','BILL_AMT1','BILL_AMT2','BILL_AMT3','BILL_AMT4','BILL_AMT5','BILL_AMT6',\n",
        "#              'PAY_AMT1','PAY_AMT2','PAY_AMT3','PAY_AMT4','PAY_AMT5','PAY_AMT6']\n",
        "pair_cols1 = ['LIMIT_BAL','AGE','PAY_0','PAY_2','PAY_3','PAY_4','PAY_5','PAY_6','total_bill_amt','total_paid_amt']\n",
        "sns.pairplot(df1[pair_cols1])\n",
        "plt.show()"
      ]
    },
    {
      "cell_type": "markdown",
      "metadata": {
        "id": "EXh0U9oCveiU"
      },
      "source": [
        "##### 1. Why did you pick the specific chart?"
      ]
    },
    {
      "cell_type": "markdown",
      "metadata": {
        "id": "eMmPjTByveiU"
      },
      "source": [
        "Pair chart shows relationship between different variables which is very helpful for selecting right pair of the features."
      ]
    },
    {
      "cell_type": "markdown",
      "metadata": {
        "id": "22aHeOlLveiV"
      },
      "source": [
        "##### 2. What is/are the insight(s) found from the chart?"
      ]
    },
    {
      "cell_type": "markdown",
      "metadata": {
        "id": "uPQ8RGwHveiV"
      },
      "source": [
        "I did not found there any linear relationship except few columns like pay_0,pay_2, pay_3 to pay_6."
      ]
    },
    {
      "cell_type": "markdown",
      "metadata": {
        "id": "g-ATYxFrGrvw"
      },
      "source": [
        "## ***5. Hypothesis Testing***"
      ]
    },
    {
      "cell_type": "markdown",
      "metadata": {
        "id": "Yfr_Vlr8HBkt"
      },
      "source": [
        "### Based on your chart experiments, define three hypothetical statements from the dataset. In the next three questions, perform hypothesis testing to obtain final conclusion about the statements through your code and statistical testing."
      ]
    },
    {
      "cell_type": "markdown",
      "metadata": {
        "id": "-7MS06SUHkB-"
      },
      "source": [
        "1. Customers who are predicted as defaulter has average limit balance is 130109\n",
        "2. Average age for defaulter and non defaulter is same that is 35.\n",
        "3. Total bill amount for defaulter and non defaulter is same 272428"
      ]
    },
    {
      "cell_type": "markdown",
      "metadata": {
        "id": "OnCjm7Ovs2sW"
      },
      "source": [
        "* z_proportion = (p_hat-p)/sqrt(pq/n)\n",
        "* z_mean = (sample_mean - population_mean)/(sigma/sqrt(n))\n",
        "* z_variance(chi2) = ((n-1)square(s))/square(sigma)"
      ]
    },
    {
      "cell_type": "code",
      "execution_count": null,
      "metadata": {
        "id": "PpYlaYtJZf_T"
      },
      "outputs": [],
      "source": [
        "# Funcction for calculaing z_proportion, z_mean, z_variance, normal_cdf, p_value and conclusion\n",
        "from numpy import math\n",
        "from scipy.stats import norm,ttest_1samp,ttest_ind\n",
        "def z_proportion(p_hat,p,n):\n",
        "  '''\n",
        "  Takes p_hat and p then calculate z proportion\n",
        "  '''\n",
        "  return (p_hat-p)/math.sqrt((p*(1-p))/n)\n",
        "\n",
        "def z_mean(s_mean,p_mean,sigma,n):\n",
        "  '''\n",
        "  Takes sample mean, population mean,sigma and size then calculate z mean\n",
        "  '''\n",
        "  return (s_mean-p_mean)/(sigma/math.sqrt(n))\n",
        "\n",
        "def z_variance(s,sigma,n):\n",
        "  '''\n",
        "  Takes standart daviation , sigma and n. Returns z variance.\n",
        "  '''\n",
        "  return ((n-1)*s**2)/sigma**2\n",
        "\n",
        "\n",
        "def get_norm_cdf(x):\n",
        "  return norm(0,1).cdf(x)\n",
        "\n",
        "\n",
        "def p_value(z,tail,hn,df,col,t=0):\n",
        "  if t!=1:\n",
        "    get_norm_cdf(z)\n",
        "    if tail =='l':\n",
        "      return z\n",
        "    elif tail == 'r':\n",
        "      return 1-z\n",
        "    elif tail == 'd':\n",
        "      if z>0.5:\n",
        "        return 2*(1-z)\n",
        "      else:\n",
        "        return 2*z\n",
        "    else:\n",
        "      return np.nan\n",
        "  else:\n",
        "    z,p_value = ttest_1samp(df[col],hn) \n",
        "    return p_value\n",
        "\n",
        "\n",
        "def conclusion(p):\n",
        "  significance_level = 0.05\n",
        "  if p > significance_level:\n",
        "    print('Failed to reject null hypothesis for p_value :',p)\n",
        "  else:\n",
        "    print('Null hypothesis is rejected successfully for p_value :',p)"
      ]
    },
    {
      "cell_type": "markdown",
      "metadata": {
        "id": "8yEUt7NnHlrM"
      },
      "source": [
        "### Hypothetical Statement - 1"
      ]
    },
    {
      "cell_type": "markdown",
      "metadata": {
        "id": "tEA2Xm5dHt1r"
      },
      "source": [
        "#### 1. State Your research hypothesis as a null hypothesis and alternate hypothesis."
      ]
    },
    {
      "cell_type": "markdown",
      "metadata": {
        "id": "HI9ZP0laH0D-"
      },
      "source": [
        "*Customers who are predicted as defaulter has average limit balance is equal to 130109*\n",
        "\n",
        "* Null hypothesis : H0: mean = 130109\n",
        "* Alternative hypothesis: H1: != 130109."
      ]
    },
    {
      "cell_type": "markdown",
      "metadata": {
        "id": "I79__PHVH19G"
      },
      "source": [
        "#### 2. Perform an appropriate statistical test."
      ]
    },
    {
      "cell_type": "code",
      "execution_count": null,
      "metadata": {
        "id": "oZrfquKtyian"
      },
      "outputs": [],
      "source": [
        "# Perform Statistical Test to obtain P-Value\n",
        "hypo1 = df[df['default']==1]\n",
        "# Get required parameters\n",
        "sample_mean = hypo1['LIMIT_BAL'].mean()\n",
        "hno = 130109\n",
        "n = len(hypo1)\n",
        "std = hypo1['LIMIT_BAL'].std()"
      ]
    },
    {
      "cell_type": "code",
      "execution_count": null,
      "metadata": {
        "id": "0s2_jGwJLemg"
      },
      "outputs": [],
      "source": [
        "# Get the z value\n",
        "z = z_mean(sample_mean,hno,std,n)\n",
        "# Get the p_value\n",
        "p = p_value(z,'d',hno,hypo1,'LIMIT_BAL',1)\n",
        "# Printing the conclusion\n",
        "conclusion(p)"
      ]
    },
    {
      "cell_type": "markdown",
      "metadata": {
        "id": "Ou-I18pAyIpj"
      },
      "source": [
        "##### Which statistical test have you done to obtain P-Value?"
      ]
    },
    {
      "cell_type": "markdown",
      "metadata": {
        "id": "s2U0kk00ygSB"
      },
      "source": [
        "I have used t_test to get p value and null hypothesis is failed to get rejected. Therefore the average limit balance for defaulter is 130109."
      ]
    },
    {
      "cell_type": "markdown",
      "metadata": {
        "id": "fF3858GYyt-u"
      },
      "source": [
        "##### Why did you choose the specific statistical test?"
      ]
    },
    {
      "cell_type": "code",
      "execution_count": null,
      "metadata": {
        "id": "MKHDQ8O-5pdL"
      },
      "outputs": [],
      "source": [
        "# get the mean and median\n",
        "print('Mean :',hypo1['LIMIT_BAL'].mean())\n",
        "print('Median :',hypo1['LIMIT_BAL'].median())"
      ]
    },
    {
      "cell_type": "markdown",
      "metadata": {
        "id": "HO4K0gP5y3B4"
      },
      "source": [
        "Since mean and median of the sample is not close to each other therefore I choosed t_test."
      ]
    },
    {
      "cell_type": "markdown",
      "metadata": {
        "id": "4_0_7-oCpUZd"
      },
      "source": [
        "### Hypothetical Statement - 2"
      ]
    },
    {
      "cell_type": "markdown",
      "metadata": {
        "id": "hwyV_J3ipUZe"
      },
      "source": [
        "#### 1. State Your research hypothesis as a null hypothesis and alternate hypothesis."
      ]
    },
    {
      "cell_type": "markdown",
      "metadata": {
        "id": "FnpLGJ-4pUZe"
      },
      "source": [
        "**Average age for defaulter and non defaulter is same that is 35.**\n",
        "* Null Hypothesis = H0:mean age of defaulter = mean age of non defaulter\n",
        "* Alternative Hypothesis = H1:mean age of defaulter != mean age of non defaulter"
      ]
    },
    {
      "cell_type": "markdown",
      "metadata": {
        "id": "3yB-zSqbpUZe"
      },
      "source": [
        "#### 2. Perform an appropriate statistical test."
      ]
    },
    {
      "cell_type": "code",
      "execution_count": null,
      "metadata": {
        "id": "sWxdNTXNpUZe"
      },
      "outputs": [],
      "source": [
        "# Perform Statistical Test to obtain P-Value\n",
        "samp1 = df[df['default']==1]\n",
        "samp2 = df[df['default']==0]\n",
        "stat,p = ttest_ind(samp1['AGE'],samp2['AGE'],alternative='two-sided',equal_var=False)"
      ]
    },
    {
      "cell_type": "code",
      "execution_count": null,
      "metadata": {
        "id": "6fj-XoQf8lBc"
      },
      "outputs": [],
      "source": [
        "if (p<0.025) & (p > .975):\n",
        "  print('Failed to reject null hypothesis for p_value :',p)\n",
        "else:\n",
        "  print('Null hypothesis is successfully rejected for p_value :',p)"
      ]
    },
    {
      "cell_type": "markdown",
      "metadata": {
        "id": "dEUvejAfpUZe"
      },
      "source": [
        "##### Which statistical test have you done to obtain P-Value?"
      ]
    },
    {
      "cell_type": "markdown",
      "metadata": {
        "id": "oLDrPz7HpUZf"
      },
      "source": [
        "I have done t_test statistic and Null hypothesis is successfully rejected for 0.020 p_value."
      ]
    },
    {
      "cell_type": "markdown",
      "metadata": {
        "id": "Fd15vwWVpUZf"
      },
      "source": [
        "##### Why did you choose the specific statistical test?"
      ]
    },
    {
      "cell_type": "code",
      "execution_count": null,
      "metadata": {
        "id": "Vo6W_0tgS7FX"
      },
      "outputs": [],
      "source": [
        "# Sample variance\n",
        "print('samp1 ',(samp1['AGE'].std())**2)\n",
        "print('samp2 ',(samp2['AGE'].std())**2)"
      ]
    },
    {
      "cell_type": "markdown",
      "metadata": {
        "id": "4xOGYyiBpUZf"
      },
      "source": [
        "I have used t_test because the variance of the two samples were not equal."
      ]
    },
    {
      "cell_type": "markdown",
      "metadata": {
        "id": "bn_IUdTipZyH"
      },
      "source": [
        "### Hypothetical Statement - 3"
      ]
    },
    {
      "cell_type": "markdown",
      "metadata": {
        "id": "49K5P_iCpZyH"
      },
      "source": [
        "#### 1. State Your research hypothesis as a null hypothesis and alternate hypothesis."
      ]
    },
    {
      "cell_type": "markdown",
      "metadata": {
        "id": "7gWI5rT9pZyH"
      },
      "source": [
        "**Mean of Total bill amount for defaulter and non defaulter is same 272428**"
      ]
    },
    {
      "cell_type": "markdown",
      "metadata": {
        "id": "Nff-vKELpZyI"
      },
      "source": [
        "#### 2. Perform an appropriate statistical test."
      ]
    },
    {
      "cell_type": "code",
      "execution_count": null,
      "metadata": {
        "id": "s6AnJQjtpZyI"
      },
      "outputs": [],
      "source": [
        "# Perform Statistical Test to obtain P-Value\n",
        "samp1 = df1[df1['default']==1]\n",
        "samp2 = df1[df1['default']==0]\n",
        "stat,p = ttest_ind(samp1['total_bill_amt'],samp2['total_bill_amt'],alternative='two-sided',equal_var=False)"
      ]
    },
    {
      "cell_type": "code",
      "execution_count": null,
      "metadata": {
        "id": "GiWLScxIQw4r"
      },
      "outputs": [],
      "source": [
        "if (p<0.025) & (p > .975):\n",
        "  print('Failed to reject null hypothesis for p_value :',p)\n",
        "else:\n",
        "  print('Null hypothesis is successfully rejected for p_value :',p)"
      ]
    },
    {
      "cell_type": "markdown",
      "metadata": {
        "id": "kLW572S8pZyI"
      },
      "source": [
        "##### Which statistical test have you done to obtain P-Value?"
      ]
    },
    {
      "cell_type": "markdown",
      "metadata": {
        "id": "ytWJ8v15pZyI"
      },
      "source": [
        "I have used t_test to get p_value and null hypothesis is successfully rejected for 0.029 p value."
      ]
    },
    {
      "cell_type": "markdown",
      "metadata": {
        "id": "dWbDXHzopZyI"
      },
      "source": [
        "##### Why did you choose the specific statistical test?"
      ]
    },
    {
      "cell_type": "code",
      "execution_count": null,
      "metadata": {
        "id": "1lJpAXpvT171"
      },
      "outputs": [],
      "source": [
        "# Sample variance\n",
        "print('samp1 ',(samp1['total_bill_amt'].std())**2)\n",
        "print('samp2 ',(samp2['total_bill_amt'].std())**2)"
      ]
    },
    {
      "cell_type": "markdown",
      "metadata": {
        "id": "M99G98V6pZyI"
      },
      "source": [
        "Variance of the two samples were not equal therefore I used t-test testing."
      ]
    },
    {
      "cell_type": "markdown",
      "metadata": {
        "id": "yLjJCtPM0KBk"
      },
      "source": [
        "## ***6. Feature Engineering & Data Pre-processing***"
      ]
    },
    {
      "cell_type": "markdown",
      "metadata": {
        "id": "xiyOF9F70UgQ"
      },
      "source": [
        "### 1. Handling Missing Values - Not required"
      ]
    },
    {
      "cell_type": "code",
      "execution_count": null,
      "metadata": {
        "id": "iRsAHk1K0fpS"
      },
      "outputs": [],
      "source": [
        "# Handling Missing Values & Missing Value Imputation\n",
        "# No need to handle missing values."
      ]
    },
    {
      "cell_type": "markdown",
      "metadata": {
        "id": "7wuGOrhz0itI"
      },
      "source": [
        "#### What all missing value imputation techniques have you used and why did you use those techniques?"
      ]
    },
    {
      "cell_type": "markdown",
      "metadata": {
        "id": "1ixusLtI0pqI"
      },
      "source": [
        "Answer Here."
      ]
    },
    {
      "cell_type": "markdown",
      "metadata": {
        "id": "id1riN9m0vUs"
      },
      "source": [
        "### 2. Handling Outliers"
      ]
    },
    {
      "cell_type": "code",
      "execution_count": null,
      "metadata": {
        "id": "jogEmUIA_92Q"
      },
      "outputs": [],
      "source": [
        "# Handling Outliers & Outlier treatments\n",
        "\n",
        "# Univariate outlier detection for column total_bill_amt\n",
        "df2 = df1.copy()\n",
        "print('Before outlier treatment',df2.shape)\n",
        "# Isolation forest\n",
        "outlier_detector = IsolationForest(contamination=.01,random_state=0)\n",
        "outlier_detector.fit(df2)\n",
        "# Predicting outliers and dropping them.\n",
        "df2['outlier'] = outlier_detector.predict(df2)\n",
        "df2 = df2[df2['outlier'] == 1]\n",
        "df2.drop(columns=['outlier'],inplace=True)\n",
        "print('After multi-variate outlier treatment',df2.shape)"
      ]
    },
    {
      "cell_type": "markdown",
      "metadata": {
        "id": "578E2V7j08f6"
      },
      "source": [
        "##### What all outlier treatment techniques have you used and why did you use those techniques?"
      ]
    },
    {
      "cell_type": "markdown",
      "metadata": {
        "id": "uGZz5OrT1HH-"
      },
      "source": [
        "First of all I did uni-varaite outlier detection for column LIMIT_BAL using lower and upper bond then I did multi-variate analysis for all columns using random forest algorithm."
      ]
    },
    {
      "cell_type": "markdown",
      "metadata": {
        "id": "89xtkJwZ18nB"
      },
      "source": [
        "### 3. Categorical Encoding"
      ]
    },
    {
      "cell_type": "code",
      "execution_count": null,
      "metadata": {
        "id": "21JmIYMG2hEo"
      },
      "outputs": [],
      "source": [
        "# Encode your categorical columns\n",
        "df2 = df1.copy()\n",
        "\n",
        "# One hot encoding for EDUCATION\n",
        "df2['EDUCATION_0'] = df2['EDUCATION'].apply(lambda x: 1 if x == 0 else 0)\n",
        "df2['EDUCATION_1'] = df2['EDUCATION'].apply(lambda x: 1 if x == 1 else 0)\n",
        "df2['EDUCATION_2'] = df2['EDUCATION'].apply(lambda x: 1 if x == 2 else 0)\n",
        "df2['EDUCATION_3'] = df2['EDUCATION'].apply(lambda x: 1 if x == 3 else 0)\n",
        "df2['EDUCATION_4'] = df2['EDUCATION'].apply(lambda x: 1 if x == 4 else 0)\n",
        "df2['EDUCATION_5'] = df2['EDUCATION'].apply(lambda x: 1 if x == 5 else 0)\n",
        "df2['EDUCATION_6'] = df2['EDUCATION'].apply(lambda x: 1 if x == 6 else 0)\n",
        "\n",
        "# One hot encoding for MARRIAGE\n",
        "df2['MARRIAGE_0'] = df2['MARRIAGE'].apply(lambda x : 1 if x == 0 else 0)\n",
        "df2['MARRIAGE_1'] = df2['MARRIAGE'].apply(lambda x : 1 if x == 1 else 0)\n",
        "df2['MARRIAGE_2'] = df2['MARRIAGE'].apply(lambda x : 1 if x == 2 else 0)\n",
        "df2['MARRIAGE_3'] = df2['MARRIAGE'].apply(lambda x : 1 if x == 3 else 0)\n",
        "\n",
        "# droping columns\n",
        "df2.drop(columns=['MARRIAGE','EDUCATION'], inplace=True)"
      ]
    },
    {
      "cell_type": "markdown",
      "metadata": {
        "id": "67NQN5KX2AMe"
      },
      "source": [
        "#### What all categorical encoding techniques have you used & why did you use those techniques?"
      ]
    },
    {
      "cell_type": "markdown",
      "metadata": {
        "id": "UDaue5h32n_G"
      },
      "source": [
        "I did one hot encoding for columns Education and Marriage. I decided to use one hot encoding technique because this technique is not biased."
      ]
    },
    {
      "cell_type": "markdown",
      "metadata": {
        "id": "-oLEiFgy-5Pf"
      },
      "source": [
        "### 4. Feature Manipulation & Selection"
      ]
    },
    {
      "cell_type": "markdown",
      "metadata": {
        "id": "C74aWNz2AliB"
      },
      "source": [
        "#### 1. Feature Manipulation"
      ]
    },
    {
      "cell_type": "code",
      "execution_count": null,
      "metadata": {
        "id": "h1qC4yhBApWC"
      },
      "outputs": [],
      "source": [
        "# Manipulate Features to minimize feature correlation and create new features\n",
        "\n",
        "#Multicollinearity\n",
        "def calc_vif(X):\n",
        "\n",
        "    # Calculating VIF\n",
        "    vif = pd.DataFrame()\n",
        "    vif[\"variables\"] = X.columns\n",
        "    vif[\"VIF\"] = [variance_inflation_factor(X.values, i) for i in range(X.shape[1])]\n",
        "\n",
        "    return(vif)\n",
        "# Columns with high vif\n",
        "high_vif_list = ['ID','default','MARRIAGE_2','EDUCATION_2','AGE']\n",
        "# Multicolinearitiy check\n",
        "calc_vif(df2[[i for i in df2.describe().columns if i not in high_vif_list ]])"
      ]
    },
    {
      "cell_type": "markdown",
      "metadata": {
        "id": "2DejudWSA-a0"
      },
      "source": [
        "#### 2. Feature Selection"
      ]
    },
    {
      "cell_type": "code",
      "execution_count": null,
      "metadata": {
        "id": "vYKRWD_pPnDi"
      },
      "outputs": [],
      "source": [
        "# Select your features wisely to avoid overfitting\n",
        "\n",
        "col_to_keep = ['LIMIT_BAL','SEX','PAY_0','PAY_2','PAY_3','PAY_4','PAY_5','PAY_6',\n",
        "               'EDUCATION_0','EDUCATION_1','EDUCATION_3','EDUCATION_4','EDUCATION_5','EDUCATION_6',\n",
        "               'MARRIAGE_0','MARRIAGE_1','MARRIAGE_3','total_bill_amt','total_paid_amt','default']"
      ]
    },
    {
      "cell_type": "markdown",
      "metadata": {
        "id": "pEMng2IbBLp7"
      },
      "source": [
        "##### What all feature selection methods have you used  and why?"
      ]
    },
    {
      "cell_type": "markdown",
      "metadata": {
        "id": "rb2Lh6Z8BgGs"
      },
      "source": [
        "I used vif_score to know what all important features because variance inflation factor shows how features are correlated with each other.\n"
      ]
    },
    {
      "cell_type": "markdown",
      "metadata": {
        "id": "rAdphbQ9Bhjc"
      },
      "source": [
        "##### Which all features you found important and why?"
      ]
    },
    {
      "cell_type": "markdown",
      "metadata": {
        "id": "fGgaEstsBnaf"
      },
      "source": [
        "I choosed these features because their vif scores are less than 6.\n",
        "* LIMIT_BAL\n",
        "* SEX\n",
        "* PAY_0,PAY_2,PAY_3,PAY_4,PAY_5,PAY_6\n",
        "* EDUCATION_0,EDUCATION_1,EDUCATION_3,EDUCATION_4,EDUCATION_5 and EDUCATION_6\n",
        "* MARRIAGE_0,MARRIAGE_1,MARRIAGE_3\n",
        "* total_bill_amt\n",
        "* total_paid_amt\n",
        "* default"
      ]
    },
    {
      "cell_type": "markdown",
      "metadata": {
        "id": "TNVZ9zx19K6k"
      },
      "source": [
        "### 5. Data Transformation"
      ]
    },
    {
      "cell_type": "markdown",
      "metadata": {
        "id": "nqoHp30x9hH9"
      },
      "source": [
        "#### Do you think that your data needs to be transformed? If yes, which transformation have you used. Explain Why?"
      ]
    },
    {
      "cell_type": "code",
      "execution_count": null,
      "metadata": {
        "id": "EDc2n5iFBTXB"
      },
      "outputs": [],
      "source": [
        "# # Log transformation\n",
        "# df3 = df2.copy()\n",
        "# df3['total_paid_amt'] = np.log10(df3['total_paid_amt']+1)\n",
        "# df3['LIMIT_BAL'] = np.log10(df3['LIMIT_BAL']+1)"
      ]
    },
    {
      "cell_type": "code",
      "execution_count": null,
      "metadata": {
        "id": "w3Jt_4lyhOuN"
      },
      "outputs": [],
      "source": [
        "# Log transformation\n",
        "df3 = df2[col_to_keep].copy()\n",
        "df3['total_paid_amt'] = np.log10(df3['total_paid_amt']+1)\n",
        "df3['LIMIT_BAL'] = np.log10(df3['LIMIT_BAL']+1)"
      ]
    },
    {
      "cell_type": "markdown",
      "metadata": {
        "id": "Kbo6u02mSFR1"
      },
      "source": [
        "In my case data transformation is not needed I tried after and before data transformation I am getting same results but my above columns are not close to normal distributions that is the reason behind doing data transformation."
      ]
    },
    {
      "cell_type": "markdown",
      "metadata": {
        "id": "rMDnDkt2B6du"
      },
      "source": [
        "### 6. Data Scaling"
      ]
    },
    {
      "cell_type": "code",
      "execution_count": null,
      "metadata": {
        "id": "So4T5N_hQJ9b"
      },
      "outputs": [],
      "source": [
        "# Scaling your data\n",
        "col_to_scale = ['LIMIT_BAL','total_bill_amt','total_paid_amt']\n",
        "scaled_values = MinMaxScaler().fit_transform(df3[col_to_scale])\n",
        "for col in range(len(col_to_scale)):\n",
        "    df3[col_to_scale[col]] = scaled_values[:,col]"
      ]
    },
    {
      "cell_type": "code",
      "execution_count": null,
      "metadata": {
        "id": "LvmmO9jAgg6l"
      },
      "outputs": [],
      "source": [
        "# X and Y variables\n",
        "X = df3.drop(columns=['default']).values\n",
        "y = df3['default'].values"
      ]
    },
    {
      "cell_type": "markdown",
      "metadata": {
        "id": "yiiVWRdJDDil"
      },
      "source": [
        "##### Which method have you used to scale you data and why?"
      ]
    },
    {
      "cell_type": "markdown",
      "metadata": {
        "id": "dkenJArISwEY"
      },
      "source": [
        "I used minmax scaler to scale my data because my data is not following normal distribution and form minmax scaler I just need to know min and max values."
      ]
    },
    {
      "cell_type": "markdown",
      "metadata": {
        "id": "1UUpS68QDMuG"
      },
      "source": [
        "### 7. Dimesionality Reduction - We have very limited features therefore it does not requires dimentionality reduction."
      ]
    },
    {
      "cell_type": "markdown",
      "metadata": {
        "id": "kexQrXU-DjzY"
      },
      "source": [
        "##### Do you think that dimensionality reduction is needed? Explain Why?"
      ]
    },
    {
      "cell_type": "markdown",
      "metadata": {
        "id": "GGRlBsSGDtTQ"
      },
      "source": [
        "Dimentionality reduction is not needed."
      ]
    },
    {
      "cell_type": "code",
      "execution_count": null,
      "metadata": {
        "id": "Son2IefoQg-n"
      },
      "outputs": [],
      "source": [
        "# # DImensionality Reduction (If needed)\n",
        "# from sklearn.decomposition import PCA\n",
        "# pca = PCA(n_components=18,random_state=1)\n",
        "# X = pca.fit(X)\n",
        "# pca.explained_variance_ratio_"
      ]
    },
    {
      "cell_type": "markdown",
      "metadata": {
        "id": "T5CmagL3EC8N"
      },
      "source": [
        "##### Which dimensionality reduction technique have you used and why? (If dimensionality reduction done on dataset.)"
      ]
    },
    {
      "cell_type": "markdown",
      "metadata": {
        "id": "ZKr75IDuEM7t"
      },
      "source": [
        "Answer Here."
      ]
    },
    {
      "cell_type": "markdown",
      "metadata": {
        "id": "BhH2vgX9EjGr"
      },
      "source": [
        "### 8. Data Splitting"
      ]
    },
    {
      "cell_type": "code",
      "execution_count": null,
      "metadata": {
        "id": "0CTyd2UwEyNM"
      },
      "outputs": [],
      "source": [
        "# Split your data to train and test. Choose Splitting ratio wisely.\n",
        "\n",
        "xtrain,xtest,ytrain,ytest = train_test_split(X,y,test_size=.2,random_state=0)"
      ]
    },
    {
      "cell_type": "markdown",
      "metadata": {
        "id": "qjKvONjwE8ra"
      },
      "source": [
        "##### What data splitting ratio have you used and why? "
      ]
    },
    {
      "cell_type": "markdown",
      "metadata": {
        "id": "Y2lJ8cobFDb_"
      },
      "source": [
        "I took 20% for testing and 80% for training purpose because I have very limited amount of data and we need huge amount of data for making a better model."
      ]
    },
    {
      "cell_type": "markdown",
      "metadata": {
        "id": "P1XJ9OREExlT"
      },
      "source": [
        "### 9. Handling Imbalanced Dataset"
      ]
    },
    {
      "cell_type": "markdown",
      "metadata": {
        "id": "VFOzZv6IFROw"
      },
      "source": [
        "##### Do you think the dataset is imbalanced? Explain Why."
      ]
    },
    {
      "cell_type": "code",
      "execution_count": null,
      "metadata": {
        "id": "RjaeP1CMUKd3"
      },
      "outputs": [],
      "source": [
        "# Get number of observations for each catagory\n",
        "df['default'].value_counts()"
      ]
    },
    {
      "cell_type": "markdown",
      "metadata": {
        "id": "GeKDIv7pFgcC"
      },
      "source": [
        "Yes, 23,364 observations are from class 0 and only 6636 are from class 1 therefore our dataset is not balanced we will have to make the dataset balance else it might show better accuracy score but in real the accuracy might be wrong or the model will learn nothing."
      ]
    },
    {
      "cell_type": "code",
      "execution_count": null,
      "metadata": {
        "id": "nQsRhhZLFiDs"
      },
      "outputs": [],
      "source": [
        "# Handling Imbalanced Dataset (If needed)\n",
        "\n",
        "smote = SMOTE(random_state=0)\n",
        "xsmote,ysmote =smote.fit_resample(xtrain,ytrain)\n",
        "xtrain,xtest,ytrain,ytest = train_test_split(xsmote,ysmote,random_state=0,test_size=.2)"
      ]
    },
    {
      "cell_type": "markdown",
      "metadata": {
        "id": "TIqpNgepFxVj"
      },
      "source": [
        "##### What technique did you use to handle the imbalance dataset and why? (If needed to be balanced)"
      ]
    },
    {
      "cell_type": "markdown",
      "metadata": {
        "id": "qbet1HwdGDTz"
      },
      "source": [
        "I am using SMOTE technique to make my dataset balanced. Since I have only limited amount of data  therefore I cannot use under sampling therefore I am using over sampling using smote algorith because  this algorithm make dummy data same like real observations."
      ]
    },
    {
      "cell_type": "markdown",
      "metadata": {
        "id": "VfCC591jGiD4"
      },
      "source": [
        "## ***7. ML Model Implementation***"
      ]
    },
    {
      "cell_type": "markdown",
      "metadata": {
        "id": "-plBLBxXq-A9"
      },
      "source": [
        "#### Function to display matrix."
      ]
    },
    {
      "cell_type": "code",
      "execution_count": null,
      "metadata": {
        "id": "1wDOhke9A_pt"
      },
      "outputs": [],
      "source": [
        "# Function to show confusion metrics\n",
        "def show_cm(cm,label=''):\n",
        "  try:\n",
        "    labels = ['Normal','Default']\n",
        "    sns.heatmap(cm,annot=True,cmap='coolwarm',fmt='d')\n",
        "    plt.title(label+' Confusion matrix')\n",
        "    plt.show()\n",
        "  except:\n",
        "    print('Invalid input')"
      ]
    },
    {
      "cell_type": "markdown",
      "metadata": {
        "id": "OB4l2ZhMeS1U"
      },
      "source": [
        "### ML Model - 1 - Logistic Regression"
      ]
    },
    {
      "cell_type": "code",
      "execution_count": null,
      "metadata": {
        "id": "_gWHsdbLADh8"
      },
      "outputs": [],
      "source": [
        "# ML Model - 1 Implementation\n",
        "logisticRegression = LogisticRegression(random_state=0)\n",
        "# Fit the Algorithm\n",
        "logisticRegression.fit(xtrain,ytrain)\n",
        "# Predict on the model\n",
        "pred_train = logisticRegression.predict(xtrain)\n",
        "pred_test = logisticRegression.predict(xtest)"
      ]
    },
    {
      "cell_type": "code",
      "execution_count": null,
      "metadata": {
        "id": "k44BmlUbW1l-"
      },
      "outputs": [],
      "source": [
        "# Checking coefficients of the model\n",
        "logisticRegression.coef_"
      ]
    },
    {
      "cell_type": "code",
      "execution_count": null,
      "metadata": {
        "id": "wlhMXIzpW74l"
      },
      "outputs": [],
      "source": [
        "# Checking Intercept\n",
        "logisticRegression.intercept_"
      ]
    },
    {
      "cell_type": "code",
      "execution_count": null,
      "metadata": {
        "id": "IYa24AVleqlK"
      },
      "outputs": [],
      "source": [
        "# Get the accuracy scores\n",
        "train_accuracy = accuracy_score(pred_train,ytrain)\n",
        "test_accuracy = accuracy_score(pred_test,ytest)\n",
        "print('The accuracy score on train data is :',train_accuracy)\n",
        "print('The accuracy score on test data is :',test_accuracy)"
      ]
    },
    {
      "cell_type": "markdown",
      "metadata": {
        "id": "ArJBuiUVfxKd"
      },
      "source": [
        "#### 1. Explain the ML Model used and it's performance using Evaluation metric Score Chart."
      ]
    },
    {
      "cell_type": "code",
      "execution_count": null,
      "metadata": {
        "id": "U3af7r8lALzB"
      },
      "outputs": [],
      "source": [
        "# Visualizing evaluation Metric Score chart\n",
        "plt.rcParams['figure.figsize'] = (8,2)\n",
        "# Confusion matrix for train\n",
        "cm = confusion_matrix(ytrain,pred_train)\n",
        "show_cm(cm,'Train')\n",
        "print('')\n",
        "# Confusion matrix for test\n",
        "cm = confusion_matrix(ytest,pred_test)\n",
        "show_cm(cm,'Test')"
      ]
    },
    {
      "cell_type": "code",
      "execution_count": null,
      "metadata": {
        "id": "_zL7uFUlctHA"
      },
      "outputs": [],
      "source": [
        "# Prediction report\n",
        "print(metrics.classification_report(ytrain,pred_train))\n",
        "\n",
        "print('roc_auc score')\n",
        "roc_auc_score(ytrain, pred_train)"
      ]
    },
    {
      "cell_type": "code",
      "execution_count": null,
      "metadata": {
        "id": "hP65TI40d3jS"
      },
      "outputs": [],
      "source": [
        "# Prediction report\n",
        "print(metrics.classification_report(ytest,pred_test))\n",
        "\n",
        "print('roc_auc score')\n",
        "roc_auc_score(ytest, pred_test)"
      ]
    },
    {
      "cell_type": "markdown",
      "metadata": {
        "id": "F2cU-mVKYpPZ"
      },
      "source": [
        "1. Logististic Regression is very simple machine learning algorithm for classification. The model is so simple therefore it is not able to leanrn complexity of the dataset and giving poor accuracy.\n",
        "2. Result for the Train data : \n",
        "  * Accuracy .71\n",
        "  * TP: 8452 and TN: 11515\n",
        "  * FP: 2446 and FN: 5578\n",
        "  * precision for class_0 is .67 and for class_1 is .78\n",
        "  * recall for class_0 .82 and for class_1 is .60\n",
        "3. Result for the Test data:\n",
        "  * Accuracy .70\n",
        "  * TP: 2730 and TN: 3835\n",
        "  * FP: 865 and FN: 1901\n",
        "  * precision for class_0 is .67 and for class_1 is .76\n",
        "  * recall fpr class_0 .82 and for class_1 is .59\n",
        "  4. Since all the scores of train data is very close to train data therefore the model is not overfitting."
      ]
    },
    {
      "cell_type": "markdown",
      "metadata": {
        "id": "TKucSw2_jkVE"
      },
      "source": [
        "![Screenshot (1730).png](data:image/png;base64,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)"
      ]
    },
    {
      "cell_type": "markdown",
      "metadata": {
        "id": "4qY1EAkEfxKe"
      },
      "source": [
        "#### 2. Cross- Validation & Hyperparameter Tuning"
      ]
    },
    {
      "cell_type": "code",
      "execution_count": null,
      "metadata": {
        "id": "0n32dTa2eIsW"
      },
      "outputs": [],
      "source": [
        "# ML Model - 1 Implementation with hyperparameter optimization techniques (i.e., GridSearch CV, RandomSearch CV, Bayesian Optimization etc.)\n",
        "\n",
        "grid_param = {'C': [1000,200,20,2,0.2,0.02],'random_state':[1],'penalty':['l1','l2'],'max_iter':[2000]}\n",
        "# grid_param = {'var_smoothing': np.arange(1e-9,1,.1)}\n",
        "logisticGrid = GridSearchCV(logisticRegression,param_grid=grid_param,cv=50,scoring='f1',verbose=2)\n",
        "# Fit the Algorithm\n",
        "logisticGrid.fit(xtrain,ytrain)\n",
        "bestLogisticEstimator = logisticGrid.best_estimator_\n",
        "# Predict on the model\n",
        "pred_train = bestLogisticEstimator.predict(xtrain)\n",
        "pred_test = bestLogisticEstimator.predict(xtest)"
      ]
    },
    {
      "cell_type": "code",
      "execution_count": null,
      "metadata": {
        "id": "D8TIjinQZ29_"
      },
      "outputs": [],
      "source": [
        "# Get best paramets\n",
        "logisticGrid.best_params_"
      ]
    },
    {
      "cell_type": "code",
      "execution_count": null,
      "metadata": {
        "id": "-AV0wKD1fz5J"
      },
      "outputs": [],
      "source": [
        "# Get the accuracy score\n",
        "train_accuracy = accuracy_score(pred_train,ytrain)\n",
        "test_accuracy = accuracy_score(pred_test,ytest)\n",
        "print('The accuracy score on train data is :',train_accuracy)\n",
        "print('The accuracy score on test data is :',test_accuracy)"
      ]
    },
    {
      "cell_type": "code",
      "execution_count": null,
      "metadata": {
        "id": "PH1RwDLcghB0"
      },
      "outputs": [],
      "source": [
        "# Prediction report\n",
        "print(metrics.classification_report(ytrain,pred_train))\n",
        "\n",
        "print('roc_auc score')\n",
        "roc_auc_score(ytrain, pred_train)"
      ]
    },
    {
      "cell_type": "code",
      "execution_count": null,
      "metadata": {
        "id": "HKSQdzz4gjnF"
      },
      "outputs": [],
      "source": [
        "# Prediction report\n",
        "print(metrics.classification_report(ytest,pred_test))\n",
        "\n",
        "print('roc_auc score')\n",
        "roc_auc_score(ytest, pred_test)"
      ]
    },
    {
      "cell_type": "markdown",
      "metadata": {
        "id": "PiV4Ypx8fxKe"
      },
      "source": [
        "##### Which hyperparameter optimization technique have you used and why?"
      ]
    },
    {
      "cell_type": "markdown",
      "metadata": {
        "id": "negyGRa7fxKf"
      },
      "source": [
        "I am using these parametere:\n",
        "* C - To get more accurate score.\n",
        "* random_state - To avoid different results for each run.\n",
        "* penalty - To regulate coefficients.\n",
        "* max_iter - To limit number of iterations."
      ]
    },
    {
      "cell_type": "markdown",
      "metadata": {
        "id": "TfvqoZmBfxKf"
      },
      "source": [
        "##### Have you seen any improvement? Note down the improvement with updates Evaluation metric Score Chart."
      ]
    },
    {
      "cell_type": "markdown",
      "metadata": {
        "id": "OaLui8CcfxKf"
      },
      "source": [
        "As we can see the results before and after cross validation is same therefore I did not find any improvement."
      ]
    },
    {
      "cell_type": "markdown",
      "metadata": {
        "id": "SyaT99Bmk3p5"
      },
      "source": [
        "![Screenshot (1730).png](data:image/png;base64,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)"
      ]
    },
    {
      "cell_type": "markdown",
      "metadata": {
        "id": "dJ2tPlVmpsJ0"
      },
      "source": [
        "### ML Model - 2 - Decission Tree Classifier"
      ]
    },
    {
      "cell_type": "code",
      "execution_count": null,
      "metadata": {
        "id": "hvhmJe4-AXx9"
      },
      "outputs": [],
      "source": [
        "# ML Model - 2 Implementation\n",
        "decisionTreeClassifier = DecisionTreeClassifier(random_state=0)\n",
        "# Fit the Algorithm\n",
        "decisionTreeClassifier.fit(xtrain,ytrain)\n",
        "# Predict on the model\n",
        "pred_train = decisionTreeClassifier.predict(xtrain)\n",
        "pred_test = decisionTreeClassifier.predict(xtest)"
      ]
    },
    {
      "cell_type": "code",
      "execution_count": null,
      "metadata": {
        "id": "u_uY9LRrhWfK"
      },
      "outputs": [],
      "source": [
        "# Get the accuracy scores\n",
        "train_accuracy = accuracy_score(pred_train,ytrain)\n",
        "test_accuracy = accuracy_score(pred_test,ytest)\n",
        "print('The accuracy score on train data is :',train_accuracy)\n",
        "print('The accuracy score on test data is :',test_accuracy)"
      ]
    },
    {
      "cell_type": "markdown",
      "metadata": {
        "id": "JWYfwnehpsJ1"
      },
      "source": [
        "#### 1. Explain the ML Model used and it's performance using Evaluation metric Score Chart."
      ]
    },
    {
      "cell_type": "code",
      "execution_count": null,
      "metadata": {
        "id": "yEl-hgQWpsJ1"
      },
      "outputs": [],
      "source": [
        "# Visualizing evaluation Metric Score chart\n",
        "\n",
        "# Confusion matrix for train\n",
        "cm = confusion_matrix(ytrain,pred_train)\n",
        "show_cm(cm,'Train')\n",
        "print(' ')\n",
        "# Confusion matrix for test\n",
        "cm = confusion_matrix(ytest,pred_test)\n",
        "show_cm(cm,'Test')"
      ]
    },
    {
      "cell_type": "code",
      "execution_count": null,
      "metadata": {
        "id": "Tc98PR8Miym2"
      },
      "outputs": [],
      "source": [
        "# Prediction report\n",
        "print(metrics.classification_report(ytrain,pred_train))\n",
        "\n",
        "print('roc_auc score')\n",
        "roc_auc_score(ytrain, pred_train)"
      ]
    },
    {
      "cell_type": "code",
      "execution_count": null,
      "metadata": {
        "id": "9EDrKNnVi0aS"
      },
      "outputs": [],
      "source": [
        "# Prediction report\n",
        "print(metrics.classification_report(ytest,pred_test))\n",
        "\n",
        "print('roc_auc score')\n",
        "roc_auc_score(ytest, pred_test)"
      ]
    },
    {
      "cell_type": "markdown",
      "metadata": {
        "id": "0pb3mzcxKydE"
      },
      "source": [
        "1. Desicion Tree is very good choice when the patterns of the data is not understandable or not linear but problem is that Decision tree alway try to find next best split therefore it leads the model towards overfitting.\n",
        "2. Result for the Train data : \n",
        "  * Accuracy 1.00\n",
        "  * TP: 14030 and TN: 13961\n",
        "  * FP: 0 and FN: 0\n",
        "  * precision for class_0 is 1 and for class_1 is 1\n",
        "  * recall for class_0 1.00 and for class_1 is 1.00\n",
        "3. Result for the Test data:\n",
        "  * Accuracy .80\n",
        "  * TP: 3719 and TN: 4429\n",
        "  * FP: 271 and FN: 912\n",
        "  * precision for class_0 is .81 and for class_1 is .81\n",
        "  * recall fpr class_0 .81 and for class_1 is .81\n",
        "  4. Since all scores for train data are much higher than test data therefore the model is overfitting."
      ]
    },
    {
      "cell_type": "markdown",
      "metadata": {
        "id": "lzzKTfv7lTbH"
      },
      "source": [
        "![Screenshot (1732).png](data:image/png;base64,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)"
      ]
    },
    {
      "cell_type": "markdown",
      "metadata": {
        "id": "-jK_YjpMpsJ2"
      },
      "source": [
        "#### 2. Cross- Validation & Hyperparameter Tuning"
      ]
    },
    {
      "cell_type": "code",
      "execution_count": null,
      "metadata": {
        "id": "olTea_Paew8r"
      },
      "outputs": [],
      "source": [
        "# ML Model - 2 Implementation with hyperparameter optimization techniques (i.e., GridSearch CV, RandomSearch CV, Bayesian Optimization etc.)\n",
        "\n",
        "# Fitting Decision Tree\n",
        "grid_param = {'max_depth' : [2,3,4,5,6,7,8,9], 'min_samples_leaf' : [3,4,5,6,7],'min_samples_split':[4]}\n",
        "dtcGrid = GridSearchCV(decisionTreeClassifier,param_grid=grid_param,cv=10,verbose=2)\n",
        "# Fit the Algorithm\n",
        "dtcGrid.fit(xtrain,ytrain)\n",
        "bestDtcEstimator = dtcGrid.best_estimator_\n",
        "# Predict on the model\n",
        "pred_train = bestDtcEstimator.predict(xtrain)\n",
        "pred_test = bestDtcEstimator.predict(xtest)"
      ]
    },
    {
      "cell_type": "code",
      "execution_count": null,
      "metadata": {
        "id": "_S585XxZywFM"
      },
      "outputs": [],
      "source": [
        "decisionTreeClassifier.get_params()"
      ]
    },
    {
      "cell_type": "code",
      "execution_count": null,
      "metadata": {
        "id": "DslcE_OLye4Z"
      },
      "outputs": [],
      "source": [
        "dtcGrid.best_params_"
      ]
    },
    {
      "cell_type": "code",
      "execution_count": null,
      "metadata": {
        "id": "8ad9fNbxeqYk"
      },
      "outputs": [],
      "source": [
        "# Get the accuracy scores\n",
        "train_accuracy = accuracy_score(pred_train,ytrain)\n",
        "test_accuracy = accuracy_score(pred_test,ytest)\n",
        "print('The accuracy score on train data is :',train_accuracy)\n",
        "print('The accuracy score on test data is :',test_accuracy)"
      ]
    },
    {
      "cell_type": "code",
      "execution_count": null,
      "metadata": {
        "id": "KsnJvhajuNCU"
      },
      "outputs": [],
      "source": [
        "# Visualizing evaluation Metric Score chart\n",
        "\n",
        "# Confusion matrix for train\n",
        "cm = confusion_matrix(ytrain,pred_train)\n",
        "show_cm(cm,'Train')\n",
        "print(' ')\n",
        "# Confusion matrix for test\n",
        "cm = confusion_matrix(ytest,pred_test)\n",
        "show_cm(cm,'Test')"
      ]
    },
    {
      "cell_type": "code",
      "execution_count": null,
      "metadata": {
        "id": "emCI-yXifHYD"
      },
      "outputs": [],
      "source": [
        "# Prediction report\n",
        "print(metrics.classification_report(ytrain,pred_train))\n",
        "\n",
        "print('roc_auc score')\n",
        "roc_auc_score(ytrain, pred_train)"
      ]
    },
    {
      "cell_type": "code",
      "execution_count": null,
      "metadata": {
        "id": "2gjfC6KtOZeE"
      },
      "outputs": [],
      "source": [
        "# Prediction report\n",
        "print(metrics.classification_report(ytest,pred_test))\n",
        "\n",
        "print('roc_auc score')\n",
        "roc_auc_score(ytest, pred_test)"
      ]
    },
    {
      "cell_type": "markdown",
      "metadata": {
        "id": "HAih1iBOpsJ2"
      },
      "source": [
        "##### Which hyperparameter optimization technique have you used and why?"
      ]
    },
    {
      "cell_type": "markdown",
      "metadata": {
        "id": "9kBgjYcdpsJ2"
      },
      "source": [
        "Hyper parameters I used are blow :\n",
        "* max_depth : This parameter is useful to stop overfittng and do not let the tree be grown further than the fixed limit.\n",
        "* min_samples_leaf : This hyper parameter is useful when we want to set a minimum leaf of a branch, it will not split further if the number of leaf is less than the set value."
      ]
    },
    {
      "cell_type": "markdown",
      "metadata": {
        "id": "zVGeBEFhpsJ2"
      },
      "source": [
        "##### Have you seen any improvement? Note down the improvement with updates Evaluation metric Score Chart."
      ]
    },
    {
      "cell_type": "markdown",
      "metadata": {
        "id": "74yRdG6UpsJ3"
      },
      "source": [
        "1. Yes, before the model was overfittng but after cross validation our train accuracy decreased from 100% to 87% and test accuracy is increased from 81% to 85%.\n",
        "##### These scores are only for class_1\n",
        "2. Train f1_score decreased from 100% to 86% and test score increased from 81% to 84%.\n",
        "3. Train roc_auc decreased form 100% to 87% and Test roc_auc is increased from 80% to 85%.\n",
        "4. Train precision is decreased from 100% to 92% and Test precision increased from 81% to 91%.\n",
        "5. Train recall is decreased from 100% to 81% and test recall is also decreased from 81% to 79%.\n",
        "6. The model is now not overfitting and this model is better than before cross validation."
      ]
    },
    {
      "cell_type": "markdown",
      "metadata": {
        "id": "v5_428XPlxEJ"
      },
      "source": [
        "![Screenshot (1732).png](data:image/png;base64,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)"
      ]
    },
    {
      "cell_type": "markdown",
      "metadata": {
        "id": "Fze-IPXLpx6K"
      },
      "source": [
        "### ML Model - 3 - XGBoostClassifier"
      ]
    },
    {
      "cell_type": "code",
      "execution_count": null,
      "metadata": {
        "id": "GU34f82oAwsE"
      },
      "outputs": [],
      "source": [
        "# ML Model - 3 Implementation\n",
        "xgbClassifier = XGBClassifier(random_state=0)\n",
        "# Fit the Algorithm\n",
        "xgbClassifier.fit(xtrain,ytrain)\n",
        "# Predict on the model\n",
        "pred_train = xgbClassifier.predict(xtrain)\n",
        "pred_test = xgbClassifier.predict(xtest)"
      ]
    },
    {
      "cell_type": "code",
      "execution_count": null,
      "metadata": {
        "id": "-IH8w4a5jJOk"
      },
      "outputs": [],
      "source": [
        "# Get the accuracy scores\n",
        "train_accuracy = accuracy_score(pred_train,ytrain)\n",
        "test_accuracy = accuracy_score(pred_test,ytest)\n",
        "print('The accuracy score on train data is :',train_accuracy)\n",
        "print('The accuracy score on test data is :',test_accuracy)"
      ]
    },
    {
      "cell_type": "markdown",
      "metadata": {
        "id": "7AN1z2sKpx6M"
      },
      "source": [
        "#### 1. Explain the ML Model used and it's performance using Evaluation metric Score Chart."
      ]
    },
    {
      "cell_type": "code",
      "execution_count": null,
      "metadata": {
        "id": "1w1Q8LFMCJ39"
      },
      "outputs": [],
      "source": [
        "# Visualizing evaluation Metric Score chart\n",
        "\n",
        "# Confusion matrix for train\n",
        "cm = confusion_matrix(ytrain,pred_train)\n",
        "show_cm(cm,'Train')\n",
        "print(' ')\n",
        "# Confusion matrix for test\n",
        "cm = confusion_matrix(ytest,pred_test)\n",
        "show_cm(cm,'Test')"
      ]
    },
    {
      "cell_type": "code",
      "execution_count": null,
      "metadata": {
        "id": "_ZIqUaoIjd-h"
      },
      "outputs": [],
      "source": [
        "# Prediction report\n",
        "print(metrics.classification_report(ytrain,pred_train))\n",
        "\n",
        "print('roc_auc score')\n",
        "roc_auc_score(ytrain, pred_train)"
      ]
    },
    {
      "cell_type": "code",
      "execution_count": null,
      "metadata": {
        "id": "z57VjrfnjhCU"
      },
      "outputs": [],
      "source": [
        "# Prediction report\n",
        "print(metrics.classification_report(ytest,pred_test))\n",
        "\n",
        "print('roc_auc score')\n",
        "roc_auc_score(ytest, pred_test)"
      ]
    },
    {
      "cell_type": "markdown",
      "metadata": {
        "id": "GDYL2A4gUN4r"
      },
      "source": [
        "1. Here I am using XGBoost Classifier model to build the model as I got there good result.\n",
        "\n",
        "2. Result for the Train data : \n",
        "  * Accuracy .88\n",
        "  * TP: 11532 and TN: 13129\n",
        "  * FP: 832 and FN: 2498\n",
        "  * precision for class_0 is .84 and for class_1 is .93\n",
        "  * recall for class_0 .94 and for class_1 is .82\n",
        "3. Result for the Test data:\n",
        "  * Accuracy .87\n",
        "  * TP: 3719 and TN: 4429\n",
        "  * FP: 271 and FN: 912\n",
        "  * precision for class_0 is .83 and for class_1 is .93\n",
        "  * recall fpr class_0 .94 and for class_1 is .80\n",
        "  4. Since all scores for train data are very close to test data then we can say that the  model is not overfitting."
      ]
    },
    {
      "cell_type": "markdown",
      "metadata": {
        "id": "4XhatYXql6Hj"
      },
      "source": [
        "![Screenshot (1734).png](data:image/png;base64,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)"
      ]
    },
    {
      "cell_type": "markdown",
      "metadata": {
        "id": "9PIHJqyupx6M"
      },
      "source": [
        "#### 2. Cross- Validation & Hyperparameter Tuning"
      ]
    },
    {
      "cell_type": "code",
      "execution_count": null,
      "metadata": {
        "id": "3_T7ZrDTfRia"
      },
      "outputs": [],
      "source": [
        "# ML Model - 3 Implementation with hyperparameter optimization techniques (i.e., GridSearch CV, RandomSearch CV, Bayesian Optimization etc.)\n",
        "grid_param = {'n_estimators':[200],'max_depth' : [4],'learning_rate':[.42]}\n",
        "xgbClassifierGrid= GridSearchCV(xgbClassifier, param_grid=grid_param,cv=5, verbose=2)\n",
        "# Fit the Algorithm\n",
        "xgbClassifierGrid.fit(xtrain,ytrain)\n",
        "bestXgbClassifierEstimator = xgbClassifierGrid.best_estimator_\n",
        "# Predict on the model\n",
        "pred_train = bestXgbClassifierEstimator.predict(xtrain)\n",
        "pred_test = bestXgbClassifierEstimator.predict(xtest)"
      ]
    },
    {
      "cell_type": "code",
      "execution_count": null,
      "metadata": {
        "id": "gYjWprloQsh3"
      },
      "outputs": [],
      "source": [
        "# Get the best parameters\n",
        "xgbClassifierGrid.best_params_"
      ]
    },
    {
      "cell_type": "code",
      "execution_count": null,
      "metadata": {
        "id": "Zhwsyo5ifklJ"
      },
      "outputs": [],
      "source": [
        "# Get the accuracy scores\n",
        "train_accuracy = accuracy_score(pred_train,ytrain)\n",
        "test_accuracy = accuracy_score(pred_test,ytest)\n",
        "print('The accuracy score on train data is :',train_accuracy)\n",
        "print('The accuracy score on test data is :',test_accuracy)"
      ]
    },
    {
      "cell_type": "code",
      "execution_count": null,
      "metadata": {
        "id": "ZNmS25NpwKQj"
      },
      "outputs": [],
      "source": [
        "# Visualizing evaluation Metric Score chart\n",
        "\n",
        "# Confusion matrix for train\n",
        "cm = confusion_matrix(ytrain,pred_train)\n",
        "show_cm(cm,'Train')\n",
        "print(' ')\n",
        "# Confusion matrix for test\n",
        "cm = confusion_matrix(ytest,pred_test)\n",
        "show_cm(cm,'Test')"
      ]
    },
    {
      "cell_type": "code",
      "execution_count": null,
      "metadata": {
        "id": "yyipESJikA_U"
      },
      "outputs": [],
      "source": [
        "# Prediction report\n",
        "print(metrics.classification_report(ytrain,pred_train))\n",
        "\n",
        "print('roc_auc score')\n",
        "roc_auc_score(ytrain, pred_train)"
      ]
    },
    {
      "cell_type": "code",
      "execution_count": null,
      "metadata": {
        "id": "mWghs_J2Kv2F"
      },
      "outputs": [],
      "source": [
        "# Prediction report\n",
        "print(metrics.classification_report(ytest,pred_test))\n",
        "\n",
        "print('roc_auc score')\n",
        "roc_auc_score(ytest, pred_test)"
      ]
    },
    {
      "cell_type": "markdown",
      "metadata": {
        "id": "_-qAgymDpx6N"
      },
      "source": [
        "##### Which hyperparameter optimization technique have you used and why?"
      ]
    },
    {
      "cell_type": "markdown",
      "metadata": {
        "id": "lQMffxkwpx6N"
      },
      "source": [
        "***I have used the hyperparameters are given below:***\n",
        "1. max_depth : To avoid overfitting\n",
        "2. learning_rate : To get more accurate result\n",
        "3. n_estimators : To control accuracy"
      ]
    },
    {
      "cell_type": "markdown",
      "metadata": {
        "id": "Z-hykwinpx6N"
      },
      "source": [
        "##### Have you seen any improvement? Note down the improvement with updates Evaluation metric Score Chart."
      ]
    },
    {
      "cell_type": "markdown",
      "metadata": {
        "id": "MzVzZC6opx6N"
      },
      "source": [
        "Yes, I have seen improvements but these improvements are not enough just 1% accuracy, f1 score and recall are increased."
      ]
    },
    {
      "cell_type": "markdown",
      "metadata": {
        "id": "ld5DH9QImS4D"
      },
      "source": [
        "![Screenshot (1734).png](data:image/png;base64,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)"
      ]
    },
    {
      "cell_type": "markdown",
      "metadata": {
        "id": "h_CCil-SKHpo"
      },
      "source": [
        "### 1. Which Evaluation metrics did you consider for a positive business impact and why?"
      ]
    },
    {
      "cell_type": "markdown",
      "metadata": {
        "id": "jHVz9hHDKFms"
      },
      "source": [
        "I would like to go with recall, precision and f1_score\n",
        "1. To reduced false negative recall is and false positive precision is very important for us to minimize them.\n",
        "2. False negative is defined as the model predicted non defaulter but actually it is defaulter and false positive is defined as the model predicted defaulter but in real those are non defaulter.\n",
        "3. In our case recall is very important because any single customer who is left from predicting defaulter but in acrual that customer is defaulter it may lead to very big lose for our business. Therefore our recall should be higher and precision can not  be neglected too and our f1_score should be moderate."
      ]
    },
    {
      "cell_type": "markdown",
      "metadata": {
        "id": "cBFFvTBNJzUa"
      },
      "source": [
        "### 2. Which ML model did you choose from the above created models as your final prediction model and why?"
      ]
    },
    {
      "cell_type": "markdown",
      "metadata": {
        "id": "6ksF5Q1LKTVm"
      },
      "source": [
        "**Here I would like to go with XGBoost Classifier**\n",
        "1. First of we need good  accuracy and for better accuracy I tried Logistic regression, Decision tree and XGBoost.\n",
        "2. Since XGBoost is giving best accuracy therfore I would like to choose XGBoost.\n",
        "3. From the score card we can see XGBoost is giving best accuracy.\n",
        "4. Scores for all models are below."
      ]
    },
    {
      "cell_type": "markdown",
      "metadata": {
        "id": "Af7Ev5rIlfvW"
      },
      "source": [
        "![Screenshot (1736).png](data:image/png;base64,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)"
      ]
    },
    {
      "cell_type": "markdown",
      "metadata": {
        "id": "HvGl1hHyA_VK"
      },
      "source": [
        "### 3. Explain the model which you have used and the feature importance using any model explainability tool?"
      ]
    },
    {
      "cell_type": "markdown",
      "metadata": {
        "id": "YnvVTiIxBL-C"
      },
      "source": [
        "Answer Here."
      ]
    },
    {
      "cell_type": "code",
      "execution_count": null,
      "metadata": {
        "id": "DsWb2r8poZP5"
      },
      "outputs": [],
      "source": [
        "pip install shap"
      ]
    },
    {
      "cell_type": "code",
      "execution_count": null,
      "metadata": {
        "id": "AtaBHUizP7B9"
      },
      "outputs": [],
      "source": [
        "import shap\n",
        "explainer = shap.Explainer(bestXgbClassifierEstimator)\n",
        "shap_values = explainer(xtest)"
      ]
    },
    {
      "cell_type": "code",
      "execution_count": null,
      "metadata": {
        "id": "Kukl0biNb8xB"
      },
      "outputs": [],
      "source": [
        "shap.plots.waterfall(shap_values[0])"
      ]
    },
    {
      "cell_type": "code",
      "execution_count": null,
      "metadata": {
        "id": "Bg-l-Akmrk37"
      },
      "outputs": [],
      "source": [
        "# Initialize JavaScript visualizations in notebook environment\n",
        "shap.initjs()\n",
        "# Forceplot for first observation\n",
        "shap.plots.force(shap_values[0])"
      ]
    },
    {
      "cell_type": "code",
      "execution_count": null,
      "metadata": {
        "id": "Vq-KLBLasxwm"
      },
      "outputs": [],
      "source": [
        "shap.plots.bar(shap_values)"
      ]
    },
    {
      "cell_type": "code",
      "execution_count": null,
      "metadata": {
        "id": "XtJBZsFZMcVr"
      },
      "outputs": [],
      "source": [
        "shap.plots.beeswarm(shap_values)"
      ]
    },
    {
      "cell_type": "code",
      "execution_count": null,
      "metadata": {
        "id": "V5d75L_9eKEL"
      },
      "outputs": [],
      "source": [
        "pip install eli5"
      ]
    },
    {
      "cell_type": "code",
      "execution_count": null,
      "metadata": {
        "id": "6dwacp9VeXm9"
      },
      "outputs": [],
      "source": [
        "import eli5\n",
        "eli5.show_weights(bestXgbClassifierEstimator)"
      ]
    },
    {
      "cell_type": "code",
      "execution_count": null,
      "metadata": {
        "id": "5GKA8L-OgYg7"
      },
      "outputs": [],
      "source": [
        "df3.columns"
      ]
    },
    {
      "cell_type": "markdown",
      "metadata": {
        "id": "EyNgTHvd2WFk"
      },
      "source": [
        "## ***8.*** ***Future Work (Optional)***"
      ]
    },
    {
      "cell_type": "markdown",
      "metadata": {
        "id": "KH5McJBi2d8v"
      },
      "source": [
        "### 1. Save the best performing ml model in a pickle file or joblib file format for deployment process.\n"
      ]
    },
    {
      "cell_type": "code",
      "execution_count": null,
      "metadata": {
        "id": "bQIANRl32f4J"
      },
      "outputs": [],
      "source": [
        "# Save the File"
      ]
    },
    {
      "cell_type": "markdown",
      "metadata": {
        "id": "iW_Lq9qf2h6X"
      },
      "source": [
        "### 2. Again Load the saved model file and try to predict unseen data for a sanity check.\n"
      ]
    },
    {
      "cell_type": "code",
      "execution_count": null,
      "metadata": {
        "id": "oEXk9ydD2nVC"
      },
      "outputs": [],
      "source": [
        "# Load the File and predict unseen data."
      ]
    },
    {
      "cell_type": "markdown",
      "metadata": {
        "id": "-Kee-DAl2viO"
      },
      "source": [
        "### ***Congrats! Your model is successfully created and ready for deployment on a live server for a real user interaction !!!***"
      ]
    },
    {
      "cell_type": "markdown",
      "metadata": {
        "id": "gCX9965dhzqZ"
      },
      "source": [
        "# **Conclusion**"
      ]
    },
    {
      "cell_type": "markdown",
      "metadata": {
        "id": "Fjb1IsQkh3yE"
      },
      "source": [
        "1. Columns' name of the dataset  were not meaningfull therefore I renamed them.\n",
        "2. Data type of the columns were not in or float type therefore I converted them into int type.\n",
        "3. BILL_AMT 1 to 6 can be deleted and made new column total bill amt and also PAY_AMT 1 to 6 can be deleted and made new column total paid amt.\n",
        "4. 22.1% of the total customers are predicted as default and 77.9% of them are predicted as non defalut.\n",
        "5. 60.4% of total customers are belonging from gender 2 and 39.6% are from gender 1.\n",
        "6. We can deploy the model with XGBoost algorithm because for precision for training data 94% for testing data 93%, recall for training data 83% for testing data 81%, f1_score for training data is 88% for testing data 87%, roc_auc_score for training data 88% for testing data 87% and accuracy for training data is 89% for testing data 88%.\n",
        "7. No overfitting is seen."
      ]
    },
    {
      "cell_type": "markdown",
      "metadata": {
        "id": "gIfDvo9L0UH2"
      },
      "source": [
        "### ***Hurrah! You have successfully completed your Machine Learning Capstone Project !!!***"
      ]
    }
  ],
  "metadata": {
    "colab": {
      "provenance": []
    },
    "kernelspec": {
      "display_name": "Python 3",
      "name": "python3"
    },
    "language_info": {
      "name": "python"
    }
  },
  "nbformat": 4,
  "nbformat_minor": 0
}